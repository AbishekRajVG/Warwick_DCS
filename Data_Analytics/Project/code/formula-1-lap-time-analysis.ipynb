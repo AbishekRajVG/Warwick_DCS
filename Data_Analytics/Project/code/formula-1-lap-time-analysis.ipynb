{
 "cells": [
  {
   "cell_type": "markdown",
   "id": "6e1414d7",
   "metadata": {
    "papermill": {
     "duration": 0.01691,
     "end_time": "2022-04-15T21:53:18.139960",
     "exception": false,
     "start_time": "2022-04-15T21:53:18.123050",
     "status": "completed"
    },
    "tags": []
   },
   "source": [
    "# Setup"
   ]
  },
  {
   "cell_type": "code",
   "execution_count": 1,
   "id": "9efa98a2",
   "metadata": {
    "_cell_guid": "b1076dfc-b9ad-4769-8c92-a6c4dae69d19",
    "_kg_hide-input": true,
    "_kg_hide-output": true,
    "_uuid": "8f2839f25d086af736a60e9eeb907d3b93b6e0e5",
    "execution": {
     "iopub.execute_input": "2022-04-15T21:53:18.183508Z",
     "iopub.status.busy": "2022-04-15T21:53:18.178403Z",
     "iopub.status.idle": "2022-04-15T21:53:20.264380Z",
     "shell.execute_reply": "2022-04-15T21:53:20.264878Z",
     "shell.execute_reply.started": "2022-04-15T21:52:40.530103Z"
    },
    "papermill": {
     "duration": 2.108024,
     "end_time": "2022-04-15T21:53:20.265168",
     "exception": false,
     "start_time": "2022-04-15T21:53:18.157144",
     "status": "completed"
    },
    "tags": []
   },
   "outputs": [
    {
     "name": "stdout",
     "output_type": "stream",
     "text": [
      "../data/kaggle/circuits.csv\n",
      "../data/kaggle/status.csv\n",
      "../data/kaggle/lap_times.csv\n",
      "../data/kaggle/sprint_results.csv\n",
      "../data/kaggle/drivers.csv\n",
      "../data/kaggle/races.csv\n",
      "../data/kaggle/constructors.csv\n",
      "../data/kaggle/constructor_standings.csv\n",
      "../data/kaggle/qualifying.csv\n",
      "../data/kaggle/driver_standings.csv\n",
      "../data/kaggle/constructor_results.csv\n",
      "../data/kaggle/pit_stops.csv\n",
      "../data/kaggle/seasons.csv\n",
      "../data/kaggle/results.csv\n"
     ]
    }
   ],
   "source": [
    "import numpy as np # linear algebra\n",
    "import pandas as pd # data processing, CSV file I/O (e.g. pd.read_csv)\n",
    "import datetime as dt\n",
    "import matplotlib.pyplot as plt\n",
    "import seaborn as sns\n",
    "import plotly.graph_objects as go\n",
    "import plotly.express as px\n",
    "\n",
    "import os\n",
    "fnames = []\n",
    "fpaths = []\n",
    "for dirname, _, filenames in os.walk('../data/kaggle/'):\n",
    "    for filename in filenames:\n",
    "        fnames.append(filename.split('.')[0])\n",
    "        fpaths.append(os.path.join(dirname, filename))\n",
    "        print(os.path.join(dirname, filename))"
   ]
  },
  {
   "cell_type": "markdown",
   "id": "dbea46bf",
   "metadata": {
    "papermill": {
     "duration": 0.017305,
     "end_time": "2022-04-15T21:53:20.300662",
     "exception": false,
     "start_time": "2022-04-15T21:53:20.283357",
     "status": "completed"
    },
    "tags": []
   },
   "source": [
    "## Read Data"
   ]
  },
  {
   "cell_type": "code",
   "execution_count": 3,
   "id": "672df15d",
   "metadata": {
    "execution": {
     "iopub.execute_input": "2022-04-15T21:53:20.339563Z",
     "iopub.status.busy": "2022-04-15T21:53:20.338952Z",
     "iopub.status.idle": "2022-04-15T21:53:21.211458Z",
     "shell.execute_reply": "2022-04-15T21:53:21.210794Z",
     "shell.execute_reply.started": "2022-04-15T21:52:40.547312Z"
    },
    "papermill": {
     "duration": 0.893082,
     "end_time": "2022-04-15T21:53:21.211614",
     "exception": false,
     "start_time": "2022-04-15T21:53:20.318532",
     "status": "completed"
    },
    "tags": []
   },
   "outputs": [],
   "source": [
    "# Read data\n",
    "fpath = '../data/kaggle/'\n",
    "circuits = pd.read_csv(f'{fpath}circuits.csv', index_col=0, na_values=r'\\N')\n",
    "constructorResults = pd.read_csv(f'{fpath}constructor_results.csv', index_col=0, na_values=r'\\N')\n",
    "constructors = pd.read_csv(f'{fpath}constructors.csv', index_col=0, na_values=r'\\N')\n",
    "constructorStandings = pd.read_csv(f'{fpath}constructor_standings.csv', index_col=0, na_values=r'\\N')\n",
    "drivers = pd.read_csv(f'{fpath}drivers.csv', index_col=0, na_values=r'\\N')\n",
    "driverStandings = pd.read_csv(f'{fpath}driver_standings.csv', index_col=0, na_values=r'\\N')\n",
    "lapTimes = pd.read_csv(f'{fpath}lap_times.csv')\n",
    "pitStops = pd.read_csv(f'{fpath}pit_stops.csv')\n",
    "qualifying = pd.read_csv(f'{fpath}qualifying.csv', index_col=0, na_values=r'\\N')\n",
    "races = pd.read_csv(f'{fpath}races.csv', na_values=r'\\N')\n",
    "results = pd.read_csv(f'{fpath}results.csv', index_col=0, na_values=r'\\N')\n",
    "seasons = pd.read_csv(f'{fpath}seasons.csv', index_col=0, na_values=r'\\N')\n",
    "status = pd.read_csv(f'{fpath}status.csv', index_col=0, na_values=r'\\N')"
   ]
  },
  {
   "cell_type": "code",
   "execution_count": 6,
   "id": "5344ba42",
   "metadata": {
    "execution": {
     "iopub.execute_input": "2022-04-15T21:53:21.272650Z",
     "iopub.status.busy": "2022-04-15T21:53:21.272053Z",
     "iopub.status.idle": "2022-04-15T21:53:21.466867Z",
     "shell.execute_reply": "2022-04-15T21:53:21.466337Z",
     "shell.execute_reply.started": "2022-04-15T21:52:41.156113Z"
    },
    "papermill": {
     "duration": 0.237168,
     "end_time": "2022-04-15T21:53:21.467017",
     "exception": false,
     "start_time": "2022-04-15T21:53:21.229849",
     "status": "completed"
    },
    "tags": []
   },
   "outputs": [],
   "source": [
    "# Post-read in formatting\n",
    "circuits = circuits.rename(columns={'name':'circuitName','location':'circuitLocation','country':'circuitCountry','url':'circuitUrl'})\n",
    "drivers = drivers.rename(columns={'number':'driverNumber','nationality':'driverNationality','url':'driverUrl'})\n",
    "drivers['driverName'] = drivers['forename']+' '+drivers['surname']\n",
    "constructors = constructors.rename(columns={'name':'constructorName','nationality':'constructorNationality','url':'constructorUrl'})\n",
    "races['date'] = races['date'].apply(lambda x: dt.datetime.strptime(x,'%Y-%m-%d'))\n",
    "races = races.rename(columns={'year':'raceYear','name':'raceName','date':'raceDate','time':'raceTime','url':'raceUrl','round':'raceRound'})\n",
    "lapTimes = lapTimes.rename(columns={'time':'lapTime','position':'lapPosition','milliseconds':'lapMilliseconds'})\n",
    "lapTimes['lapSeconds'] = lapTimes['lapMilliseconds'].apply(lambda x: x/1000)\n",
    "pitStops = pitStops.rename(columns={'time':'pitTime','milliseconds':'pitMilliseconds'})\n",
    "pitStops['pitSeconds'] = pitStops['pitMilliseconds'].apply(lambda x: x/1000)\n",
    "results = results.rename(columns={'position':'resultsPosition','time':'resultsTime','milliseconds':'resultsMilliseconds','number':'resultsNumber'})\n",
    "results['resultsSeconds'] = results['resultsMilliseconds'].apply(lambda x: x/1000)"
   ]
  },
  {
   "cell_type": "markdown",
   "id": "6fcc61be",
   "metadata": {
    "papermill": {
     "duration": 0.017524,
     "end_time": "2022-04-15T21:53:21.502039",
     "exception": false,
     "start_time": "2022-04-15T21:53:21.484515",
     "status": "completed"
    },
    "tags": []
   },
   "source": [
    "Color coding for constructors"
   ]
  },
  {
   "cell_type": "code",
   "execution_count": 7,
   "id": "d6cd0390",
   "metadata": {
    "_kg_hide-input": true,
    "_kg_hide-output": true,
    "execution": {
     "iopub.execute_input": "2022-04-15T21:53:21.543492Z",
     "iopub.status.busy": "2022-04-15T21:53:21.542794Z",
     "iopub.status.idle": "2022-04-15T21:53:21.545201Z",
     "shell.execute_reply": "2022-04-15T21:53:21.545583Z",
     "shell.execute_reply.started": "2022-04-15T21:52:41.440376Z"
    },
    "papermill": {
     "duration": 0.026039,
     "end_time": "2022-04-15T21:53:21.545742",
     "exception": false,
     "start_time": "2022-04-15T21:53:21.519703",
     "status": "completed"
    },
    "tags": []
   },
   "outputs": [],
   "source": [
    "# Constructor color mapping\n",
    "constructor_color_map = {\n",
    "    'Toro Rosso':'#0000FF',\n",
    "    'Mercedes':'#6CD3BF',\n",
    "    'Red Bull':'#1E5BC6',\n",
    "    'Ferrari':'#ED1C24',\n",
    "    'Williams':'#37BEDD',\n",
    "    'Force India':'#FF80C7',\n",
    "    'Virgin':'#c82e37',\n",
    "    'Renault':'#FFD800',\n",
    "    'McLaren':'#F58020',\n",
    "    'Sauber':'#006EFF',\n",
    "    'Lotus':'#FFB800',\n",
    "    'HRT':'#b2945e',\n",
    "    'Caterham':'#0b361f',\n",
    "    'Lotus F1':'#FFB800',\n",
    "    'Marussia':'#6E0000',\n",
    "    'Manor Marussia':'#6E0000',\n",
    "    'Haas F1 Team':'#B6BABD',\n",
    "    'Racing Point':'#F596C8',\n",
    "    'Aston Martin':'#2D826D',\n",
    "    'Alfa Romeo':'#B12039',\n",
    "    'AlphaTauri':'#4E7C9B',\n",
    "    'Alpine F1 Team':'#2293D1'\n",
    "}"
   ]
  },
  {
   "cell_type": "markdown",
   "id": "6f7605b3",
   "metadata": {
    "papermill": {
     "duration": 0.017276,
     "end_time": "2022-04-15T21:53:21.580529",
     "exception": false,
     "start_time": "2022-04-15T21:53:21.563253",
     "status": "completed"
    },
    "tags": []
   },
   "source": [
    "# Processing the Data"
   ]
  },
  {
   "cell_type": "code",
   "execution_count": 8,
   "id": "8da781d7",
   "metadata": {
    "execution": {
     "iopub.execute_input": "2022-04-15T21:53:21.624433Z",
     "iopub.status.busy": "2022-04-15T21:53:21.622003Z",
     "iopub.status.idle": "2022-04-15T21:53:21.710022Z",
     "shell.execute_reply": "2022-04-15T21:53:21.709537Z",
     "shell.execute_reply.started": "2022-04-15T21:52:41.449490Z"
    },
    "papermill": {
     "duration": 0.112107,
     "end_time": "2022-04-15T21:53:21.710157",
     "exception": false,
     "start_time": "2022-04-15T21:53:21.598050",
     "status": "completed"
    },
    "tags": []
   },
   "outputs": [
    {
     "data": {
      "text/html": [
       "<div>\n",
       "<style scoped>\n",
       "    .dataframe tbody tr th:only-of-type {\n",
       "        vertical-align: middle;\n",
       "    }\n",
       "\n",
       "    .dataframe tbody tr th {\n",
       "        vertical-align: top;\n",
       "    }\n",
       "\n",
       "    .dataframe thead th {\n",
       "        text-align: right;\n",
       "    }\n",
       "</style>\n",
       "<table border=\"1\" class=\"dataframe\">\n",
       "  <thead>\n",
       "    <tr style=\"text-align: right;\">\n",
       "      <th></th>\n",
       "      <th>raceId</th>\n",
       "      <th>driverId</th>\n",
       "      <th>constructorId</th>\n",
       "      <th>resultsNumber</th>\n",
       "      <th>grid</th>\n",
       "      <th>resultsPosition</th>\n",
       "      <th>positionText</th>\n",
       "      <th>positionOrder</th>\n",
       "      <th>points</th>\n",
       "      <th>laps</th>\n",
       "      <th>...</th>\n",
       "      <th>constructorUrl</th>\n",
       "      <th>driverRef</th>\n",
       "      <th>driverNumber</th>\n",
       "      <th>code</th>\n",
       "      <th>forename</th>\n",
       "      <th>surname</th>\n",
       "      <th>dob</th>\n",
       "      <th>driverNationality</th>\n",
       "      <th>driverUrl</th>\n",
       "      <th>driverName</th>\n",
       "    </tr>\n",
       "  </thead>\n",
       "  <tbody>\n",
       "    <tr>\n",
       "      <th>0</th>\n",
       "      <td>18</td>\n",
       "      <td>1</td>\n",
       "      <td>1</td>\n",
       "      <td>22.0</td>\n",
       "      <td>1</td>\n",
       "      <td>1.0</td>\n",
       "      <td>1</td>\n",
       "      <td>1</td>\n",
       "      <td>10.0</td>\n",
       "      <td>58</td>\n",
       "      <td>...</td>\n",
       "      <td>http://en.wikipedia.org/wiki/McLaren</td>\n",
       "      <td>hamilton</td>\n",
       "      <td>44.0</td>\n",
       "      <td>HAM</td>\n",
       "      <td>Lewis</td>\n",
       "      <td>Hamilton</td>\n",
       "      <td>1985-01-07</td>\n",
       "      <td>British</td>\n",
       "      <td>http://en.wikipedia.org/wiki/Lewis_Hamilton</td>\n",
       "      <td>Lewis Hamilton</td>\n",
       "    </tr>\n",
       "    <tr>\n",
       "      <th>1</th>\n",
       "      <td>18</td>\n",
       "      <td>2</td>\n",
       "      <td>2</td>\n",
       "      <td>3.0</td>\n",
       "      <td>5</td>\n",
       "      <td>2.0</td>\n",
       "      <td>2</td>\n",
       "      <td>2</td>\n",
       "      <td>8.0</td>\n",
       "      <td>58</td>\n",
       "      <td>...</td>\n",
       "      <td>http://en.wikipedia.org/wiki/BMW_Sauber</td>\n",
       "      <td>heidfeld</td>\n",
       "      <td>NaN</td>\n",
       "      <td>HEI</td>\n",
       "      <td>Nick</td>\n",
       "      <td>Heidfeld</td>\n",
       "      <td>1977-05-10</td>\n",
       "      <td>German</td>\n",
       "      <td>http://en.wikipedia.org/wiki/Nick_Heidfeld</td>\n",
       "      <td>Nick Heidfeld</td>\n",
       "    </tr>\n",
       "    <tr>\n",
       "      <th>2</th>\n",
       "      <td>18</td>\n",
       "      <td>3</td>\n",
       "      <td>3</td>\n",
       "      <td>7.0</td>\n",
       "      <td>7</td>\n",
       "      <td>3.0</td>\n",
       "      <td>3</td>\n",
       "      <td>3</td>\n",
       "      <td>6.0</td>\n",
       "      <td>58</td>\n",
       "      <td>...</td>\n",
       "      <td>http://en.wikipedia.org/wiki/Williams_Grand_Pr...</td>\n",
       "      <td>rosberg</td>\n",
       "      <td>6.0</td>\n",
       "      <td>ROS</td>\n",
       "      <td>Nico</td>\n",
       "      <td>Rosberg</td>\n",
       "      <td>1985-06-27</td>\n",
       "      <td>German</td>\n",
       "      <td>http://en.wikipedia.org/wiki/Nico_Rosberg</td>\n",
       "      <td>Nico Rosberg</td>\n",
       "    </tr>\n",
       "    <tr>\n",
       "      <th>3</th>\n",
       "      <td>18</td>\n",
       "      <td>4</td>\n",
       "      <td>4</td>\n",
       "      <td>5.0</td>\n",
       "      <td>11</td>\n",
       "      <td>4.0</td>\n",
       "      <td>4</td>\n",
       "      <td>4</td>\n",
       "      <td>5.0</td>\n",
       "      <td>58</td>\n",
       "      <td>...</td>\n",
       "      <td>http://en.wikipedia.org/wiki/Renault_in_Formul...</td>\n",
       "      <td>alonso</td>\n",
       "      <td>14.0</td>\n",
       "      <td>ALO</td>\n",
       "      <td>Fernando</td>\n",
       "      <td>Alonso</td>\n",
       "      <td>1981-07-29</td>\n",
       "      <td>Spanish</td>\n",
       "      <td>http://en.wikipedia.org/wiki/Fernando_Alonso</td>\n",
       "      <td>Fernando Alonso</td>\n",
       "    </tr>\n",
       "    <tr>\n",
       "      <th>4</th>\n",
       "      <td>18</td>\n",
       "      <td>5</td>\n",
       "      <td>1</td>\n",
       "      <td>23.0</td>\n",
       "      <td>3</td>\n",
       "      <td>5.0</td>\n",
       "      <td>5</td>\n",
       "      <td>5</td>\n",
       "      <td>4.0</td>\n",
       "      <td>58</td>\n",
       "      <td>...</td>\n",
       "      <td>http://en.wikipedia.org/wiki/McLaren</td>\n",
       "      <td>kovalainen</td>\n",
       "      <td>NaN</td>\n",
       "      <td>KOV</td>\n",
       "      <td>Heikki</td>\n",
       "      <td>Kovalainen</td>\n",
       "      <td>1981-10-19</td>\n",
       "      <td>Finnish</td>\n",
       "      <td>http://en.wikipedia.org/wiki/Heikki_Kovalainen</td>\n",
       "      <td>Heikki Kovalainen</td>\n",
       "    </tr>\n",
       "    <tr>\n",
       "      <th>...</th>\n",
       "      <td>...</td>\n",
       "      <td>...</td>\n",
       "      <td>...</td>\n",
       "      <td>...</td>\n",
       "      <td>...</td>\n",
       "      <td>...</td>\n",
       "      <td>...</td>\n",
       "      <td>...</td>\n",
       "      <td>...</td>\n",
       "      <td>...</td>\n",
       "      <td>...</td>\n",
       "      <td>...</td>\n",
       "      <td>...</td>\n",
       "      <td>...</td>\n",
       "      <td>...</td>\n",
       "      <td>...</td>\n",
       "      <td>...</td>\n",
       "      <td>...</td>\n",
       "      <td>...</td>\n",
       "      <td>...</td>\n",
       "      <td>...</td>\n",
       "    </tr>\n",
       "    <tr>\n",
       "      <th>25835</th>\n",
       "      <td>1096</td>\n",
       "      <td>854</td>\n",
       "      <td>210</td>\n",
       "      <td>47.0</td>\n",
       "      <td>12</td>\n",
       "      <td>16.0</td>\n",
       "      <td>16</td>\n",
       "      <td>16</td>\n",
       "      <td>0.0</td>\n",
       "      <td>57</td>\n",
       "      <td>...</td>\n",
       "      <td>http://en.wikipedia.org/wiki/Haas_F1_Team</td>\n",
       "      <td>mick_schumacher</td>\n",
       "      <td>47.0</td>\n",
       "      <td>MSC</td>\n",
       "      <td>Mick</td>\n",
       "      <td>Schumacher</td>\n",
       "      <td>1999-03-22</td>\n",
       "      <td>German</td>\n",
       "      <td>http://en.wikipedia.org/wiki/Mick_Schumacher</td>\n",
       "      <td>Mick Schumacher</td>\n",
       "    </tr>\n",
       "    <tr>\n",
       "      <th>25836</th>\n",
       "      <td>1096</td>\n",
       "      <td>825</td>\n",
       "      <td>210</td>\n",
       "      <td>20.0</td>\n",
       "      <td>16</td>\n",
       "      <td>17.0</td>\n",
       "      <td>17</td>\n",
       "      <td>17</td>\n",
       "      <td>0.0</td>\n",
       "      <td>57</td>\n",
       "      <td>...</td>\n",
       "      <td>http://en.wikipedia.org/wiki/Haas_F1_Team</td>\n",
       "      <td>kevin_magnussen</td>\n",
       "      <td>20.0</td>\n",
       "      <td>MAG</td>\n",
       "      <td>Kevin</td>\n",
       "      <td>Magnussen</td>\n",
       "      <td>1992-10-05</td>\n",
       "      <td>Danish</td>\n",
       "      <td>http://en.wikipedia.org/wiki/Kevin_Magnussen</td>\n",
       "      <td>Kevin Magnussen</td>\n",
       "    </tr>\n",
       "    <tr>\n",
       "      <th>25837</th>\n",
       "      <td>1096</td>\n",
       "      <td>1</td>\n",
       "      <td>131</td>\n",
       "      <td>44.0</td>\n",
       "      <td>5</td>\n",
       "      <td>18.0</td>\n",
       "      <td>18</td>\n",
       "      <td>18</td>\n",
       "      <td>0.0</td>\n",
       "      <td>55</td>\n",
       "      <td>...</td>\n",
       "      <td>http://en.wikipedia.org/wiki/Mercedes-Benz_in_...</td>\n",
       "      <td>hamilton</td>\n",
       "      <td>44.0</td>\n",
       "      <td>HAM</td>\n",
       "      <td>Lewis</td>\n",
       "      <td>Hamilton</td>\n",
       "      <td>1985-01-07</td>\n",
       "      <td>British</td>\n",
       "      <td>http://en.wikipedia.org/wiki/Lewis_Hamilton</td>\n",
       "      <td>Lewis Hamilton</td>\n",
       "    </tr>\n",
       "    <tr>\n",
       "      <th>25838</th>\n",
       "      <td>1096</td>\n",
       "      <td>849</td>\n",
       "      <td>3</td>\n",
       "      <td>6.0</td>\n",
       "      <td>20</td>\n",
       "      <td>19.0</td>\n",
       "      <td>19</td>\n",
       "      <td>19</td>\n",
       "      <td>0.0</td>\n",
       "      <td>55</td>\n",
       "      <td>...</td>\n",
       "      <td>http://en.wikipedia.org/wiki/Williams_Grand_Pr...</td>\n",
       "      <td>latifi</td>\n",
       "      <td>6.0</td>\n",
       "      <td>LAT</td>\n",
       "      <td>Nicholas</td>\n",
       "      <td>Latifi</td>\n",
       "      <td>1995-06-29</td>\n",
       "      <td>Canadian</td>\n",
       "      <td>http://en.wikipedia.org/wiki/Nicholas_Latifi</td>\n",
       "      <td>Nicholas Latifi</td>\n",
       "    </tr>\n",
       "    <tr>\n",
       "      <th>25839</th>\n",
       "      <td>1096</td>\n",
       "      <td>4</td>\n",
       "      <td>214</td>\n",
       "      <td>14.0</td>\n",
       "      <td>10</td>\n",
       "      <td>NaN</td>\n",
       "      <td>R</td>\n",
       "      <td>20</td>\n",
       "      <td>0.0</td>\n",
       "      <td>27</td>\n",
       "      <td>...</td>\n",
       "      <td>http://en.wikipedia.org/wiki/Alpine_F1_Team</td>\n",
       "      <td>alonso</td>\n",
       "      <td>14.0</td>\n",
       "      <td>ALO</td>\n",
       "      <td>Fernando</td>\n",
       "      <td>Alonso</td>\n",
       "      <td>1981-07-29</td>\n",
       "      <td>Spanish</td>\n",
       "      <td>http://en.wikipedia.org/wiki/Fernando_Alonso</td>\n",
       "      <td>Fernando Alonso</td>\n",
       "    </tr>\n",
       "  </tbody>\n",
       "</table>\n",
       "<p>25840 rows × 56 columns</p>\n",
       "</div>"
      ],
      "text/plain": [
       "       raceId  driverId  constructorId  resultsNumber  grid  resultsPosition  \\\n",
       "0          18         1              1           22.0     1              1.0   \n",
       "1          18         2              2            3.0     5              2.0   \n",
       "2          18         3              3            7.0     7              3.0   \n",
       "3          18         4              4            5.0    11              4.0   \n",
       "4          18         5              1           23.0     3              5.0   \n",
       "...       ...       ...            ...            ...   ...              ...   \n",
       "25835    1096       854            210           47.0    12             16.0   \n",
       "25836    1096       825            210           20.0    16             17.0   \n",
       "25837    1096         1            131           44.0     5             18.0   \n",
       "25838    1096       849              3            6.0    20             19.0   \n",
       "25839    1096         4            214           14.0    10              NaN   \n",
       "\n",
       "      positionText  positionOrder  points  laps  ...  \\\n",
       "0                1              1    10.0    58  ...   \n",
       "1                2              2     8.0    58  ...   \n",
       "2                3              3     6.0    58  ...   \n",
       "3                4              4     5.0    58  ...   \n",
       "4                5              5     4.0    58  ...   \n",
       "...            ...            ...     ...   ...  ...   \n",
       "25835           16             16     0.0    57  ...   \n",
       "25836           17             17     0.0    57  ...   \n",
       "25837           18             18     0.0    55  ...   \n",
       "25838           19             19     0.0    55  ...   \n",
       "25839            R             20     0.0    27  ...   \n",
       "\n",
       "                                          constructorUrl        driverRef  \\\n",
       "0                   http://en.wikipedia.org/wiki/McLaren         hamilton   \n",
       "1                http://en.wikipedia.org/wiki/BMW_Sauber         heidfeld   \n",
       "2      http://en.wikipedia.org/wiki/Williams_Grand_Pr...          rosberg   \n",
       "3      http://en.wikipedia.org/wiki/Renault_in_Formul...           alonso   \n",
       "4                   http://en.wikipedia.org/wiki/McLaren       kovalainen   \n",
       "...                                                  ...              ...   \n",
       "25835          http://en.wikipedia.org/wiki/Haas_F1_Team  mick_schumacher   \n",
       "25836          http://en.wikipedia.org/wiki/Haas_F1_Team  kevin_magnussen   \n",
       "25837  http://en.wikipedia.org/wiki/Mercedes-Benz_in_...         hamilton   \n",
       "25838  http://en.wikipedia.org/wiki/Williams_Grand_Pr...           latifi   \n",
       "25839        http://en.wikipedia.org/wiki/Alpine_F1_Team           alonso   \n",
       "\n",
       "       driverNumber  code  forename     surname         dob  \\\n",
       "0              44.0   HAM     Lewis    Hamilton  1985-01-07   \n",
       "1               NaN   HEI      Nick    Heidfeld  1977-05-10   \n",
       "2               6.0   ROS      Nico     Rosberg  1985-06-27   \n",
       "3              14.0   ALO  Fernando      Alonso  1981-07-29   \n",
       "4               NaN   KOV    Heikki  Kovalainen  1981-10-19   \n",
       "...             ...   ...       ...         ...         ...   \n",
       "25835          47.0   MSC      Mick  Schumacher  1999-03-22   \n",
       "25836          20.0   MAG     Kevin   Magnussen  1992-10-05   \n",
       "25837          44.0   HAM     Lewis    Hamilton  1985-01-07   \n",
       "25838           6.0   LAT  Nicholas      Latifi  1995-06-29   \n",
       "25839          14.0   ALO  Fernando      Alonso  1981-07-29   \n",
       "\n",
       "       driverNationality                                       driverUrl  \\\n",
       "0                British     http://en.wikipedia.org/wiki/Lewis_Hamilton   \n",
       "1                 German      http://en.wikipedia.org/wiki/Nick_Heidfeld   \n",
       "2                 German       http://en.wikipedia.org/wiki/Nico_Rosberg   \n",
       "3                Spanish    http://en.wikipedia.org/wiki/Fernando_Alonso   \n",
       "4                Finnish  http://en.wikipedia.org/wiki/Heikki_Kovalainen   \n",
       "...                  ...                                             ...   \n",
       "25835             German    http://en.wikipedia.org/wiki/Mick_Schumacher   \n",
       "25836             Danish    http://en.wikipedia.org/wiki/Kevin_Magnussen   \n",
       "25837            British     http://en.wikipedia.org/wiki/Lewis_Hamilton   \n",
       "25838           Canadian    http://en.wikipedia.org/wiki/Nicholas_Latifi   \n",
       "25839            Spanish    http://en.wikipedia.org/wiki/Fernando_Alonso   \n",
       "\n",
       "              driverName  \n",
       "0         Lewis Hamilton  \n",
       "1          Nick Heidfeld  \n",
       "2           Nico Rosberg  \n",
       "3        Fernando Alonso  \n",
       "4      Heikki Kovalainen  \n",
       "...                  ...  \n",
       "25835    Mick Schumacher  \n",
       "25836    Kevin Magnussen  \n",
       "25837     Lewis Hamilton  \n",
       "25838    Nicholas Latifi  \n",
       "25839    Fernando Alonso  \n",
       "\n",
       "[25840 rows x 56 columns]"
      ]
     },
     "execution_count": 8,
     "metadata": {},
     "output_type": "execute_result"
    }
   ],
   "source": [
    "resultsAnalysis = pd.merge(results,races,left_on='raceId',right_on='raceId',how='left')\n",
    "resultsAnalysis = pd.merge(resultsAnalysis,circuits,left_on='circuitId',right_index=True,how='left')\n",
    "resultsAnalysis = pd.merge(resultsAnalysis,constructors,left_on='constructorId',right_index=True,how='left')\n",
    "resultsAnalysis = pd.merge(resultsAnalysis,drivers,left_on='driverId',right_index=True,how='left')\n",
    "resultsAnalysis"
   ]
  },
  {
   "cell_type": "code",
   "execution_count": 9,
   "id": "5f2f0fef",
   "metadata": {
    "execution": {
     "iopub.execute_input": "2022-04-15T21:53:21.756559Z",
     "iopub.status.busy": "2022-04-15T21:53:21.755993Z",
     "iopub.status.idle": "2022-04-15T21:53:23.727299Z",
     "shell.execute_reply": "2022-04-15T21:53:23.727836Z",
     "shell.execute_reply.started": "2022-04-15T21:52:41.547502Z"
    },
    "papermill": {
     "duration": 1.997255,
     "end_time": "2022-04-15T21:53:23.728039",
     "exception": false,
     "start_time": "2022-04-15T21:53:21.730784",
     "status": "completed"
    },
    "tags": []
   },
   "outputs": [
    {
     "data": {
      "text/html": [
       "<div>\n",
       "<style scoped>\n",
       "    .dataframe tbody tr th:only-of-type {\n",
       "        vertical-align: middle;\n",
       "    }\n",
       "\n",
       "    .dataframe tbody tr th {\n",
       "        vertical-align: top;\n",
       "    }\n",
       "\n",
       "    .dataframe thead th {\n",
       "        text-align: right;\n",
       "    }\n",
       "</style>\n",
       "<table border=\"1\" class=\"dataframe\">\n",
       "  <thead>\n",
       "    <tr style=\"text-align: right;\">\n",
       "      <th></th>\n",
       "      <th>raceId</th>\n",
       "      <th>driverId</th>\n",
       "      <th>lap</th>\n",
       "      <th>lapPosition</th>\n",
       "      <th>lapTime</th>\n",
       "      <th>lapMilliseconds</th>\n",
       "      <th>lapSeconds</th>\n",
       "      <th>raceYear</th>\n",
       "      <th>raceRound</th>\n",
       "      <th>circuitId</th>\n",
       "      <th>...</th>\n",
       "      <th>constructorUrl</th>\n",
       "      <th>driverRef</th>\n",
       "      <th>driverNumber</th>\n",
       "      <th>code</th>\n",
       "      <th>forename</th>\n",
       "      <th>surname</th>\n",
       "      <th>dob</th>\n",
       "      <th>driverNationality</th>\n",
       "      <th>driverUrl</th>\n",
       "      <th>driverName</th>\n",
       "    </tr>\n",
       "  </thead>\n",
       "  <tbody>\n",
       "    <tr>\n",
       "      <th>0</th>\n",
       "      <td>841</td>\n",
       "      <td>20</td>\n",
       "      <td>1</td>\n",
       "      <td>1</td>\n",
       "      <td>1:38.109</td>\n",
       "      <td>98109</td>\n",
       "      <td>98.109</td>\n",
       "      <td>2011</td>\n",
       "      <td>1</td>\n",
       "      <td>1</td>\n",
       "      <td>...</td>\n",
       "      <td>http://en.wikipedia.org/wiki/Red_Bull_Racing</td>\n",
       "      <td>vettel</td>\n",
       "      <td>5.0</td>\n",
       "      <td>VET</td>\n",
       "      <td>Sebastian</td>\n",
       "      <td>Vettel</td>\n",
       "      <td>1987-07-03</td>\n",
       "      <td>German</td>\n",
       "      <td>http://en.wikipedia.org/wiki/Sebastian_Vettel</td>\n",
       "      <td>Sebastian Vettel</td>\n",
       "    </tr>\n",
       "    <tr>\n",
       "      <th>1</th>\n",
       "      <td>841</td>\n",
       "      <td>20</td>\n",
       "      <td>2</td>\n",
       "      <td>1</td>\n",
       "      <td>1:33.006</td>\n",
       "      <td>93006</td>\n",
       "      <td>93.006</td>\n",
       "      <td>2011</td>\n",
       "      <td>1</td>\n",
       "      <td>1</td>\n",
       "      <td>...</td>\n",
       "      <td>http://en.wikipedia.org/wiki/Red_Bull_Racing</td>\n",
       "      <td>vettel</td>\n",
       "      <td>5.0</td>\n",
       "      <td>VET</td>\n",
       "      <td>Sebastian</td>\n",
       "      <td>Vettel</td>\n",
       "      <td>1987-07-03</td>\n",
       "      <td>German</td>\n",
       "      <td>http://en.wikipedia.org/wiki/Sebastian_Vettel</td>\n",
       "      <td>Sebastian Vettel</td>\n",
       "    </tr>\n",
       "    <tr>\n",
       "      <th>2</th>\n",
       "      <td>841</td>\n",
       "      <td>20</td>\n",
       "      <td>3</td>\n",
       "      <td>1</td>\n",
       "      <td>1:32.713</td>\n",
       "      <td>92713</td>\n",
       "      <td>92.713</td>\n",
       "      <td>2011</td>\n",
       "      <td>1</td>\n",
       "      <td>1</td>\n",
       "      <td>...</td>\n",
       "      <td>http://en.wikipedia.org/wiki/Red_Bull_Racing</td>\n",
       "      <td>vettel</td>\n",
       "      <td>5.0</td>\n",
       "      <td>VET</td>\n",
       "      <td>Sebastian</td>\n",
       "      <td>Vettel</td>\n",
       "      <td>1987-07-03</td>\n",
       "      <td>German</td>\n",
       "      <td>http://en.wikipedia.org/wiki/Sebastian_Vettel</td>\n",
       "      <td>Sebastian Vettel</td>\n",
       "    </tr>\n",
       "    <tr>\n",
       "      <th>3</th>\n",
       "      <td>841</td>\n",
       "      <td>20</td>\n",
       "      <td>4</td>\n",
       "      <td>1</td>\n",
       "      <td>1:32.803</td>\n",
       "      <td>92803</td>\n",
       "      <td>92.803</td>\n",
       "      <td>2011</td>\n",
       "      <td>1</td>\n",
       "      <td>1</td>\n",
       "      <td>...</td>\n",
       "      <td>http://en.wikipedia.org/wiki/Red_Bull_Racing</td>\n",
       "      <td>vettel</td>\n",
       "      <td>5.0</td>\n",
       "      <td>VET</td>\n",
       "      <td>Sebastian</td>\n",
       "      <td>Vettel</td>\n",
       "      <td>1987-07-03</td>\n",
       "      <td>German</td>\n",
       "      <td>http://en.wikipedia.org/wiki/Sebastian_Vettel</td>\n",
       "      <td>Sebastian Vettel</td>\n",
       "    </tr>\n",
       "    <tr>\n",
       "      <th>4</th>\n",
       "      <td>841</td>\n",
       "      <td>20</td>\n",
       "      <td>5</td>\n",
       "      <td>1</td>\n",
       "      <td>1:32.342</td>\n",
       "      <td>92342</td>\n",
       "      <td>92.342</td>\n",
       "      <td>2011</td>\n",
       "      <td>1</td>\n",
       "      <td>1</td>\n",
       "      <td>...</td>\n",
       "      <td>http://en.wikipedia.org/wiki/Red_Bull_Racing</td>\n",
       "      <td>vettel</td>\n",
       "      <td>5.0</td>\n",
       "      <td>VET</td>\n",
       "      <td>Sebastian</td>\n",
       "      <td>Vettel</td>\n",
       "      <td>1987-07-03</td>\n",
       "      <td>German</td>\n",
       "      <td>http://en.wikipedia.org/wiki/Sebastian_Vettel</td>\n",
       "      <td>Sebastian Vettel</td>\n",
       "    </tr>\n",
       "    <tr>\n",
       "      <th>...</th>\n",
       "      <td>...</td>\n",
       "      <td>...</td>\n",
       "      <td>...</td>\n",
       "      <td>...</td>\n",
       "      <td>...</td>\n",
       "      <td>...</td>\n",
       "      <td>...</td>\n",
       "      <td>...</td>\n",
       "      <td>...</td>\n",
       "      <td>...</td>\n",
       "      <td>...</td>\n",
       "      <td>...</td>\n",
       "      <td>...</td>\n",
       "      <td>...</td>\n",
       "      <td>...</td>\n",
       "      <td>...</td>\n",
       "      <td>...</td>\n",
       "      <td>...</td>\n",
       "      <td>...</td>\n",
       "      <td>...</td>\n",
       "      <td>...</td>\n",
       "    </tr>\n",
       "    <tr>\n",
       "      <th>538116</th>\n",
       "      <td>1096</td>\n",
       "      <td>822</td>\n",
       "      <td>53</td>\n",
       "      <td>16</td>\n",
       "      <td>1:32.998</td>\n",
       "      <td>92998</td>\n",
       "      <td>92.998</td>\n",
       "      <td>2022</td>\n",
       "      <td>22</td>\n",
       "      <td>24</td>\n",
       "      <td>...</td>\n",
       "      <td>http://en.wikipedia.org/wiki/Alfa_Romeo_in_For...</td>\n",
       "      <td>bottas</td>\n",
       "      <td>77.0</td>\n",
       "      <td>BOT</td>\n",
       "      <td>Valtteri</td>\n",
       "      <td>Bottas</td>\n",
       "      <td>1989-08-28</td>\n",
       "      <td>Finnish</td>\n",
       "      <td>http://en.wikipedia.org/wiki/Valtteri_Bottas</td>\n",
       "      <td>Valtteri Bottas</td>\n",
       "    </tr>\n",
       "    <tr>\n",
       "      <th>538117</th>\n",
       "      <td>1096</td>\n",
       "      <td>822</td>\n",
       "      <td>54</td>\n",
       "      <td>16</td>\n",
       "      <td>1:32.995</td>\n",
       "      <td>92995</td>\n",
       "      <td>92.995</td>\n",
       "      <td>2022</td>\n",
       "      <td>22</td>\n",
       "      <td>24</td>\n",
       "      <td>...</td>\n",
       "      <td>http://en.wikipedia.org/wiki/Alfa_Romeo_in_For...</td>\n",
       "      <td>bottas</td>\n",
       "      <td>77.0</td>\n",
       "      <td>BOT</td>\n",
       "      <td>Valtteri</td>\n",
       "      <td>Bottas</td>\n",
       "      <td>1989-08-28</td>\n",
       "      <td>Finnish</td>\n",
       "      <td>http://en.wikipedia.org/wiki/Valtteri_Bottas</td>\n",
       "      <td>Valtteri Bottas</td>\n",
       "    </tr>\n",
       "    <tr>\n",
       "      <th>538118</th>\n",
       "      <td>1096</td>\n",
       "      <td>822</td>\n",
       "      <td>55</td>\n",
       "      <td>16</td>\n",
       "      <td>1:31.236</td>\n",
       "      <td>91236</td>\n",
       "      <td>91.236</td>\n",
       "      <td>2022</td>\n",
       "      <td>22</td>\n",
       "      <td>24</td>\n",
       "      <td>...</td>\n",
       "      <td>http://en.wikipedia.org/wiki/Alfa_Romeo_in_For...</td>\n",
       "      <td>bottas</td>\n",
       "      <td>77.0</td>\n",
       "      <td>BOT</td>\n",
       "      <td>Valtteri</td>\n",
       "      <td>Bottas</td>\n",
       "      <td>1989-08-28</td>\n",
       "      <td>Finnish</td>\n",
       "      <td>http://en.wikipedia.org/wiki/Valtteri_Bottas</td>\n",
       "      <td>Valtteri Bottas</td>\n",
       "    </tr>\n",
       "    <tr>\n",
       "      <th>538119</th>\n",
       "      <td>1096</td>\n",
       "      <td>822</td>\n",
       "      <td>56</td>\n",
       "      <td>15</td>\n",
       "      <td>1:30.566</td>\n",
       "      <td>90566</td>\n",
       "      <td>90.566</td>\n",
       "      <td>2022</td>\n",
       "      <td>22</td>\n",
       "      <td>24</td>\n",
       "      <td>...</td>\n",
       "      <td>http://en.wikipedia.org/wiki/Alfa_Romeo_in_For...</td>\n",
       "      <td>bottas</td>\n",
       "      <td>77.0</td>\n",
       "      <td>BOT</td>\n",
       "      <td>Valtteri</td>\n",
       "      <td>Bottas</td>\n",
       "      <td>1989-08-28</td>\n",
       "      <td>Finnish</td>\n",
       "      <td>http://en.wikipedia.org/wiki/Valtteri_Bottas</td>\n",
       "      <td>Valtteri Bottas</td>\n",
       "    </tr>\n",
       "    <tr>\n",
       "      <th>538120</th>\n",
       "      <td>1096</td>\n",
       "      <td>822</td>\n",
       "      <td>57</td>\n",
       "      <td>15</td>\n",
       "      <td>1:30.743</td>\n",
       "      <td>90743</td>\n",
       "      <td>90.743</td>\n",
       "      <td>2022</td>\n",
       "      <td>22</td>\n",
       "      <td>24</td>\n",
       "      <td>...</td>\n",
       "      <td>http://en.wikipedia.org/wiki/Alfa_Romeo_in_For...</td>\n",
       "      <td>bottas</td>\n",
       "      <td>77.0</td>\n",
       "      <td>BOT</td>\n",
       "      <td>Valtteri</td>\n",
       "      <td>Bottas</td>\n",
       "      <td>1989-08-28</td>\n",
       "      <td>Finnish</td>\n",
       "      <td>http://en.wikipedia.org/wiki/Valtteri_Bottas</td>\n",
       "      <td>Valtteri Bottas</td>\n",
       "    </tr>\n",
       "  </tbody>\n",
       "</table>\n",
       "<p>538121 rows × 73 columns</p>\n",
       "</div>"
      ],
      "text/plain": [
       "        raceId  driverId  lap  lapPosition   lapTime  lapMilliseconds  \\\n",
       "0          841        20    1            1  1:38.109            98109   \n",
       "1          841        20    2            1  1:33.006            93006   \n",
       "2          841        20    3            1  1:32.713            92713   \n",
       "3          841        20    4            1  1:32.803            92803   \n",
       "4          841        20    5            1  1:32.342            92342   \n",
       "...        ...       ...  ...          ...       ...              ...   \n",
       "538116    1096       822   53           16  1:32.998            92998   \n",
       "538117    1096       822   54           16  1:32.995            92995   \n",
       "538118    1096       822   55           16  1:31.236            91236   \n",
       "538119    1096       822   56           15  1:30.566            90566   \n",
       "538120    1096       822   57           15  1:30.743            90743   \n",
       "\n",
       "        lapSeconds  raceYear  raceRound  circuitId  ...  \\\n",
       "0           98.109      2011          1          1  ...   \n",
       "1           93.006      2011          1          1  ...   \n",
       "2           92.713      2011          1          1  ...   \n",
       "3           92.803      2011          1          1  ...   \n",
       "4           92.342      2011          1          1  ...   \n",
       "...            ...       ...        ...        ...  ...   \n",
       "538116      92.998      2022         22         24  ...   \n",
       "538117      92.995      2022         22         24  ...   \n",
       "538118      91.236      2022         22         24  ...   \n",
       "538119      90.566      2022         22         24  ...   \n",
       "538120      90.743      2022         22         24  ...   \n",
       "\n",
       "                                           constructorUrl driverRef  \\\n",
       "0            http://en.wikipedia.org/wiki/Red_Bull_Racing    vettel   \n",
       "1            http://en.wikipedia.org/wiki/Red_Bull_Racing    vettel   \n",
       "2            http://en.wikipedia.org/wiki/Red_Bull_Racing    vettel   \n",
       "3            http://en.wikipedia.org/wiki/Red_Bull_Racing    vettel   \n",
       "4            http://en.wikipedia.org/wiki/Red_Bull_Racing    vettel   \n",
       "...                                                   ...       ...   \n",
       "538116  http://en.wikipedia.org/wiki/Alfa_Romeo_in_For...    bottas   \n",
       "538117  http://en.wikipedia.org/wiki/Alfa_Romeo_in_For...    bottas   \n",
       "538118  http://en.wikipedia.org/wiki/Alfa_Romeo_in_For...    bottas   \n",
       "538119  http://en.wikipedia.org/wiki/Alfa_Romeo_in_For...    bottas   \n",
       "538120  http://en.wikipedia.org/wiki/Alfa_Romeo_in_For...    bottas   \n",
       "\n",
       "       driverNumber code   forename surname         dob driverNationality  \\\n",
       "0               5.0  VET  Sebastian  Vettel  1987-07-03            German   \n",
       "1               5.0  VET  Sebastian  Vettel  1987-07-03            German   \n",
       "2               5.0  VET  Sebastian  Vettel  1987-07-03            German   \n",
       "3               5.0  VET  Sebastian  Vettel  1987-07-03            German   \n",
       "4               5.0  VET  Sebastian  Vettel  1987-07-03            German   \n",
       "...             ...  ...        ...     ...         ...               ...   \n",
       "538116         77.0  BOT   Valtteri  Bottas  1989-08-28           Finnish   \n",
       "538117         77.0  BOT   Valtteri  Bottas  1989-08-28           Finnish   \n",
       "538118         77.0  BOT   Valtteri  Bottas  1989-08-28           Finnish   \n",
       "538119         77.0  BOT   Valtteri  Bottas  1989-08-28           Finnish   \n",
       "538120         77.0  BOT   Valtteri  Bottas  1989-08-28           Finnish   \n",
       "\n",
       "                                            driverUrl        driverName  \n",
       "0       http://en.wikipedia.org/wiki/Sebastian_Vettel  Sebastian Vettel  \n",
       "1       http://en.wikipedia.org/wiki/Sebastian_Vettel  Sebastian Vettel  \n",
       "2       http://en.wikipedia.org/wiki/Sebastian_Vettel  Sebastian Vettel  \n",
       "3       http://en.wikipedia.org/wiki/Sebastian_Vettel  Sebastian Vettel  \n",
       "4       http://en.wikipedia.org/wiki/Sebastian_Vettel  Sebastian Vettel  \n",
       "...                                               ...               ...  \n",
       "538116   http://en.wikipedia.org/wiki/Valtteri_Bottas   Valtteri Bottas  \n",
       "538117   http://en.wikipedia.org/wiki/Valtteri_Bottas   Valtteri Bottas  \n",
       "538118   http://en.wikipedia.org/wiki/Valtteri_Bottas   Valtteri Bottas  \n",
       "538119   http://en.wikipedia.org/wiki/Valtteri_Bottas   Valtteri Bottas  \n",
       "538120   http://en.wikipedia.org/wiki/Valtteri_Bottas   Valtteri Bottas  \n",
       "\n",
       "[538121 rows x 73 columns]"
      ]
     },
     "execution_count": 9,
     "metadata": {},
     "output_type": "execute_result"
    }
   ],
   "source": [
    "lapTimesAnalysis = pd.merge(lapTimes,races,left_on='raceId',right_on='raceId',how='left')\n",
    "lapTimesAnalysis = pd.merge(lapTimesAnalysis,resultsAnalysis,left_on=['raceId','driverId','raceYear','raceRound','circuitId','raceName','raceUrl'],right_on=['raceId','driverId','raceYear','raceRound','circuitId','raceName','raceUrl'],how='left')\n",
    "lapTimesAnalysis"
   ]
  },
  {
   "cell_type": "markdown",
   "id": "522b3470",
   "metadata": {
    "papermill": {
     "duration": 0.019018,
     "end_time": "2022-04-15T21:53:23.766819",
     "exception": false,
     "start_time": "2022-04-15T21:53:23.747801",
     "status": "completed"
    },
    "tags": []
   },
   "source": [
    "# Lap Times Exploratory Analysis"
   ]
  },
  {
   "cell_type": "markdown",
   "id": "5fb3b9de",
   "metadata": {
    "papermill": {
     "duration": 0.019086,
     "end_time": "2022-04-15T21:53:23.805381",
     "exception": false,
     "start_time": "2022-04-15T21:53:23.786295",
     "status": "completed"
    },
    "tags": []
   },
   "source": [
    "## Lap Times over the Years"
   ]
  },
  {
   "cell_type": "code",
   "execution_count": 15,
   "id": "c3e4a7da",
   "metadata": {
    "execution": {
     "iopub.execute_input": "2022-04-15T21:53:23.847614Z",
     "iopub.status.busy": "2022-04-15T21:53:23.846732Z",
     "iopub.status.idle": "2022-04-15T21:53:25.632771Z",
     "shell.execute_reply": "2022-04-15T21:53:25.633265Z",
     "shell.execute_reply.started": "2022-04-15T21:52:43.417551Z"
    },
    "papermill": {
     "duration": 1.808874,
     "end_time": "2022-04-15T21:53:25.633458",
     "exception": false,
     "start_time": "2022-04-15T21:53:23.824584",
     "status": "completed"
    },
    "tags": []
   },
   "outputs": [
    {
     "data": {
      "application/vnd.plotly.v1+json": {
       "config": {
        "plotlyServerURL": "https://plot.ly"
       },
       "data": [
        {
         "hovertemplate": "constructorName=Benetton<br>raceYear=%{x}<br>lapSeconds=%{y}<extra></extra>",
         "legendgroup": "Benetton",
         "line": {
          "color": "#00cc96",
          "dash": "solid"
         },
         "marker": {
          "symbol": "circle"
         },
         "mode": "lines",
         "name": "Benetton",
         "opacity": 0.65,
         "orientation": "v",
         "showlegend": true,
         "type": "scatter",
         "x": [
          1996,
          1997,
          1998,
          1999,
          2000,
          2001
         ],
         "xaxis": "x",
         "y": [
          92.0776761904762,
          89.70195762711865,
          109.32161016949154,
          93.55854166666667,
          90.5900593220339,
          89.49549999999999
         ],
         "yaxis": "y"
        },
        {
         "hovertemplate": "constructorName=Ferrari<br>raceYear=%{x}<br>lapSeconds=%{y}<extra></extra>",
         "legendgroup": "Ferrari",
         "line": {
          "color": "#ED1C24",
          "dash": "solid"
         },
         "marker": {
          "symbol": "circle"
         },
         "mode": "lines",
         "name": "Ferrari",
         "opacity": 0.65,
         "orientation": "v",
         "showlegend": true,
         "type": "scatter",
         "x": [
          1996,
          1997,
          1998,
          1999,
          2000,
          2001,
          2002,
          2003,
          2004,
          2005,
          2006,
          2007,
          2008,
          2009,
          2010,
          2011,
          2012,
          2013,
          2014,
          2015,
          2016,
          2017,
          2018,
          2019,
          2020,
          2021,
          2022
         ],
         "xaxis": "x",
         "y": [
          106.64125,
          90.78963414634147,
          107.284175,
          92.53288333333333,
          89.28644210526315,
          86.337225,
          91.87173333333334,
          88.83963333333332,
          84.73761666666665,
          85.758875,
          86.2447,
          83.56111016949151,
          102.06401709401709,
          83.777675,
          98.90648076923077,
          102.60963461538462,
          98.41495192307693,
          107.50585576923078,
          170.61615384615385,
          106.84133980582524,
          111.03902884615384,
          97.11195098039215,
          100.99249999999999,
          94.98526213592233,
          97.54587500000001,
          137.05666346153845,
          159.1266153846154
         ],
         "yaxis": "y"
        },
        {
         "hovertemplate": "constructorName=Footwork<br>raceYear=%{x}<br>lapSeconds=%{y}<extra></extra>",
         "legendgroup": "Footwork",
         "line": {
          "color": "#ab63fa",
          "dash": "solid"
         },
         "marker": {
          "symbol": "circle"
         },
         "mode": "lines",
         "name": "Footwork",
         "opacity": 0.65,
         "orientation": "v",
         "showlegend": true,
         "type": "scatter",
         "x": [
          1996
         ],
         "xaxis": "x",
         "y": [
          94.32212328767123
         ],
         "yaxis": "y"
        },
        {
         "hovertemplate": "constructorName=Jordan<br>raceYear=%{x}<br>lapSeconds=%{y}<extra></extra>",
         "legendgroup": "Jordan",
         "line": {
          "color": "#FFA15A",
          "dash": "solid"
         },
         "marker": {
          "symbol": "circle"
         },
         "mode": "lines",
         "name": "Jordan",
         "opacity": 0.65,
         "orientation": "v",
         "showlegend": true,
         "type": "scatter",
         "x": [
          1996,
          1997,
          1998,
          1999,
          2000,
          2001,
          2002,
          2003,
          2004,
          2005
         ],
         "xaxis": "x",
         "y": [
          92.93699173553719,
          90.59197435897437,
          107.83394444444444,
          93.05569166666668,
          90.3152894736842,
          87.69738983050847,
          94.80589908256881,
          91.53664077669903,
          87.44633018867924,
          89.58401470588235
         ],
         "yaxis": "y"
        },
        {
         "hovertemplate": "constructorName=Ligier<br>raceYear=%{x}<br>lapSeconds=%{y}<extra></extra>",
         "legendgroup": "Ligier",
         "line": {
          "color": "#19d3f3",
          "dash": "solid"
         },
         "marker": {
          "symbol": "circle"
         },
         "mode": "lines",
         "name": "Ligier",
         "opacity": 0.65,
         "orientation": "v",
         "showlegend": true,
         "type": "scatter",
         "x": [
          1996
         ],
         "xaxis": "x",
         "y": [
          96.16073076923077
         ],
         "yaxis": "y"
        },
        {
         "hovertemplate": "constructorName=McLaren<br>raceYear=%{x}<br>lapSeconds=%{y}<extra></extra>",
         "legendgroup": "McLaren",
         "line": {
          "color": "#F58020",
          "dash": "solid"
         },
         "marker": {
          "symbol": "circle"
         },
         "mode": "lines",
         "name": "McLaren",
         "opacity": 0.65,
         "orientation": "v",
         "showlegend": true,
         "type": "scatter",
         "x": [
          1996,
          1997,
          1998,
          1999,
          2000,
          2001,
          2002,
          2003,
          2004,
          2005,
          2006,
          2007,
          2008,
          2009,
          2010,
          2011,
          2012,
          2013,
          2014,
          2015,
          2016,
          2017,
          2018,
          2019,
          2020,
          2021,
          2022
         ],
         "xaxis": "x",
         "y": [
          92.58266393442622,
          89.926990990991,
          104.4698144329897,
          94.20209473684211,
          88.84744166666665,
          85.89046774193548,
          96.34173529411764,
          89.02159166666667,
          84.89331666666666,
          84.61343333333333,
          86.56079166666667,
          83.45745762711864,
          100.10378151260504,
          85.96888421052631,
          97.88217307692307,
          103.48495604395603,
          99.07195192307692,
          108.53592857142858,
          170.52058653846154,
          109.19970588235294,
          111.91851960784314,
          99.10408536585366,
          101.60054807692308,
          94.85407692307693,
          97.79717788461538,
          137.28620192307693,
          159.4748269230769
         ],
         "yaxis": "y"
        },
        {
         "hovertemplate": "constructorName=Minardi<br>raceYear=%{x}<br>lapSeconds=%{y}<extra></extra>",
         "legendgroup": "Minardi",
         "line": {
          "color": "#FF6692",
          "dash": "solid"
         },
         "marker": {
          "symbol": "circle"
         },
         "mode": "lines",
         "name": "Minardi",
         "opacity": 0.65,
         "orientation": "v",
         "showlegend": true,
         "type": "scatter",
         "x": [
          1996,
          1997,
          1998,
          1999,
          2000,
          2001,
          2002,
          2003,
          2004,
          2005
         ],
         "xaxis": "x",
         "y": [
          95.7494125,
          92.55306896551726,
          110.92571264367817,
          96.769828125,
          91.14674576271187,
          90.24221052631579,
          90.49111111111111,
          91.76338793103449,
          90.21150588235294,
          90.2706017699115
         ],
         "yaxis": "y"
        },
        {
         "hovertemplate": "constructorName=Sauber<br>raceYear=%{x}<br>lapSeconds=%{y}<extra></extra>",
         "legendgroup": "Sauber",
         "line": {
          "color": "#006EFF",
          "dash": "solid"
         },
         "marker": {
          "symbol": "circle"
         },
         "mode": "lines",
         "name": "Sauber",
         "opacity": 0.65,
         "orientation": "v",
         "showlegend": true,
         "type": "scatter",
         "x": [
          1996,
          1997,
          1998,
          1999,
          2000,
          2001,
          2002,
          2003,
          2004,
          2005,
          2010,
          2011,
          2012,
          2013,
          2014,
          2015,
          2016,
          2017,
          2018
         ],
         "xaxis": "x",
         "y": [
          94.00164166666667,
          92.70501,
          106.65901249999999,
          94.08891596638655,
          90.8050593220339,
          87.14693220338982,
          93.78374576271186,
          90.76917796610171,
          85.01925833333333,
          86.67725423728812,
          99.07227160493828,
          105.89476,
          99.48573015873015,
          107.73948076923078,
          223.58871666666667,
          109.28276470588236,
          121.02935483870968,
          98.7643,
          96.34030612244898
         ],
         "yaxis": "y"
        },
        {
         "hovertemplate": "constructorName=Tyrrell<br>raceYear=%{x}<br>lapSeconds=%{y}<extra></extra>",
         "legendgroup": "Tyrrell",
         "line": {
          "color": "#B6E880",
          "dash": "solid"
         },
         "marker": {
          "symbol": "circle"
         },
         "mode": "lines",
         "name": "Tyrrell",
         "opacity": 0.65,
         "orientation": "v",
         "showlegend": true,
         "type": "scatter",
         "x": [
          1996,
          1997,
          1998
         ],
         "xaxis": "x",
         "y": [
          93.92284722222222,
          92.88920224719101,
          112.95909411764706
         ],
         "yaxis": "y"
        },
        {
         "hovertemplate": "constructorName=Williams<br>raceYear=%{x}<br>lapSeconds=%{y}<extra></extra>",
         "legendgroup": "Williams",
         "line": {
          "color": "#37BEDD",
          "dash": "solid"
         },
         "marker": {
          "symbol": "circle"
         },
         "mode": "lines",
         "name": "Williams",
         "opacity": 0.65,
         "orientation": "v",
         "showlegend": true,
         "type": "scatter",
         "x": [
          1996,
          1997,
          1998,
          1999,
          2000,
          2001,
          2002,
          2003,
          2004,
          2005,
          2006,
          2007,
          2008,
          2009,
          2010,
          2011,
          2012,
          2013,
          2014,
          2015,
          2016,
          2017,
          2018,
          2019,
          2020,
          2021,
          2022
         ],
         "xaxis": "x",
         "y": [
          91.47197701149425,
          89.51974576271186,
          107.91891891891892,
          93.373525,
          89.660725,
          86.99935416666666,
          92.99743697478992,
          89.15501666666667,
          85.09896666666667,
          86.94093220338983,
          87.18225000000001,
          85.38298275862068,
          101.1617627118644,
          83.82161666666666,
          98.36411538461539,
          104.36637254901962,
          100.03693203883495,
          107.74174038461538,
          170.04286538461537,
          106.49510576923078,
          112.04112745098038,
          98.40105,
          101.78641346153846,
          95.86760784313725,
          98.53157281553399,
          139.3456960784314,
          159.66965384615384
         ],
         "yaxis": "y"
        },
        {
         "hovertemplate": "constructorName=Arrows<br>raceYear=%{x}<br>lapSeconds=%{y}<extra></extra>",
         "legendgroup": "Arrows",
         "line": {
          "color": "#FF97FF",
          "dash": "solid"
         },
         "marker": {
          "symbol": "circle"
         },
         "mode": "lines",
         "name": "Arrows",
         "opacity": 0.65,
         "orientation": "v",
         "showlegend": true,
         "type": "scatter",
         "x": [
          1997,
          1998,
          1999,
          2000,
          2001,
          2002
         ],
         "xaxis": "x",
         "y": [
          91.63285227272728,
          110.12698611111111,
          96.46632758620689,
          93.38293478260869,
          89.07920689655172,
          96.98868750000001
         ],
         "yaxis": "y"
        },
        {
         "hovertemplate": "constructorName=Prost<br>raceYear=%{x}<br>lapSeconds=%{y}<extra></extra>",
         "legendgroup": "Prost",
         "line": {
          "color": "#FECB52",
          "dash": "solid"
         },
         "marker": {
          "symbol": "circle"
         },
         "mode": "lines",
         "name": "Prost",
         "opacity": 0.65,
         "orientation": "v",
         "showlegend": true,
         "type": "scatter",
         "x": [
          1997,
          1998,
          1999,
          2000,
          2001
         ],
         "xaxis": "x",
         "y": [
          91.02640869565218,
          106.97487012987014,
          93.77354166666667,
          91.03332727272726,
          89.192515625
         ],
         "yaxis": "y"
        },
        {
         "hovertemplate": "constructorName=Stewart<br>raceYear=%{x}<br>lapSeconds=%{y}<extra></extra>",
         "legendgroup": "Stewart",
         "line": {
          "color": "#636efa",
          "dash": "solid"
         },
         "marker": {
          "symbol": "circle"
         },
         "mode": "lines",
         "name": "Stewart",
         "opacity": 0.65,
         "orientation": "v",
         "showlegend": true,
         "type": "scatter",
         "x": [
          1997,
          1998,
          1999
         ],
         "xaxis": "x",
         "y": [
          92.38052873563218,
          106.34735064935064,
          93.72155833333333
         ],
         "yaxis": "y"
        },
        {
         "hovertemplate": "constructorName=BAR<br>raceYear=%{x}<br>lapSeconds=%{y}<extra></extra>",
         "legendgroup": "BAR",
         "line": {
          "color": "#EF553B",
          "dash": "solid"
         },
         "marker": {
          "symbol": "circle"
         },
         "mode": "lines",
         "name": "BAR",
         "opacity": 0.65,
         "orientation": "v",
         "showlegend": true,
         "type": "scatter",
         "x": [
          1999,
          2000,
          2001,
          2002,
          2003,
          2004,
          2005
         ],
         "xaxis": "x",
         "y": [
          95.03835714285715,
          90.6631304347826,
          87.73281355932203,
          93.54121186440678,
          89.534625,
          85.081825,
          86.71188983050848
         ],
         "yaxis": "y"
        },
        {
         "hovertemplate": "constructorName=Jaguar<br>raceYear=%{x}<br>lapSeconds=%{y}<extra></extra>",
         "legendgroup": "Jaguar",
         "line": {
          "color": "#00cc96",
          "dash": "solid"
         },
         "marker": {
          "symbol": "circle"
         },
         "mode": "lines",
         "name": "Jaguar",
         "opacity": 0.65,
         "orientation": "v",
         "showlegend": true,
         "type": "scatter",
         "x": [
          2000,
          2001,
          2002,
          2003,
          2004
         ],
         "xaxis": "x",
         "y": [
          90.89347457627119,
          88.49578632478632,
          96.41117283950618,
          91.17506593406594,
          85.9443025210084
         ],
         "yaxis": "y"
        },
        {
         "hovertemplate": "constructorName=Renault<br>raceYear=%{x}<br>lapSeconds=%{y}<extra></extra>",
         "legendgroup": "Renault",
         "line": {
          "color": "#FFD800",
          "dash": "solid"
         },
         "marker": {
          "symbol": "circle"
         },
         "mode": "lines",
         "name": "Renault",
         "opacity": 0.65,
         "orientation": "v",
         "showlegend": true,
         "type": "scatter",
         "x": [
          2002,
          2003,
          2004,
          2005,
          2006,
          2007,
          2008,
          2009,
          2010,
          2011,
          2016,
          2017,
          2018,
          2019,
          2020
         ],
         "xaxis": "x",
         "y": [
          97.76138554216867,
          89.73963392857142,
          84.25866666666667,
          84.66524166666666,
          86.03191666666666,
          84.65501724137931,
          99.9645,
          84.43350847457627,
          99.35828169014084,
          103.83283653846154,
          116.85052325581395,
          97.16743137254902,
          101.07142696629214,
          94.84651923076923,
          97.79982125603864
         ],
         "yaxis": "y"
        },
        {
         "hovertemplate": "constructorName=Toyota<br>raceYear=%{x}<br>lapSeconds=%{y}<extra></extra>",
         "legendgroup": "Toyota",
         "line": {
          "color": "#ab63fa",
          "dash": "solid"
         },
         "marker": {
          "symbol": "circle"
         },
         "mode": "lines",
         "name": "Toyota",
         "opacity": 0.65,
         "orientation": "v",
         "showlegend": true,
         "type": "scatter",
         "x": [
          2002,
          2003,
          2004,
          2005,
          2006,
          2007,
          2008,
          2009
         ],
         "xaxis": "x",
         "y": [
          95.46513333333334,
          89.545,
          86.45192,
          85.82699166666666,
          87.71961016949153,
          86.5752,
          101.5765,
          83.97321666666667
         ],
         "yaxis": "y"
        },
        {
         "hovertemplate": "constructorName=Red Bull<br>raceYear=%{x}<br>lapSeconds=%{y}<extra></extra>",
         "legendgroup": "Red Bull",
         "line": {
          "color": "#1E5BC6",
          "dash": "solid"
         },
         "marker": {
          "symbol": "circle"
         },
         "mode": "lines",
         "name": "Red Bull",
         "opacity": 0.65,
         "orientation": "v",
         "showlegend": true,
         "type": "scatter",
         "x": [
          2005,
          2006,
          2007,
          2008,
          2009,
          2010,
          2011,
          2012,
          2013,
          2014,
          2015,
          2016,
          2017,
          2018,
          2019,
          2020,
          2021,
          2022
         ],
         "xaxis": "x",
         "y": [
          87.03994915254238,
          88.19839830508475,
          86.02872727272727,
          101.39438983050847,
          82.94869999999999,
          98.01090384615385,
          102.65240384615385,
          98.3405,
          106.90564516129032,
          170.42833653846154,
          107.80717808219178,
          109.8665673076923,
          96.98960784313726,
          101.83635714285714,
          94.3370576923077,
          97.1356923076923,
          139.5230588235294,
          159.26132692307692
         ],
         "yaxis": "y"
        },
        {
         "hovertemplate": "constructorName=BMW Sauber<br>raceYear=%{x}<br>lapSeconds=%{y}<extra></extra>",
         "legendgroup": "BMW Sauber",
         "line": {
          "color": "#FFA15A",
          "dash": "solid"
         },
         "marker": {
          "symbol": "circle"
         },
         "mode": "lines",
         "name": "BMW Sauber",
         "opacity": 0.65,
         "orientation": "v",
         "showlegend": true,
         "type": "scatter",
         "x": [
          2006,
          2007,
          2008,
          2009
         ],
         "xaxis": "x",
         "y": [
          87.11455833333333,
          84.03222881355931,
          100.24962626262626,
          84.63716101694915
         ],
         "yaxis": "y"
        },
        {
         "hovertemplate": "constructorName=Honda<br>raceYear=%{x}<br>lapSeconds=%{y}<extra></extra>",
         "legendgroup": "Honda",
         "line": {
          "color": "#19d3f3",
          "dash": "solid"
         },
         "marker": {
          "symbol": "circle"
         },
         "mode": "lines",
         "name": "Honda",
         "opacity": 0.65,
         "orientation": "v",
         "showlegend": true,
         "type": "scatter",
         "x": [
          2006,
          2007,
          2008
         ],
         "xaxis": "x",
         "y": [
          89.41219402985075,
          85.25193103448277,
          100.4529693877551
         ],
         "yaxis": "y"
        },
        {
         "hovertemplate": "constructorName=MF1<br>raceYear=%{x}<br>lapSeconds=%{y}<extra></extra>",
         "legendgroup": "MF1",
         "line": {
          "color": "#FF6692",
          "dash": "solid"
         },
         "marker": {
          "symbol": "circle"
         },
         "mode": "lines",
         "name": "MF1",
         "opacity": 0.65,
         "orientation": "v",
         "showlegend": true,
         "type": "scatter",
         "x": [
          2006
         ],
         "xaxis": "x",
         "y": [
          88.83611111111112
         ],
         "yaxis": "y"
        },
        {
         "hovertemplate": "constructorName=Super Aguri<br>raceYear=%{x}<br>lapSeconds=%{y}<extra></extra>",
         "legendgroup": "Super Aguri",
         "line": {
          "color": "#B6E880",
          "dash": "solid"
         },
         "marker": {
          "symbol": "circle"
         },
         "mode": "lines",
         "name": "Super Aguri",
         "opacity": 0.65,
         "orientation": "v",
         "showlegend": true,
         "type": "scatter",
         "x": [
          2006,
          2007
         ],
         "xaxis": "x",
         "y": [
          91.40861403508772,
          92.08366304347827
         ],
         "yaxis": "y"
        },
        {
         "hovertemplate": "constructorName=Toro Rosso<br>raceYear=%{x}<br>lapSeconds=%{y}<extra></extra>",
         "legendgroup": "Toro Rosso",
         "line": {
          "color": "#0000FF",
          "dash": "solid"
         },
         "marker": {
          "symbol": "circle"
         },
         "mode": "lines",
         "name": "Toro Rosso",
         "opacity": 0.65,
         "orientation": "v",
         "showlegend": true,
         "type": "scatter",
         "x": [
          2006,
          2007,
          2008,
          2009,
          2010,
          2011,
          2012,
          2013,
          2014,
          2015,
          2016,
          2017,
          2018,
          2019
         ],
         "xaxis": "x",
         "y": [
          88.9175,
          85.89267073170731,
          101.58220338983051,
          86.11957291666666,
          98.85104166666667,
          105.58633766233767,
          99.29932692307692,
          108.1502988505747,
          172.00618446601942,
          107.69682352941176,
          111.25115384615385,
          98.78379999999999,
          102.9883962264151,
          94.99270192307692
         ],
         "yaxis": "y"
        },
        {
         "hovertemplate": "constructorName=Spyker<br>raceYear=%{x}<br>lapSeconds=%{y}<extra></extra>",
         "legendgroup": "Spyker",
         "line": {
          "color": "#FF97FF",
          "dash": "solid"
         },
         "marker": {
          "symbol": "circle"
         },
         "mode": "lines",
         "name": "Spyker",
         "opacity": 0.65,
         "orientation": "v",
         "showlegend": true,
         "type": "scatter",
         "x": [
          2007
         ],
         "xaxis": "x",
         "y": [
          86.59054794520547
         ],
         "yaxis": "y"
        },
        {
         "hovertemplate": "constructorName=Force India<br>raceYear=%{x}<br>lapSeconds=%{y}<extra></extra>",
         "legendgroup": "Force India",
         "line": {
          "color": "#FF80C7",
          "dash": "solid"
         },
         "marker": {
          "symbol": "circle"
         },
         "mode": "lines",
         "name": "Force India",
         "opacity": 0.65,
         "orientation": "v",
         "showlegend": true,
         "type": "scatter",
         "x": [
          2008,
          2009,
          2010,
          2011,
          2012,
          2013,
          2014,
          2015,
          2016,
          2017,
          2018
         ],
         "xaxis": "x",
         "y": [
          100.3338888888889,
          84.65784873949579,
          98.45952884615384,
          104.6052427184466,
          101.02442592592594,
          107.62682692307693,
          172.07608737864078,
          107.49712621359222,
          111.02225961538463,
          97.81842,
          101.57890384615385
         ],
         "yaxis": "y"
        },
        {
         "hovertemplate": "constructorName=Brawn<br>raceYear=%{x}<br>lapSeconds=%{y}<extra></extra>",
         "legendgroup": "Brawn",
         "line": {
          "color": "#FECB52",
          "dash": "solid"
         },
         "marker": {
          "symbol": "circle"
         },
         "mode": "lines",
         "name": "Brawn",
         "opacity": 0.65,
         "orientation": "v",
         "showlegend": true,
         "type": "scatter",
         "x": [
          2009
         ],
         "xaxis": "x",
         "y": [
          83.55096666666667
         ],
         "yaxis": "y"
        },
        {
         "hovertemplate": "constructorName=HRT<br>raceYear=%{x}<br>lapSeconds=%{y}<extra></extra>",
         "legendgroup": "HRT",
         "line": {
          "color": "#b2945e",
          "dash": "solid"
         },
         "marker": {
          "symbol": "circle"
         },
         "mode": "lines",
         "name": "HRT",
         "opacity": 0.65,
         "orientation": "v",
         "showlegend": true,
         "type": "scatter",
         "x": [
          2010,
          2011,
          2012
         ],
         "xaxis": "x",
         "y": [
          102.73094999999999,
          108.95562626262627,
          102.65979999999999
         ],
         "yaxis": "y"
        },
        {
         "hovertemplate": "constructorName=Lotus<br>raceYear=%{x}<br>lapSeconds=%{y}<extra></extra>",
         "legendgroup": "Lotus",
         "line": {
          "color": "#FFB800",
          "dash": "solid"
         },
         "marker": {
          "symbol": "circle"
         },
         "mode": "lines",
         "name": "Lotus",
         "opacity": 0.65,
         "orientation": "v",
         "showlegend": true,
         "type": "scatter",
         "x": [
          2010,
          2011
         ],
         "xaxis": "x",
         "y": [
          101.44099019607843,
          120.175
         ],
         "yaxis": "y"
        },
        {
         "hovertemplate": "constructorName=Mercedes<br>raceYear=%{x}<br>lapSeconds=%{y}<extra></extra>",
         "legendgroup": "Mercedes",
         "line": {
          "color": "#6CD3BF",
          "dash": "solid"
         },
         "marker": {
          "symbol": "circle"
         },
         "mode": "lines",
         "name": "Mercedes",
         "opacity": 0.65,
         "orientation": "v",
         "showlegend": true,
         "type": "scatter",
         "x": [
          2010,
          2011,
          2012,
          2013,
          2014,
          2015,
          2016,
          2017,
          2018,
          2019,
          2020,
          2021,
          2022
         ],
         "xaxis": "x",
         "y": [
          98.2625576923077,
          103.66316346153846,
          99.1261826923077,
          107.37180769230768,
          190.461025,
          105.63859615384617,
          109.60166346153846,
          95.96983333333334,
          101.06456730769231,
          93.86376923076924,
          97.11190384615385,
          136.70858653846153,
          159.16415384615385
         ],
         "yaxis": "y"
        },
        {
         "hovertemplate": "constructorName=Virgin<br>raceYear=%{x}<br>lapSeconds=%{y}<extra></extra>",
         "legendgroup": "Virgin",
         "line": {
          "color": "#c82e37",
          "dash": "solid"
         },
         "marker": {
          "symbol": "circle"
         },
         "mode": "lines",
         "name": "Virgin",
         "opacity": 0.65,
         "orientation": "v",
         "showlegend": true,
         "type": "scatter",
         "x": [
          2010,
          2011
         ],
         "xaxis": "x",
         "y": [
          102.16771186440678,
          107.63839
         ],
         "yaxis": "y"
        },
        {
         "hovertemplate": "constructorName=Caterham<br>raceYear=%{x}<br>lapSeconds=%{y}<extra></extra>",
         "legendgroup": "Caterham",
         "line": {
          "color": "#0b361f",
          "dash": "solid"
         },
         "marker": {
          "symbol": "circle"
         },
         "mode": "lines",
         "name": "Caterham",
         "opacity": 0.65,
         "orientation": "v",
         "showlegend": true,
         "type": "scatter",
         "x": [
          2012,
          2013,
          2014
         ],
         "xaxis": "x",
         "y": [
          101.14709803921569,
          108.25273076923077,
          224.44447540983606
         ],
         "yaxis": "y"
        },
        {
         "hovertemplate": "constructorName=Lotus F1<br>raceYear=%{x}<br>lapSeconds=%{y}<extra></extra>",
         "legendgroup": "Lotus F1",
         "line": {
          "color": "#FFB800",
          "dash": "solid"
         },
         "marker": {
          "symbol": "circle"
         },
         "mode": "lines",
         "name": "Lotus F1",
         "opacity": 0.65,
         "orientation": "v",
         "showlegend": true,
         "type": "scatter",
         "x": [
          2012,
          2013,
          2014
         ],
         "xaxis": "x",
         "y": [
          98.55760576923078,
          107.74158252427185,
          174.84309000000002
         ],
         "yaxis": "y"
        },
        {
         "hovertemplate": "constructorName=Marussia<br>raceYear=%{x}<br>lapSeconds=%{y}<extra></extra>",
         "legendgroup": "Marussia",
         "line": {
          "color": "#6E0000",
          "dash": "solid"
         },
         "marker": {
          "symbol": "circle"
         },
         "mode": "lines",
         "name": "Marussia",
         "opacity": 0.65,
         "orientation": "v",
         "showlegend": true,
         "type": "scatter",
         "x": [
          2012,
          2013,
          2014
         ],
         "xaxis": "x",
         "y": [
          101.82306862745098,
          108.29489423076923,
          176.099900990099
         ],
         "yaxis": "y"
        },
        {
         "hovertemplate": "constructorName=Manor Marussia<br>raceYear=%{x}<br>lapSeconds=%{y}<extra></extra>",
         "legendgroup": "Manor Marussia",
         "line": {
          "color": "#6E0000",
          "dash": "solid"
         },
         "marker": {
          "symbol": "circle"
         },
         "mode": "lines",
         "name": "Manor Marussia",
         "opacity": 0.65,
         "orientation": "v",
         "showlegend": true,
         "type": "scatter",
         "x": [
          2015,
          2016
         ],
         "xaxis": "x",
         "y": [
          112.8180918367347,
          137.20136666666667
         ],
         "yaxis": "y"
        },
        {
         "hovertemplate": "constructorName=Haas F1 Team<br>raceYear=%{x}<br>lapSeconds=%{y}<extra></extra>",
         "legendgroup": "Haas F1 Team",
         "line": {
          "color": "#B6BABD",
          "dash": "solid"
         },
         "marker": {
          "symbol": "circle"
         },
         "mode": "lines",
         "name": "Haas F1 Team",
         "opacity": 0.65,
         "orientation": "v",
         "showlegend": true,
         "type": "scatter",
         "x": [
          2016,
          2017,
          2018,
          2019,
          2020,
          2021,
          2022
         ],
         "xaxis": "x",
         "y": [
          118.86764705882354,
          98.20221,
          101.12507865168539,
          107.01193333333332,
          97.56910204081632,
          140.6001568627451,
          159.46352884615382
         ],
         "yaxis": "y"
        },
        {
         "hovertemplate": "constructorName=Alfa Romeo<br>raceYear=%{x}<br>lapSeconds=%{y}<extra></extra>",
         "legendgroup": "Alfa Romeo",
         "line": {
          "color": "#B12039",
          "dash": "solid"
         },
         "marker": {
          "symbol": "circle"
         },
         "mode": "lines",
         "name": "Alfa Romeo",
         "opacity": 0.65,
         "orientation": "v",
         "showlegend": true,
         "type": "scatter",
         "x": [
          2019,
          2020,
          2021,
          2022
         ],
         "xaxis": "x",
         "y": [
          94.6397,
          98.87218048780487,
          139.3997156862745,
          256.31925
         ],
         "yaxis": "y"
        },
        {
         "hovertemplate": "constructorName=Racing Point<br>raceYear=%{x}<br>lapSeconds=%{y}<extra></extra>",
         "legendgroup": "Racing Point",
         "line": {
          "color": "#F596C8",
          "dash": "solid"
         },
         "marker": {
          "symbol": "circle"
         },
         "mode": "lines",
         "name": "Racing Point",
         "opacity": 0.65,
         "orientation": "v",
         "showlegend": true,
         "type": "scatter",
         "x": [
          2019,
          2020
         ],
         "xaxis": "x",
         "y": [
          95.67294174757282,
          96.03249358974358
         ],
         "yaxis": "y"
        },
        {
         "hovertemplate": "constructorName=AlphaTauri<br>raceYear=%{x}<br>lapSeconds=%{y}<extra></extra>",
         "legendgroup": "AlphaTauri",
         "line": {
          "color": "#4E7C9B",
          "dash": "solid"
         },
         "marker": {
          "symbol": "circle"
         },
         "mode": "lines",
         "name": "AlphaTauri",
         "opacity": 0.65,
         "orientation": "v",
         "showlegend": true,
         "type": "scatter",
         "x": [
          2020,
          2021,
          2022
         ],
         "xaxis": "x",
         "y": [
          97.30161077844312,
          138.21115384615385,
          179.81625641025641
         ],
         "yaxis": "y"
        },
        {
         "hovertemplate": "constructorName=Alpine F1 Team<br>raceYear=%{x}<br>lapSeconds=%{y}<extra></extra>",
         "legendgroup": "Alpine F1 Team",
         "line": {
          "color": "#2293D1",
          "dash": "solid"
         },
         "marker": {
          "symbol": "circle"
         },
         "mode": "lines",
         "name": "Alpine F1 Team",
         "opacity": 0.65,
         "orientation": "v",
         "showlegend": true,
         "type": "scatter",
         "x": [
          2021,
          2022
         ],
         "xaxis": "x",
         "y": [
          138.02714423076924,
          168.78276404494383
         ],
         "yaxis": "y"
        },
        {
         "hovertemplate": "constructorName=Aston Martin<br>raceYear=%{x}<br>lapSeconds=%{y}<extra></extra>",
         "legendgroup": "Aston Martin",
         "line": {
          "color": "#2D826D",
          "dash": "solid"
         },
         "marker": {
          "symbol": "circle"
         },
         "mode": "lines",
         "name": "Aston Martin",
         "opacity": 0.65,
         "orientation": "v",
         "showlegend": true,
         "type": "scatter",
         "x": [
          2021,
          2022
         ],
         "xaxis": "x",
         "y": [
          144.26909782608695,
          159.51081730769232
         ],
         "yaxis": "y"
        }
       ],
       "layout": {
        "legend": {
         "title": {
          "text": "constructorName"
         },
         "tracegroupgap": 0
        },
        "margin": {
         "t": 60
        },
        "template": {
         "data": {
          "bar": [
           {
            "error_x": {
             "color": "#2a3f5f"
            },
            "error_y": {
             "color": "#2a3f5f"
            },
            "marker": {
             "line": {
              "color": "#E5ECF6",
              "width": 0.5
             },
             "pattern": {
              "fillmode": "overlay",
              "size": 10,
              "solidity": 0.2
             }
            },
            "type": "bar"
           }
          ],
          "barpolar": [
           {
            "marker": {
             "line": {
              "color": "#E5ECF6",
              "width": 0.5
             },
             "pattern": {
              "fillmode": "overlay",
              "size": 10,
              "solidity": 0.2
             }
            },
            "type": "barpolar"
           }
          ],
          "carpet": [
           {
            "aaxis": {
             "endlinecolor": "#2a3f5f",
             "gridcolor": "white",
             "linecolor": "white",
             "minorgridcolor": "white",
             "startlinecolor": "#2a3f5f"
            },
            "baxis": {
             "endlinecolor": "#2a3f5f",
             "gridcolor": "white",
             "linecolor": "white",
             "minorgridcolor": "white",
             "startlinecolor": "#2a3f5f"
            },
            "type": "carpet"
           }
          ],
          "choropleth": [
           {
            "colorbar": {
             "outlinewidth": 0,
             "ticks": ""
            },
            "type": "choropleth"
           }
          ],
          "contour": [
           {
            "colorbar": {
             "outlinewidth": 0,
             "ticks": ""
            },
            "colorscale": [
             [
              0,
              "#0d0887"
             ],
             [
              0.1111111111111111,
              "#46039f"
             ],
             [
              0.2222222222222222,
              "#7201a8"
             ],
             [
              0.3333333333333333,
              "#9c179e"
             ],
             [
              0.4444444444444444,
              "#bd3786"
             ],
             [
              0.5555555555555556,
              "#d8576b"
             ],
             [
              0.6666666666666666,
              "#ed7953"
             ],
             [
              0.7777777777777778,
              "#fb9f3a"
             ],
             [
              0.8888888888888888,
              "#fdca26"
             ],
             [
              1,
              "#f0f921"
             ]
            ],
            "type": "contour"
           }
          ],
          "contourcarpet": [
           {
            "colorbar": {
             "outlinewidth": 0,
             "ticks": ""
            },
            "type": "contourcarpet"
           }
          ],
          "heatmap": [
           {
            "colorbar": {
             "outlinewidth": 0,
             "ticks": ""
            },
            "colorscale": [
             [
              0,
              "#0d0887"
             ],
             [
              0.1111111111111111,
              "#46039f"
             ],
             [
              0.2222222222222222,
              "#7201a8"
             ],
             [
              0.3333333333333333,
              "#9c179e"
             ],
             [
              0.4444444444444444,
              "#bd3786"
             ],
             [
              0.5555555555555556,
              "#d8576b"
             ],
             [
              0.6666666666666666,
              "#ed7953"
             ],
             [
              0.7777777777777778,
              "#fb9f3a"
             ],
             [
              0.8888888888888888,
              "#fdca26"
             ],
             [
              1,
              "#f0f921"
             ]
            ],
            "type": "heatmap"
           }
          ],
          "heatmapgl": [
           {
            "colorbar": {
             "outlinewidth": 0,
             "ticks": ""
            },
            "colorscale": [
             [
              0,
              "#0d0887"
             ],
             [
              0.1111111111111111,
              "#46039f"
             ],
             [
              0.2222222222222222,
              "#7201a8"
             ],
             [
              0.3333333333333333,
              "#9c179e"
             ],
             [
              0.4444444444444444,
              "#bd3786"
             ],
             [
              0.5555555555555556,
              "#d8576b"
             ],
             [
              0.6666666666666666,
              "#ed7953"
             ],
             [
              0.7777777777777778,
              "#fb9f3a"
             ],
             [
              0.8888888888888888,
              "#fdca26"
             ],
             [
              1,
              "#f0f921"
             ]
            ],
            "type": "heatmapgl"
           }
          ],
          "histogram": [
           {
            "marker": {
             "pattern": {
              "fillmode": "overlay",
              "size": 10,
              "solidity": 0.2
             }
            },
            "type": "histogram"
           }
          ],
          "histogram2d": [
           {
            "colorbar": {
             "outlinewidth": 0,
             "ticks": ""
            },
            "colorscale": [
             [
              0,
              "#0d0887"
             ],
             [
              0.1111111111111111,
              "#46039f"
             ],
             [
              0.2222222222222222,
              "#7201a8"
             ],
             [
              0.3333333333333333,
              "#9c179e"
             ],
             [
              0.4444444444444444,
              "#bd3786"
             ],
             [
              0.5555555555555556,
              "#d8576b"
             ],
             [
              0.6666666666666666,
              "#ed7953"
             ],
             [
              0.7777777777777778,
              "#fb9f3a"
             ],
             [
              0.8888888888888888,
              "#fdca26"
             ],
             [
              1,
              "#f0f921"
             ]
            ],
            "type": "histogram2d"
           }
          ],
          "histogram2dcontour": [
           {
            "colorbar": {
             "outlinewidth": 0,
             "ticks": ""
            },
            "colorscale": [
             [
              0,
              "#0d0887"
             ],
             [
              0.1111111111111111,
              "#46039f"
             ],
             [
              0.2222222222222222,
              "#7201a8"
             ],
             [
              0.3333333333333333,
              "#9c179e"
             ],
             [
              0.4444444444444444,
              "#bd3786"
             ],
             [
              0.5555555555555556,
              "#d8576b"
             ],
             [
              0.6666666666666666,
              "#ed7953"
             ],
             [
              0.7777777777777778,
              "#fb9f3a"
             ],
             [
              0.8888888888888888,
              "#fdca26"
             ],
             [
              1,
              "#f0f921"
             ]
            ],
            "type": "histogram2dcontour"
           }
          ],
          "mesh3d": [
           {
            "colorbar": {
             "outlinewidth": 0,
             "ticks": ""
            },
            "type": "mesh3d"
           }
          ],
          "parcoords": [
           {
            "line": {
             "colorbar": {
              "outlinewidth": 0,
              "ticks": ""
             }
            },
            "type": "parcoords"
           }
          ],
          "pie": [
           {
            "automargin": true,
            "type": "pie"
           }
          ],
          "scatter": [
           {
            "fillpattern": {
             "fillmode": "overlay",
             "size": 10,
             "solidity": 0.2
            },
            "type": "scatter"
           }
          ],
          "scatter3d": [
           {
            "line": {
             "colorbar": {
              "outlinewidth": 0,
              "ticks": ""
             }
            },
            "marker": {
             "colorbar": {
              "outlinewidth": 0,
              "ticks": ""
             }
            },
            "type": "scatter3d"
           }
          ],
          "scattercarpet": [
           {
            "marker": {
             "colorbar": {
              "outlinewidth": 0,
              "ticks": ""
             }
            },
            "type": "scattercarpet"
           }
          ],
          "scattergeo": [
           {
            "marker": {
             "colorbar": {
              "outlinewidth": 0,
              "ticks": ""
             }
            },
            "type": "scattergeo"
           }
          ],
          "scattergl": [
           {
            "marker": {
             "colorbar": {
              "outlinewidth": 0,
              "ticks": ""
             }
            },
            "type": "scattergl"
           }
          ],
          "scattermapbox": [
           {
            "marker": {
             "colorbar": {
              "outlinewidth": 0,
              "ticks": ""
             }
            },
            "type": "scattermapbox"
           }
          ],
          "scatterpolar": [
           {
            "marker": {
             "colorbar": {
              "outlinewidth": 0,
              "ticks": ""
             }
            },
            "type": "scatterpolar"
           }
          ],
          "scatterpolargl": [
           {
            "marker": {
             "colorbar": {
              "outlinewidth": 0,
              "ticks": ""
             }
            },
            "type": "scatterpolargl"
           }
          ],
          "scatterternary": [
           {
            "marker": {
             "colorbar": {
              "outlinewidth": 0,
              "ticks": ""
             }
            },
            "type": "scatterternary"
           }
          ],
          "surface": [
           {
            "colorbar": {
             "outlinewidth": 0,
             "ticks": ""
            },
            "colorscale": [
             [
              0,
              "#0d0887"
             ],
             [
              0.1111111111111111,
              "#46039f"
             ],
             [
              0.2222222222222222,
              "#7201a8"
             ],
             [
              0.3333333333333333,
              "#9c179e"
             ],
             [
              0.4444444444444444,
              "#bd3786"
             ],
             [
              0.5555555555555556,
              "#d8576b"
             ],
             [
              0.6666666666666666,
              "#ed7953"
             ],
             [
              0.7777777777777778,
              "#fb9f3a"
             ],
             [
              0.8888888888888888,
              "#fdca26"
             ],
             [
              1,
              "#f0f921"
             ]
            ],
            "type": "surface"
           }
          ],
          "table": [
           {
            "cells": {
             "fill": {
              "color": "#EBF0F8"
             },
             "line": {
              "color": "white"
             }
            },
            "header": {
             "fill": {
              "color": "#C8D4E3"
             },
             "line": {
              "color": "white"
             }
            },
            "type": "table"
           }
          ]
         },
         "layout": {
          "annotationdefaults": {
           "arrowcolor": "#2a3f5f",
           "arrowhead": 0,
           "arrowwidth": 1
          },
          "autotypenumbers": "strict",
          "coloraxis": {
           "colorbar": {
            "outlinewidth": 0,
            "ticks": ""
           }
          },
          "colorscale": {
           "diverging": [
            [
             0,
             "#8e0152"
            ],
            [
             0.1,
             "#c51b7d"
            ],
            [
             0.2,
             "#de77ae"
            ],
            [
             0.3,
             "#f1b6da"
            ],
            [
             0.4,
             "#fde0ef"
            ],
            [
             0.5,
             "#f7f7f7"
            ],
            [
             0.6,
             "#e6f5d0"
            ],
            [
             0.7,
             "#b8e186"
            ],
            [
             0.8,
             "#7fbc41"
            ],
            [
             0.9,
             "#4d9221"
            ],
            [
             1,
             "#276419"
            ]
           ],
           "sequential": [
            [
             0,
             "#0d0887"
            ],
            [
             0.1111111111111111,
             "#46039f"
            ],
            [
             0.2222222222222222,
             "#7201a8"
            ],
            [
             0.3333333333333333,
             "#9c179e"
            ],
            [
             0.4444444444444444,
             "#bd3786"
            ],
            [
             0.5555555555555556,
             "#d8576b"
            ],
            [
             0.6666666666666666,
             "#ed7953"
            ],
            [
             0.7777777777777778,
             "#fb9f3a"
            ],
            [
             0.8888888888888888,
             "#fdca26"
            ],
            [
             1,
             "#f0f921"
            ]
           ],
           "sequentialminus": [
            [
             0,
             "#0d0887"
            ],
            [
             0.1111111111111111,
             "#46039f"
            ],
            [
             0.2222222222222222,
             "#7201a8"
            ],
            [
             0.3333333333333333,
             "#9c179e"
            ],
            [
             0.4444444444444444,
             "#bd3786"
            ],
            [
             0.5555555555555556,
             "#d8576b"
            ],
            [
             0.6666666666666666,
             "#ed7953"
            ],
            [
             0.7777777777777778,
             "#fb9f3a"
            ],
            [
             0.8888888888888888,
             "#fdca26"
            ],
            [
             1,
             "#f0f921"
            ]
           ]
          },
          "colorway": [
           "#636efa",
           "#EF553B",
           "#00cc96",
           "#ab63fa",
           "#FFA15A",
           "#19d3f3",
           "#FF6692",
           "#B6E880",
           "#FF97FF",
           "#FECB52"
          ],
          "font": {
           "color": "#2a3f5f"
          },
          "geo": {
           "bgcolor": "white",
           "lakecolor": "white",
           "landcolor": "#E5ECF6",
           "showlakes": true,
           "showland": true,
           "subunitcolor": "white"
          },
          "hoverlabel": {
           "align": "left"
          },
          "hovermode": "closest",
          "mapbox": {
           "style": "light"
          },
          "paper_bgcolor": "white",
          "plot_bgcolor": "#E5ECF6",
          "polar": {
           "angularaxis": {
            "gridcolor": "white",
            "linecolor": "white",
            "ticks": ""
           },
           "bgcolor": "#E5ECF6",
           "radialaxis": {
            "gridcolor": "white",
            "linecolor": "white",
            "ticks": ""
           }
          },
          "scene": {
           "xaxis": {
            "backgroundcolor": "#E5ECF6",
            "gridcolor": "white",
            "gridwidth": 2,
            "linecolor": "white",
            "showbackground": true,
            "ticks": "",
            "zerolinecolor": "white"
           },
           "yaxis": {
            "backgroundcolor": "#E5ECF6",
            "gridcolor": "white",
            "gridwidth": 2,
            "linecolor": "white",
            "showbackground": true,
            "ticks": "",
            "zerolinecolor": "white"
           },
           "zaxis": {
            "backgroundcolor": "#E5ECF6",
            "gridcolor": "white",
            "gridwidth": 2,
            "linecolor": "white",
            "showbackground": true,
            "ticks": "",
            "zerolinecolor": "white"
           }
          },
          "shapedefaults": {
           "line": {
            "color": "#2a3f5f"
           }
          },
          "ternary": {
           "aaxis": {
            "gridcolor": "white",
            "linecolor": "white",
            "ticks": ""
           },
           "baxis": {
            "gridcolor": "white",
            "linecolor": "white",
            "ticks": ""
           },
           "bgcolor": "#E5ECF6",
           "caxis": {
            "gridcolor": "white",
            "linecolor": "white",
            "ticks": ""
           }
          },
          "title": {
           "x": 0.05
          },
          "xaxis": {
           "automargin": true,
           "gridcolor": "white",
           "linecolor": "white",
           "ticks": "",
           "title": {
            "standoff": 15
           },
           "zerolinecolor": "white",
           "zerolinewidth": 2
          },
          "yaxis": {
           "automargin": true,
           "gridcolor": "white",
           "linecolor": "white",
           "ticks": "",
           "title": {
            "standoff": 15
           },
           "zerolinecolor": "white",
           "zerolinewidth": 2
          }
         }
        },
        "title": {
         "text": "Lap Time Trend by Constructor - Silverstone Circuit"
        },
        "xaxis": {
         "anchor": "y",
         "domain": [
          0,
          1
         ],
         "title": {
          "text": "raceYear"
         }
        },
        "yaxis": {
         "anchor": "x",
         "domain": [
          0,
          1
         ],
         "title": {
          "text": "lapSeconds"
         }
        }
       }
      }
     },
     "metadata": {},
     "output_type": "display_data"
    }
   ],
   "source": [
    "circuitName = lapTimesAnalysis['circuitName'].unique()[8]\n",
    "df = lapTimesAnalysis[(lapTimesAnalysis['circuitName']==circuitName)].groupby(by=['raceYear','constructorName']).mean().reset_index()\n",
    "\n",
    "# create figure\n",
    "fig = px.line(\n",
    "    df,\n",
    "    x='raceYear',\n",
    "    y='lapSeconds',\n",
    "    color='constructorName',\n",
    "    color_discrete_map=constructor_color_map,\n",
    ")\n",
    "\n",
    "fig.update_layout(\n",
    "    title_text=f'Lap Time Trend by Constructor - {circuitName}',\n",
    ")\n",
    "\n",
    "fig.update_traces(opacity=0.65)\n",
    "fig.show()"
   ]
  },
  {
   "cell_type": "markdown",
   "id": "2049c6a1",
   "metadata": {
    "papermill": {
     "duration": 0.020581,
     "end_time": "2022-04-15T21:53:25.675064",
     "exception": false,
     "start_time": "2022-04-15T21:53:25.654483",
     "status": "completed"
    },
    "tags": []
   },
   "source": [
    "## Lap Times Over the Course of a Season (by Circuit)"
   ]
  },
  {
   "cell_type": "code",
   "execution_count": 11,
   "id": "3c08642f",
   "metadata": {
    "execution": {
     "iopub.execute_input": "2022-04-15T21:53:25.719429Z",
     "iopub.status.busy": "2022-04-15T21:53:25.718815Z",
     "iopub.status.idle": "2022-04-15T21:53:25.768515Z",
     "shell.execute_reply": "2022-04-15T21:53:25.769009Z",
     "shell.execute_reply.started": "2022-04-15T21:52:44.301264Z"
    },
    "papermill": {
     "duration": 0.073413,
     "end_time": "2022-04-15T21:53:25.769183",
     "exception": false,
     "start_time": "2022-04-15T21:53:25.695770",
     "status": "completed"
    },
    "tags": []
   },
   "outputs": [],
   "source": [
    "year = 2022\n",
    "circuitName = lapTimesAnalysis['circuitName'].unique()[5]\n",
    "driverList = lapTimesAnalysis[(lapTimesAnalysis['raceYear']==year)]['driverName'].unique()"
   ]
  },
  {
   "cell_type": "code",
   "execution_count": 12,
   "id": "a8b5de45",
   "metadata": {
    "execution": {
     "iopub.execute_input": "2022-04-15T21:53:25.814070Z",
     "iopub.status.busy": "2022-04-15T21:53:25.813502Z",
     "iopub.status.idle": "2022-04-15T21:53:25.986414Z",
     "shell.execute_reply": "2022-04-15T21:53:25.985939Z",
     "shell.execute_reply.started": "2022-04-15T21:52:44.363066Z"
    },
    "papermill": {
     "duration": 0.196125,
     "end_time": "2022-04-15T21:53:25.986549",
     "exception": false,
     "start_time": "2022-04-15T21:53:25.790424",
     "status": "completed"
    },
    "tags": []
   },
   "outputs": [
    {
     "data": {
      "application/vnd.plotly.v1+json": {
       "config": {
        "plotlyServerURL": "https://plot.ly"
       },
       "data": [
        {
         "hovertemplate": "driverName=Valtteri Bottas<br>circuitName=%{x}<br>lapSeconds=%{y}<extra></extra>",
         "legendgroup": "Valtteri Bottas",
         "line": {
          "color": "#636efa",
          "dash": "solid"
         },
         "marker": {
          "symbol": "circle"
         },
         "mode": "lines",
         "name": "Valtteri Bottas",
         "orientation": "v",
         "showlegend": true,
         "type": "scatter",
         "x": [
          "Bahrain International Circuit",
          "Jeddah Corniche Circuit",
          "Albert Park Grand Prix Circuit",
          "Autodromo Enzo e Dino Ferrari",
          "Miami International Autodrome",
          "Circuit de Barcelona-Catalunya",
          "Circuit de Monaco",
          "Baku City Circuit",
          "Circuit Gilles Villeneuve",
          "Silverstone Circuit",
          "Red Bull Ring",
          "Circuit Paul Ricard",
          "Hungaroring",
          "Circuit de Spa-Francorchamps",
          "Circuit Park Zandvoort",
          "Autodromo Nazionale di Monza",
          "Marina Bay Street Circuit",
          "Suzuka Circuit",
          "Circuit of the Americas",
          "Autódromo Hermanos Rodríguez",
          "Autódromo José Carlos Pace",
          "Yas Marina Circuit"
         ],
         "xaxis": "x",
         "y": [
          102.97724561403508,
          104.39094444444444,
          91.98253448275862,
          88.43122222222223,
          99.81282456140352,
          89.40077272727272,
          110.04359375,
          113.0307,
          82.9572,
          256.31925,
          72.63267142857143,
          103.37316981132076,
          86.48070769230769,
          125.651,
          80.00898113207546,
          92.84476923076923,
          125.91664406779661,
          135.375,
          105.7689375,
          85.13011428571428,
          83.61402816901409,
          92.90556140350877
         ],
         "yaxis": "y"
        },
        {
         "hovertemplate": "driverName=Alexander Albon<br>circuitName=%{x}<br>lapSeconds=%{y}<extra></extra>",
         "legendgroup": "Alexander Albon",
         "line": {
          "color": "#EF553B",
          "dash": "solid"
         },
         "marker": {
          "symbol": "circle"
         },
         "mode": "lines",
         "name": "Alexander Albon",
         "orientation": "v",
         "showlegend": true,
         "type": "scatter",
         "x": [
          "Bahrain International Circuit",
          "Jeddah Corniche Circuit",
          "Albert Park Grand Prix Circuit",
          "Autodromo Enzo e Dino Ferrari",
          "Miami International Autodrome",
          "Circuit de Barcelona-Catalunya",
          "Circuit de Monaco",
          "Baku City Circuit",
          "Circuit Gilles Villeneuve",
          "Red Bull Ring",
          "Circuit Paul Ricard",
          "Hungaroring",
          "Circuit de Spa-Francorchamps",
          "Circuit Park Zandvoort",
          "Marina Bay Street Circuit",
          "Circuit of the Americas",
          "Autódromo Hermanos Rodríguez",
          "Autódromo José Carlos Pace",
          "Yas Marina Circuit"
         ],
         "xaxis": "x",
         "y": [
          103.64063157894736,
          103.26176595744681,
          92.17120689655172,
          89.3865,
          99.94075438596491,
          92.043796875,
          120.91066666666667,
          113.06302,
          83.23785714285714,
          72.69841428571429,
          103.22032075471698,
          87.57660869565217,
          119.42713636363636,
          81.01615277777779,
          131.79728,
          110.83471428571428,
          85.16617142857142,
          83.80366197183099,
          92.7341052631579
         ],
         "yaxis": "y"
        },
        {
         "hovertemplate": "driverName=Carlos Sainz<br>circuitName=%{x}<br>lapSeconds=%{y}<extra></extra>",
         "legendgroup": "Carlos Sainz",
         "line": {
          "color": "#00cc96",
          "dash": "solid"
         },
         "marker": {
          "symbol": "circle"
         },
         "mode": "lines",
         "name": "Carlos Sainz",
         "orientation": "v",
         "showlegend": true,
         "type": "scatter",
         "x": [
          "Bahrain International Circuit",
          "Jeddah Corniche Circuit",
          "Albert Park Grand Prix Circuit",
          "Miami International Autodrome",
          "Circuit de Barcelona-Catalunya",
          "Circuit de Monaco",
          "Baku City Circuit",
          "Circuit Gilles Villeneuve",
          "Silverstone Circuit",
          "Red Bull Ring",
          "Circuit Paul Ricard",
          "Hungaroring",
          "Circuit de Spa-Francorchamps",
          "Circuit Park Zandvoort",
          "Autodromo Nazionale di Monza",
          "Marina Bay Street Circuit",
          "Circuit of the Americas",
          "Autódromo Hermanos Rodríguez",
          "Autódromo José Carlos Pace",
          "Yas Marina Circuit"
         ],
         "xaxis": "x",
         "y": [
          102.79266666666666,
          101.3478,
          99.028,
          99.51731578947368,
          89.17701515151515,
          109.240921875,
          109.80575,
          82.61071428571428,
          159.0444423076923,
          71.16046428571428,
          102.4713962264151,
          85.57844285714286,
          117.72227272727272,
          80.81512500000001,
          91.1806037735849,
          124.58547457627118,
          115.016,
          84.15284507042253,
          83.35345070422535,
          91.22079310344827
         ],
         "yaxis": "y"
        },
        {
         "hovertemplate": "driverName=Charles Leclerc<br>circuitName=%{x}<br>lapSeconds=%{y}<extra></extra>",
         "legendgroup": "Charles Leclerc",
         "line": {
          "color": "#ab63fa",
          "dash": "solid"
         },
         "marker": {
          "symbol": "circle"
         },
         "mode": "lines",
         "name": "Charles Leclerc",
         "orientation": "v",
         "showlegend": true,
         "type": "scatter",
         "x": [
          "Bahrain International Circuit",
          "Jeddah Corniche Circuit",
          "Albert Park Grand Prix Circuit",
          "Autodromo Enzo e Dino Ferrari",
          "Miami International Autodrome",
          "Circuit de Barcelona-Catalunya",
          "Circuit de Monaco",
          "Baku City Circuit",
          "Circuit Gilles Villeneuve",
          "Silverstone Circuit",
          "Red Bull Ring",
          "Circuit Paul Ricard",
          "Hungaroring",
          "Circuit de Spa-Francorchamps",
          "Circuit Park Zandvoort",
          "Autodromo Nazionale di Monza",
          "Marina Bay Street Circuit",
          "Suzuka Circuit",
          "Circuit of the Americas",
          "Autódromo Hermanos Rodríguez",
          "Autódromo José Carlos Pace",
          "Yas Marina Circuit"
         ],
         "xaxis": "x",
         "y": [
          102.69445614035088,
          101.19684,
          90.80255172413793,
          88.63584126984126,
          99.43936842105263,
          89.69103703703703,
          109.268546875,
          114.28633333333333,
          82.8132142857143,
          159.20878846153846,
          71.32833802816901,
          99.11423529411765,
          85.59941428571429,
          118.70068181818182,
          80.74586111111111,
          91.13126415094341,
          124.45479661016948,
          133.24167857142857,
          109.62835714285714,
          84.30285915492958,
          83.41528169014084,
          90.94284482758621
         ],
         "yaxis": "y"
        },
        {
         "hovertemplate": "driverName=Daniel Ricciardo<br>circuitName=%{x}<br>lapSeconds=%{y}<extra></extra>",
         "legendgroup": "Daniel Ricciardo",
         "line": {
          "color": "#FFA15A",
          "dash": "solid"
         },
         "marker": {
          "symbol": "circle"
         },
         "mode": "lines",
         "name": "Daniel Ricciardo",
         "orientation": "v",
         "showlegend": true,
         "type": "scatter",
         "x": [
          "Bahrain International Circuit",
          "Jeddah Corniche Circuit",
          "Albert Park Grand Prix Circuit",
          "Autodromo Enzo e Dino Ferrari",
          "Miami International Autodrome",
          "Circuit de Barcelona-Catalunya",
          "Circuit de Monaco",
          "Baku City Circuit",
          "Circuit Gilles Villeneuve",
          "Silverstone Circuit",
          "Red Bull Ring",
          "Circuit Paul Ricard",
          "Hungaroring",
          "Circuit de Spa-Francorchamps",
          "Circuit Park Zandvoort",
          "Autodromo Nazionale di Monza",
          "Marina Bay Street Circuit",
          "Suzuka Circuit",
          "Circuit of the Americas",
          "Autódromo Hermanos Rodríguez",
          "Yas Marina Circuit"
         ],
         "xaxis": "x",
         "y": [
          103.65892982456141,
          103.58371428571428,
          91.72905172413793,
          90.17166129032258,
          100.00280701754386,
          90.46387692307692,
          110.1234375,
          112.51270588235295,
          83.21148571428571,
          159.67553846153848,
          72.5808,
          103.06573584905661,
          87.1354927536232,
          119.54674999999999,
          81.11856944444445,
          88.48853333333334,
          125.31389830508475,
          134.88860714285715,
          111.11025,
          84.84665714285714,
          92.22727586206896
         ],
         "yaxis": "y"
        },
        {
         "hovertemplate": "driverName=Esteban Ocon<br>circuitName=%{x}<br>lapSeconds=%{y}<extra></extra>",
         "legendgroup": "Esteban Ocon",
         "line": {
          "color": "#19d3f3",
          "dash": "solid"
         },
         "marker": {
          "symbol": "circle"
         },
         "mode": "lines",
         "name": "Esteban Ocon",
         "orientation": "v",
         "showlegend": true,
         "type": "scatter",
         "x": [
          "Bahrain International Circuit",
          "Jeddah Corniche Circuit",
          "Albert Park Grand Prix Circuit",
          "Autodromo Enzo e Dino Ferrari",
          "Miami International Autodrome",
          "Circuit de Barcelona-Catalunya",
          "Circuit de Monaco",
          "Baku City Circuit",
          "Circuit Gilles Villeneuve",
          "Silverstone Circuit",
          "Red Bull Ring",
          "Circuit Paul Ricard",
          "Hungaroring",
          "Circuit de Spa-Francorchamps",
          "Circuit Park Zandvoort",
          "Autodromo Nazionale di Monza",
          "Marina Bay Street Circuit",
          "Suzuka Circuit",
          "Circuit of the Americas",
          "Autódromo Hermanos Rodríguez",
          "Autódromo José Carlos Pace",
          "Yas Marina Circuit"
         ],
         "xaxis": "x",
         "y": [
          103.03521052631578,
          102.3062,
          91.86605172413793,
          89.36033870967742,
          99.87094736842106,
          89.63442424242425,
          110.014203125,
          112.82598039215686,
          82.93781428571428,
          182.21037837837838,
          72.29222535211267,
          103.00133962264151,
          86.76811594202898,
          118.83031818181817,
          80.88736111111112,
          91.24215094339623,
          129.88276923076924,
          133.70317857142857,
          110.79575,
          85.02082857142857,
          83.5596338028169,
          91.77851724137932
         ],
         "yaxis": "y"
        },
        {
         "hovertemplate": "driverName=Fernando Alonso<br>circuitName=%{x}<br>lapSeconds=%{y}<extra></extra>",
         "legendgroup": "Fernando Alonso",
         "line": {
          "color": "#FF6692",
          "dash": "solid"
         },
         "marker": {
          "symbol": "circle"
         },
         "mode": "lines",
         "name": "Fernando Alonso",
         "orientation": "v",
         "showlegend": true,
         "type": "scatter",
         "x": [
          "Bahrain International Circuit",
          "Jeddah Corniche Circuit",
          "Albert Park Grand Prix Circuit",
          "Autodromo Enzo e Dino Ferrari",
          "Miami International Autodrome",
          "Circuit de Barcelona-Catalunya",
          "Circuit de Monaco",
          "Baku City Circuit",
          "Circuit Gilles Villeneuve",
          "Silverstone Circuit",
          "Red Bull Ring",
          "Circuit Paul Ricard",
          "Hungaroring",
          "Circuit de Spa-Francorchamps",
          "Circuit Park Zandvoort",
          "Autodromo Nazionale di Monza",
          "Marina Bay Street Circuit",
          "Suzuka Circuit",
          "Circuit of the Americas",
          "Autódromo Hermanos Rodríguez",
          "Autódromo José Carlos Pace",
          "Yas Marina Circuit"
         ],
         "xaxis": "x",
         "y": [
          103.08726315789474,
          103.32997142857143,
          92.93103508771931,
          124.15316666666666,
          99.84887719298246,
          89.9588,
          109.94723437500001,
          112.44190196078432,
          82.95288571428571,
          159.2285,
          72.61052857142857,
          102.73567924528302,
          86.72646376811595,
          118.77613636363635,
          80.85454166666666,
          88.78448387096775,
          127.67815,
          133.94189285714285,
          110.47794642857143,
          84.9216507936508,
          83.43105633802816,
          93.09462962962962
         ],
         "yaxis": "y"
        },
        {
         "hovertemplate": "driverName=George Russell<br>circuitName=%{x}<br>lapSeconds=%{y}<extra></extra>",
         "legendgroup": "George Russell",
         "line": {
          "color": "#B6E880",
          "dash": "solid"
         },
         "marker": {
          "symbol": "circle"
         },
         "mode": "lines",
         "name": "George Russell",
         "orientation": "v",
         "showlegend": true,
         "type": "scatter",
         "x": [
          "Bahrain International Circuit",
          "Jeddah Corniche Circuit",
          "Albert Park Grand Prix Circuit",
          "Autodromo Enzo e Dino Ferrari",
          "Miami International Autodrome",
          "Circuit de Barcelona-Catalunya",
          "Circuit de Monaco",
          "Baku City Circuit",
          "Circuit Gilles Villeneuve",
          "Red Bull Ring",
          "Circuit Paul Ricard",
          "Hungaroring",
          "Circuit de Spa-Francorchamps",
          "Circuit Park Zandvoort",
          "Autodromo Nazionale di Monza",
          "Marina Bay Street Circuit",
          "Suzuka Circuit",
          "Circuit of the Americas",
          "Autódromo Hermanos Rodríguez",
          "Autódromo José Carlos Pace",
          "Yas Marina Circuit"
         ],
         "xaxis": "x",
         "y": [
          102.8911403508772,
          101.84049999999999,
          91.24381034482758,
          88.42050793650795,
          99.69894736842106,
          88.9909393939394,
          109.409890625,
          111.60658823529411,
          82.77242857142856,
          72.15892957746479,
          102.2378679245283,
          85.54641428571428,
          117.7735,
          80.65061111111112,
          91.14935849056604,
          128.71443859649122,
          133.9880357142857,
          110.29467857142856,
          84.03042253521127,
          83.29639436619718,
          91.41037931034482
         ],
         "yaxis": "y"
        },
        {
         "hovertemplate": "driverName=Guanyu Zhou<br>circuitName=%{x}<br>lapSeconds=%{y}<extra></extra>",
         "legendgroup": "Guanyu Zhou",
         "line": {
          "color": "#FF97FF",
          "dash": "solid"
         },
         "marker": {
          "symbol": "circle"
         },
         "mode": "lines",
         "name": "Guanyu Zhou",
         "orientation": "v",
         "showlegend": true,
         "type": "scatter",
         "x": [
          "Bahrain International Circuit",
          "Jeddah Corniche Circuit",
          "Albert Park Grand Prix Circuit",
          "Autodromo Enzo e Dino Ferrari",
          "Miami International Autodrome",
          "Circuit de Barcelona-Catalunya",
          "Circuit de Monaco",
          "Baku City Circuit",
          "Circuit Gilles Villeneuve",
          "Red Bull Ring",
          "Circuit Paul Ricard",
          "Hungaroring",
          "Circuit de Spa-Francorchamps",
          "Circuit Park Zandvoort",
          "Autodromo Nazionale di Monza",
          "Marina Bay Street Circuit",
          "Suzuka Circuit",
          "Circuit of the Americas",
          "Autódromo Hermanos Rodríguez",
          "Autódromo José Carlos Pace",
          "Yas Marina Circuit"
         ],
         "xaxis": "x",
         "y": [
          103.09908771929825,
          102.83015999999999,
          92.21108620689655,
          89.53812903225806,
          102.17216666666667,
          91.98467857142857,
          111.12325396825398,
          114.38252173913042,
          82.98155714285714,
          72.79301428571429,
          104.49074468085105,
          87.14676811594204,
          119.52604545454545,
          81.11240277777777,
          91.23435849056604,
          129.93333333333334,
          135.39453571428572,
          110.85448214285714,
          85.32515714285715,
          83.70942253521126,
          92.71866666666666
         ],
         "yaxis": "y"
        },
        {
         "hovertemplate": "driverName=Yuki Tsunoda<br>circuitName=%{x}<br>lapSeconds=%{y}<extra></extra>",
         "legendgroup": "Yuki Tsunoda",
         "line": {
          "color": "#FECB52",
          "dash": "solid"
         },
         "marker": {
          "symbol": "circle"
         },
         "mode": "lines",
         "name": "Yuki Tsunoda",
         "orientation": "v",
         "showlegend": true,
         "type": "scatter",
         "x": [
          "Bahrain International Circuit",
          "Albert Park Grand Prix Circuit",
          "Autodromo Enzo e Dino Ferrari",
          "Miami International Autodrome",
          "Circuit de Barcelona-Catalunya",
          "Circuit de Monaco",
          "Baku City Circuit",
          "Circuit Gilles Villeneuve",
          "Silverstone Circuit",
          "Red Bull Ring",
          "Circuit Paul Ricard",
          "Hungaroring",
          "Circuit de Spa-Francorchamps",
          "Circuit Park Zandvoort",
          "Autodromo Nazionale di Monza",
          "Marina Bay Street Circuit",
          "Suzuka Circuit",
          "Circuit of the Americas",
          "Autódromo Hermanos Rodríguez",
          "Autódromo José Carlos Pace",
          "Yas Marina Circuit"
         ],
         "xaxis": "x",
         "y": [
          103.0521052631579,
          92.50629824561405,
          88.71580952380953,
          100.07726315789475,
          90.01723076923076,
          111.47655555555556,
          113.09613999999999,
          81.89663829787234,
          159.83117307692308,
          72.92074285714286,
          104.39570588235293,
          88.65795588235294,
          119.50252272727272,
          81.57537209302326,
          92.86290384615384,
          130.38002941176472,
          134.98582142857143,
          110.76082142857142,
          85.62700000000001,
          84.94778571428571,
          92.3325
         ],
         "yaxis": "y"
        },
        {
         "hovertemplate": "driverName=Lance Stroll<br>circuitName=%{x}<br>lapSeconds=%{y}<extra></extra>",
         "legendgroup": "Lance Stroll",
         "line": {
          "color": "#636efa",
          "dash": "solid"
         },
         "marker": {
          "symbol": "circle"
         },
         "mode": "lines",
         "name": "Lance Stroll",
         "orientation": "v",
         "showlegend": true,
         "type": "scatter",
         "x": [
          "Bahrain International Circuit",
          "Jeddah Corniche Circuit",
          "Albert Park Grand Prix Circuit",
          "Autodromo Enzo e Dino Ferrari",
          "Miami International Autodrome",
          "Circuit de Barcelona-Catalunya",
          "Circuit de Monaco",
          "Baku City Circuit",
          "Circuit Gilles Villeneuve",
          "Silverstone Circuit",
          "Red Bull Ring",
          "Circuit Paul Ricard",
          "Hungaroring",
          "Circuit de Spa-Francorchamps",
          "Circuit Park Zandvoort",
          "Autodromo Nazionale di Monza",
          "Marina Bay Street Circuit",
          "Suzuka Circuit",
          "Circuit of the Americas",
          "Autódromo Hermanos Rodríguez",
          "Autódromo José Carlos Pace",
          "Yas Marina Circuit"
         ],
         "xaxis": "x",
         "y": [
          103.49924561403509,
          103.54818367346938,
          92.24389655172413,
          89.31093548387098,
          100.02252631578946,
          90.8124,
          110.172921875,
          114.29834782608695,
          83.14255714285714,
          159.54726923076925,
          72.76841428571429,
          103.10681132075472,
          86.88049275362319,
          119.45390909090908,
          80.906,
          89.49110256410256,
          125.3655593220339,
          134.9252857142857,
          112.62528571428571,
          85.52402857142857,
          83.62811267605633,
          92.11801724137932
         ],
         "yaxis": "y"
        },
        {
         "hovertemplate": "driverName=Kevin Magnussen<br>circuitName=%{x}<br>lapSeconds=%{y}<extra></extra>",
         "legendgroup": "Kevin Magnussen",
         "line": {
          "color": "#EF553B",
          "dash": "solid"
         },
         "marker": {
          "symbol": "circle"
         },
         "mode": "lines",
         "name": "Kevin Magnussen",
         "orientation": "v",
         "showlegend": true,
         "type": "scatter",
         "x": [
          "Bahrain International Circuit",
          "Jeddah Corniche Circuit",
          "Albert Park Grand Prix Circuit",
          "Autodromo Enzo e Dino Ferrari",
          "Miami International Autodrome",
          "Circuit de Barcelona-Catalunya",
          "Circuit de Monaco",
          "Baku City Circuit",
          "Circuit Gilles Villeneuve",
          "Silverstone Circuit",
          "Red Bull Ring",
          "Circuit Paul Ricard",
          "Hungaroring",
          "Circuit de Spa-Francorchamps",
          "Circuit Park Zandvoort",
          "Autodromo Nazionale di Monza",
          "Marina Bay Street Circuit",
          "Suzuka Circuit",
          "Circuit of the Americas",
          "Autódromo Hermanos Rodríguez",
          "Yas Marina Circuit"
         ],
         "xaxis": "x",
         "y": [
          102.95329824561404,
          102.47201999999999,
          92.46449122807017,
          88.9404126984127,
          100.15826785714286,
          91.455171875,
          105.01852631578947,
          112.62316129032259,
          83.57052857142857,
          159.51732692307692,
          72.51325714285714,
          103.97886486486486,
          87.56428985507246,
          119.84493023255814,
          81.10613888888889,
          92.92609615384616,
          125.98047457627119,
          135.35785714285714,
          110.67001785714285,
          85.6735,
          93.27442105263158
         ],
         "yaxis": "y"
        },
        {
         "hovertemplate": "driverName=Pierre Gasly<br>circuitName=%{x}<br>lapSeconds=%{y}<extra></extra>",
         "legendgroup": "Pierre Gasly",
         "line": {
          "color": "#00cc96",
          "dash": "solid"
         },
         "marker": {
          "symbol": "circle"
         },
         "mode": "lines",
         "name": "Pierre Gasly",
         "orientation": "v",
         "showlegend": true,
         "type": "scatter",
         "x": [
          "Bahrain International Circuit",
          "Jeddah Corniche Circuit",
          "Albert Park Grand Prix Circuit",
          "Autodromo Enzo e Dino Ferrari",
          "Miami International Autodrome",
          "Circuit de Barcelona-Catalunya",
          "Circuit de Monaco",
          "Baku City Circuit",
          "Circuit Gilles Villeneuve",
          "Silverstone Circuit",
          "Red Bull Ring",
          "Circuit Paul Ricard",
          "Hungaroring",
          "Circuit de Spa-Francorchamps",
          "Circuit Park Zandvoort",
          "Autodromo Nazionale di Monza",
          "Marina Bay Street Circuit",
          "Suzuka Circuit",
          "Circuit of the Americas",
          "Autódromo Hermanos Rodríguez",
          "Autódromo José Carlos Pace",
          "Yas Marina Circuit"
         ],
         "xaxis": "x",
         "y": [
          100.78102272727273,
          102.44478,
          92.11670689655173,
          89.3961935483871,
          101.92755555555556,
          90.48341538461538,
          110.07115625,
          112.22039215686274,
          83.24199999999999,
          219.78642307692309,
          72.82454285714286,
          103.16150943396227,
          87.06814492753624,
          119.20625,
          80.96919444444444,
          91.2057924528302,
          125.59006779661017,
          135.4319642857143,
          110.77589285714285,
          85.13904285714285,
          83.6748028169014,
          92.7449649122807
         ],
         "yaxis": "y"
        },
        {
         "hovertemplate": "driverName=Nico Hülkenberg<br>circuitName=%{x}<br>lapSeconds=%{y}<extra></extra>",
         "legendgroup": "Nico Hülkenberg",
         "line": {
          "color": "#ab63fa",
          "dash": "solid"
         },
         "marker": {
          "symbol": "circle"
         },
         "mode": "lines",
         "name": "Nico Hülkenberg",
         "orientation": "v",
         "showlegend": true,
         "type": "scatter",
         "x": [
          "Bahrain International Circuit",
          "Jeddah Corniche Circuit"
         ],
         "xaxis": "x",
         "y": [
          103.81426315789474,
          103.02069999999999
         ],
         "yaxis": "y"
        },
        {
         "hovertemplate": "driverName=Nicholas Latifi<br>circuitName=%{x}<br>lapSeconds=%{y}<extra></extra>",
         "legendgroup": "Nicholas Latifi",
         "line": {
          "color": "#FFA15A",
          "dash": "solid"
         },
         "marker": {
          "symbol": "circle"
         },
         "mode": "lines",
         "name": "Nicholas Latifi",
         "orientation": "v",
         "showlegend": true,
         "type": "scatter",
         "x": [
          "Bahrain International Circuit",
          "Jeddah Corniche Circuit",
          "Albert Park Grand Prix Circuit",
          "Autodromo Enzo e Dino Ferrari",
          "Miami International Autodrome",
          "Circuit de Barcelona-Catalunya",
          "Circuit de Monaco",
          "Baku City Circuit",
          "Circuit Gilles Villeneuve",
          "Silverstone Circuit",
          "Red Bull Ring",
          "Circuit Paul Ricard",
          "Hungaroring",
          "Circuit de Spa-Francorchamps",
          "Circuit Park Zandvoort",
          "Autodromo Nazionale di Monza",
          "Marina Bay Street Circuit",
          "Suzuka Circuit",
          "Circuit of the Americas",
          "Autódromo Hermanos Rodríguez",
          "Autódromo José Carlos Pace",
          "Yas Marina Circuit"
         ],
         "xaxis": "x",
         "y": [
          103.77857894736842,
          98.87614285714287,
          92.57949122807017,
          89.5809677419355,
          100.24901754385965,
          91.327046875,
          111.11563492063492,
          114.92874,
          83.45335714285714,
          159.66965384615384,
          73.47295833333334,
          104.88444999999999,
          87.75230434782608,
          120.08818604651164,
          82.32184507042253,
          92.89044230769231,
          139.08485714285715,
          134.7909642857143,
          111.25491071428571,
          86.5456811594203,
          83.81805633802817,
          94.4725090909091
         ],
         "yaxis": "y"
        },
        {
         "hovertemplate": "driverName=Sergio Pérez<br>circuitName=%{x}<br>lapSeconds=%{y}<extra></extra>",
         "legendgroup": "Sergio Pérez",
         "line": {
          "color": "#19d3f3",
          "dash": "solid"
         },
         "marker": {
          "symbol": "circle"
         },
         "mode": "lines",
         "name": "Sergio Pérez",
         "orientation": "v",
         "showlegend": true,
         "type": "scatter",
         "x": [
          "Bahrain International Circuit",
          "Jeddah Corniche Circuit",
          "Albert Park Grand Prix Circuit",
          "Autodromo Enzo e Dino Ferrari",
          "Miami International Autodrome",
          "Circuit de Barcelona-Catalunya",
          "Circuit de Monaco",
          "Baku City Circuit",
          "Circuit Gilles Villeneuve",
          "Silverstone Circuit",
          "Red Bull Ring",
          "Circuit Paul Ricard",
          "Hungaroring",
          "Circuit de Spa-Francorchamps",
          "Circuit Park Zandvoort",
          "Autodromo Nazionale di Monza",
          "Marina Bay Street Circuit",
          "Suzuka Circuit",
          "Circuit of the Americas",
          "Autódromo Hermanos Rodríguez",
          "Autódromo José Carlos Pace",
          "Yas Marina Circuit"
         ],
         "xaxis": "x",
         "y": [
          102.95580357142856,
          101.40186,
          91.15641379310345,
          88.00814285714286,
          99.55957894736842,
          88.69010606060606,
          109.22289062499999,
          111.11301960784314,
          81.366,
          159.11711538461537,
          75.6965,
          102.25324528301886,
          85.59428571428572,
          117.51670454545454,
          80.84640277777777,
          91.20003773584905,
          124.32606779661018,
          133.2525,
          109.6425,
          83.5890985915493,
          83.49470422535211,
          90.96563793103448
         ],
         "yaxis": "y"
        },
        {
         "hovertemplate": "driverName=Max Verstappen<br>circuitName=%{x}<br>lapSeconds=%{y}<extra></extra>",
         "legendgroup": "Max Verstappen",
         "line": {
          "color": "#FF6692",
          "dash": "solid"
         },
         "marker": {
          "symbol": "circle"
         },
         "mode": "lines",
         "name": "Max Verstappen",
         "orientation": "v",
         "showlegend": true,
         "type": "scatter",
         "x": [
          "Bahrain International Circuit",
          "Jeddah Corniche Circuit",
          "Albert Park Grand Prix Circuit",
          "Autodromo Enzo e Dino Ferrari",
          "Miami International Autodrome",
          "Circuit de Barcelona-Catalunya",
          "Circuit de Monaco",
          "Baku City Circuit",
          "Circuit Gilles Villeneuve",
          "Silverstone Circuit",
          "Red Bull Ring",
          "Circuit Paul Ricard",
          "Hungaroring",
          "Circuit de Spa-Francorchamps",
          "Circuit Park Zandvoort",
          "Autodromo Nazionale di Monza",
          "Marina Bay Street Circuit",
          "Suzuka Circuit",
          "Circuit of the Americas",
          "Autódromo Hermanos Rodríguez",
          "Autódromo José Carlos Pace",
          "Yas Marina Circuit"
         ],
         "xaxis": "x",
         "y": [
          103.66103703703703,
          101.18585999999999,
          94.88784210526315,
          87.74580952380953,
          99.37294736842105,
          88.49204545454546,
          109.2461875,
          110.70472549019607,
          82.59652857142856,
          159.40553846153847,
          71.34991549295775,
          101.92664150943396,
          85.37017142857144,
          117.11122727272728,
          80.59406944444444,
          91.08511320754717,
          125.40784745762711,
          132.28585714285714,
          109.4944107142857,
          83.33421126760564,
          83.43802816901409,
          90.79162068965516
         ],
         "yaxis": "y"
        },
        {
         "hovertemplate": "driverName=Lewis Hamilton<br>circuitName=%{x}<br>lapSeconds=%{y}<extra></extra>",
         "legendgroup": "Lewis Hamilton",
         "line": {
          "color": "#B6E880",
          "dash": "solid"
         },
         "marker": {
          "symbol": "circle"
         },
         "mode": "lines",
         "name": "Lewis Hamilton",
         "orientation": "v",
         "showlegend": true,
         "type": "scatter",
         "x": [
          "Bahrain International Circuit",
          "Jeddah Corniche Circuit",
          "Albert Park Grand Prix Circuit",
          "Autodromo Enzo e Dino Ferrari",
          "Miami International Autodrome",
          "Circuit de Barcelona-Catalunya",
          "Circuit de Monaco",
          "Baku City Circuit",
          "Circuit Gilles Villeneuve",
          "Silverstone Circuit",
          "Red Bull Ring",
          "Circuit Paul Ricard",
          "Hungaroring",
          "Circuit Park Zandvoort",
          "Autodromo Nazionale di Monza",
          "Marina Bay Street Circuit",
          "Suzuka Circuit",
          "Circuit of the Americas",
          "Autódromo Hermanos Rodríguez",
          "Autódromo José Carlos Pace",
          "Yas Marina Circuit"
         ],
         "xaxis": "x",
         "y": [
          102.86419298245615,
          102.66482,
          91.29467241379311,
          89.4075,
          99.74782456140352,
          89.31831818181819,
          110.010203125,
          112.11019607843137,
          82.69661428571429,
          159.16415384615385,
          71.90885915492959,
          102.12639622641508,
          85.48208571428572,
          80.77484722222222,
          91.18662264150943,
          125.4534406779661,
          133.72607142857143,
          109.58410714285715,
          83.54809859154929,
          83.3179295774648,
          91.94521818181818
         ],
         "yaxis": "y"
        },
        {
         "hovertemplate": "driverName=Lando Norris<br>circuitName=%{x}<br>lapSeconds=%{y}<extra></extra>",
         "legendgroup": "Lando Norris",
         "line": {
          "color": "#FF97FF",
          "dash": "solid"
         },
         "marker": {
          "symbol": "circle"
         },
         "mode": "lines",
         "name": "Lando Norris",
         "orientation": "v",
         "showlegend": true,
         "type": "scatter",
         "x": [
          "Bahrain International Circuit",
          "Jeddah Corniche Circuit",
          "Albert Park Grand Prix Circuit",
          "Autodromo Enzo e Dino Ferrari",
          "Miami International Autodrome",
          "Circuit de Barcelona-Catalunya",
          "Circuit de Monaco",
          "Baku City Circuit",
          "Circuit Gilles Villeneuve",
          "Silverstone Circuit",
          "Red Bull Ring",
          "Circuit Paul Ricard",
          "Hungaroring",
          "Circuit de Spa-Francorchamps",
          "Circuit Park Zandvoort",
          "Autodromo Nazionale di Monza",
          "Marina Bay Street Circuit",
          "Suzuka Circuit",
          "Circuit of the Americas",
          "Autódromo Hermanos Rodríguez",
          "Autódromo José Carlos Pace",
          "Yas Marina Circuit"
         ],
         "xaxis": "x",
         "y": [
          103.68278947368421,
          102.30834,
          91.72156896551724,
          88.29873015873015,
          96.13953846153846,
          89.75318181818182,
          109.414,
          112.51954901960785,
          83.27002857142857,
          159.27411538461536,
          72.46455714285715,
          102.9082641509434,
          86.48874285714287,
          119.49165909090908,
          80.86220833333333,
          91.20222641509433,
          124.769,
          134.81378571428573,
          110.45485714285714,
          85.08175714285714,
          82.71164,
          91.7611724137931
         ],
         "yaxis": "y"
        },
        {
         "hovertemplate": "driverName=Mick Schumacher<br>circuitName=%{x}<br>lapSeconds=%{y}<extra></extra>",
         "legendgroup": "Mick Schumacher",
         "line": {
          "color": "#FECB52",
          "dash": "solid"
         },
         "marker": {
          "symbol": "circle"
         },
         "mode": "lines",
         "name": "Mick Schumacher",
         "orientation": "v",
         "showlegend": true,
         "type": "scatter",
         "x": [
          "Bahrain International Circuit",
          "Albert Park Grand Prix Circuit",
          "Autodromo Enzo e Dino Ferrari",
          "Miami International Autodrome",
          "Circuit de Barcelona-Catalunya",
          "Circuit de Monaco",
          "Baku City Circuit",
          "Circuit Gilles Villeneuve",
          "Silverstone Circuit",
          "Red Bull Ring",
          "Circuit Paul Ricard",
          "Hungaroring",
          "Circuit de Spa-Francorchamps",
          "Circuit Park Zandvoort",
          "Autodromo Nazionale di Monza",
          "Marina Bay Street Circuit",
          "Suzuka Circuit",
          "Circuit of the Americas",
          "Autódromo Hermanos Rodríguez",
          "Autódromo José Carlos Pace",
          "Yas Marina Circuit"
         ],
         "xaxis": "x",
         "y": [
          103.26592982456141,
          92.43528070175438,
          89.86946774193548,
          100.659,
          90.52181538461538,
          103.64608333333332,
          113.8676,
          82.86722222222221,
          159.40973076923078,
          72.42302857142857,
          103.44350943396228,
          87.15092753623188,
          119.91051162790698,
          81.05233333333334,
          91.24641509433962,
          127.89272413793104,
          135.59025,
          110.91387499999999,
          85.65161428571429,
          83.71750704225353,
          93.06989473684212
         ],
         "yaxis": "y"
        },
        {
         "hovertemplate": "driverName=Sebastian Vettel<br>circuitName=%{x}<br>lapSeconds=%{y}<extra></extra>",
         "legendgroup": "Sebastian Vettel",
         "line": {
          "color": "#636efa",
          "dash": "solid"
         },
         "marker": {
          "symbol": "circle"
         },
         "mode": "lines",
         "name": "Sebastian Vettel",
         "orientation": "v",
         "showlegend": true,
         "type": "scatter",
         "x": [
          "Albert Park Grand Prix Circuit",
          "Autodromo Enzo e Dino Ferrari",
          "Miami International Autodrome",
          "Circuit de Barcelona-Catalunya",
          "Circuit de Monaco",
          "Baku City Circuit",
          "Circuit Gilles Villeneuve",
          "Silverstone Circuit",
          "Red Bull Ring",
          "Circuit Paul Ricard",
          "Hungaroring",
          "Circuit de Spa-Francorchamps",
          "Circuit Park Zandvoort",
          "Autodromo Nazionale di Monza",
          "Marina Bay Street Circuit",
          "Suzuka Circuit",
          "Circuit of the Americas",
          "Autódromo Hermanos Rodríguez",
          "Autódromo José Carlos Pace",
          "Yas Marina Circuit"
         ],
         "xaxis": "x",
         "y": [
          94.69745454545455,
          88.87107936507935,
          100.72070370370369,
          90.26304615384615,
          110.059390625,
          112.35372549019608,
          83.2286,
          159.47436538461537,
          72.87348571428572,
          103.14350943396227,
          86.7701884057971,
          118.88638636363636,
          81.02472222222222,
          88.8225,
          125.42830508474577,
          133.9415,
          110.66144642857144,
          85.37467142857143,
          83.66516901408451,
          92.23813793103449
         ],
         "yaxis": "y"
        },
        {
         "hovertemplate": "driverName=Nyck de Vries<br>circuitName=%{x}<br>lapSeconds=%{y}<extra></extra>",
         "legendgroup": "Nyck de Vries",
         "line": {
          "color": "#EF553B",
          "dash": "solid"
         },
         "marker": {
          "symbol": "circle"
         },
         "mode": "lines",
         "name": "Nyck de Vries",
         "orientation": "v",
         "showlegend": true,
         "type": "scatter",
         "x": [
          "Autodromo Nazionale di Monza"
         ],
         "xaxis": "x",
         "y": [
          91.21949056603773
         ],
         "yaxis": "y"
        }
       ],
       "layout": {
        "legend": {
         "title": {
          "text": "driverName"
         },
         "tracegroupgap": 0
        },
        "margin": {
         "t": 60
        },
        "template": {
         "data": {
          "bar": [
           {
            "error_x": {
             "color": "#2a3f5f"
            },
            "error_y": {
             "color": "#2a3f5f"
            },
            "marker": {
             "line": {
              "color": "#E5ECF6",
              "width": 0.5
             },
             "pattern": {
              "fillmode": "overlay",
              "size": 10,
              "solidity": 0.2
             }
            },
            "type": "bar"
           }
          ],
          "barpolar": [
           {
            "marker": {
             "line": {
              "color": "#E5ECF6",
              "width": 0.5
             },
             "pattern": {
              "fillmode": "overlay",
              "size": 10,
              "solidity": 0.2
             }
            },
            "type": "barpolar"
           }
          ],
          "carpet": [
           {
            "aaxis": {
             "endlinecolor": "#2a3f5f",
             "gridcolor": "white",
             "linecolor": "white",
             "minorgridcolor": "white",
             "startlinecolor": "#2a3f5f"
            },
            "baxis": {
             "endlinecolor": "#2a3f5f",
             "gridcolor": "white",
             "linecolor": "white",
             "minorgridcolor": "white",
             "startlinecolor": "#2a3f5f"
            },
            "type": "carpet"
           }
          ],
          "choropleth": [
           {
            "colorbar": {
             "outlinewidth": 0,
             "ticks": ""
            },
            "type": "choropleth"
           }
          ],
          "contour": [
           {
            "colorbar": {
             "outlinewidth": 0,
             "ticks": ""
            },
            "colorscale": [
             [
              0,
              "#0d0887"
             ],
             [
              0.1111111111111111,
              "#46039f"
             ],
             [
              0.2222222222222222,
              "#7201a8"
             ],
             [
              0.3333333333333333,
              "#9c179e"
             ],
             [
              0.4444444444444444,
              "#bd3786"
             ],
             [
              0.5555555555555556,
              "#d8576b"
             ],
             [
              0.6666666666666666,
              "#ed7953"
             ],
             [
              0.7777777777777778,
              "#fb9f3a"
             ],
             [
              0.8888888888888888,
              "#fdca26"
             ],
             [
              1,
              "#f0f921"
             ]
            ],
            "type": "contour"
           }
          ],
          "contourcarpet": [
           {
            "colorbar": {
             "outlinewidth": 0,
             "ticks": ""
            },
            "type": "contourcarpet"
           }
          ],
          "heatmap": [
           {
            "colorbar": {
             "outlinewidth": 0,
             "ticks": ""
            },
            "colorscale": [
             [
              0,
              "#0d0887"
             ],
             [
              0.1111111111111111,
              "#46039f"
             ],
             [
              0.2222222222222222,
              "#7201a8"
             ],
             [
              0.3333333333333333,
              "#9c179e"
             ],
             [
              0.4444444444444444,
              "#bd3786"
             ],
             [
              0.5555555555555556,
              "#d8576b"
             ],
             [
              0.6666666666666666,
              "#ed7953"
             ],
             [
              0.7777777777777778,
              "#fb9f3a"
             ],
             [
              0.8888888888888888,
              "#fdca26"
             ],
             [
              1,
              "#f0f921"
             ]
            ],
            "type": "heatmap"
           }
          ],
          "heatmapgl": [
           {
            "colorbar": {
             "outlinewidth": 0,
             "ticks": ""
            },
            "colorscale": [
             [
              0,
              "#0d0887"
             ],
             [
              0.1111111111111111,
              "#46039f"
             ],
             [
              0.2222222222222222,
              "#7201a8"
             ],
             [
              0.3333333333333333,
              "#9c179e"
             ],
             [
              0.4444444444444444,
              "#bd3786"
             ],
             [
              0.5555555555555556,
              "#d8576b"
             ],
             [
              0.6666666666666666,
              "#ed7953"
             ],
             [
              0.7777777777777778,
              "#fb9f3a"
             ],
             [
              0.8888888888888888,
              "#fdca26"
             ],
             [
              1,
              "#f0f921"
             ]
            ],
            "type": "heatmapgl"
           }
          ],
          "histogram": [
           {
            "marker": {
             "pattern": {
              "fillmode": "overlay",
              "size": 10,
              "solidity": 0.2
             }
            },
            "type": "histogram"
           }
          ],
          "histogram2d": [
           {
            "colorbar": {
             "outlinewidth": 0,
             "ticks": ""
            },
            "colorscale": [
             [
              0,
              "#0d0887"
             ],
             [
              0.1111111111111111,
              "#46039f"
             ],
             [
              0.2222222222222222,
              "#7201a8"
             ],
             [
              0.3333333333333333,
              "#9c179e"
             ],
             [
              0.4444444444444444,
              "#bd3786"
             ],
             [
              0.5555555555555556,
              "#d8576b"
             ],
             [
              0.6666666666666666,
              "#ed7953"
             ],
             [
              0.7777777777777778,
              "#fb9f3a"
             ],
             [
              0.8888888888888888,
              "#fdca26"
             ],
             [
              1,
              "#f0f921"
             ]
            ],
            "type": "histogram2d"
           }
          ],
          "histogram2dcontour": [
           {
            "colorbar": {
             "outlinewidth": 0,
             "ticks": ""
            },
            "colorscale": [
             [
              0,
              "#0d0887"
             ],
             [
              0.1111111111111111,
              "#46039f"
             ],
             [
              0.2222222222222222,
              "#7201a8"
             ],
             [
              0.3333333333333333,
              "#9c179e"
             ],
             [
              0.4444444444444444,
              "#bd3786"
             ],
             [
              0.5555555555555556,
              "#d8576b"
             ],
             [
              0.6666666666666666,
              "#ed7953"
             ],
             [
              0.7777777777777778,
              "#fb9f3a"
             ],
             [
              0.8888888888888888,
              "#fdca26"
             ],
             [
              1,
              "#f0f921"
             ]
            ],
            "type": "histogram2dcontour"
           }
          ],
          "mesh3d": [
           {
            "colorbar": {
             "outlinewidth": 0,
             "ticks": ""
            },
            "type": "mesh3d"
           }
          ],
          "parcoords": [
           {
            "line": {
             "colorbar": {
              "outlinewidth": 0,
              "ticks": ""
             }
            },
            "type": "parcoords"
           }
          ],
          "pie": [
           {
            "automargin": true,
            "type": "pie"
           }
          ],
          "scatter": [
           {
            "fillpattern": {
             "fillmode": "overlay",
             "size": 10,
             "solidity": 0.2
            },
            "type": "scatter"
           }
          ],
          "scatter3d": [
           {
            "line": {
             "colorbar": {
              "outlinewidth": 0,
              "ticks": ""
             }
            },
            "marker": {
             "colorbar": {
              "outlinewidth": 0,
              "ticks": ""
             }
            },
            "type": "scatter3d"
           }
          ],
          "scattercarpet": [
           {
            "marker": {
             "colorbar": {
              "outlinewidth": 0,
              "ticks": ""
             }
            },
            "type": "scattercarpet"
           }
          ],
          "scattergeo": [
           {
            "marker": {
             "colorbar": {
              "outlinewidth": 0,
              "ticks": ""
             }
            },
            "type": "scattergeo"
           }
          ],
          "scattergl": [
           {
            "marker": {
             "colorbar": {
              "outlinewidth": 0,
              "ticks": ""
             }
            },
            "type": "scattergl"
           }
          ],
          "scattermapbox": [
           {
            "marker": {
             "colorbar": {
              "outlinewidth": 0,
              "ticks": ""
             }
            },
            "type": "scattermapbox"
           }
          ],
          "scatterpolar": [
           {
            "marker": {
             "colorbar": {
              "outlinewidth": 0,
              "ticks": ""
             }
            },
            "type": "scatterpolar"
           }
          ],
          "scatterpolargl": [
           {
            "marker": {
             "colorbar": {
              "outlinewidth": 0,
              "ticks": ""
             }
            },
            "type": "scatterpolargl"
           }
          ],
          "scatterternary": [
           {
            "marker": {
             "colorbar": {
              "outlinewidth": 0,
              "ticks": ""
             }
            },
            "type": "scatterternary"
           }
          ],
          "surface": [
           {
            "colorbar": {
             "outlinewidth": 0,
             "ticks": ""
            },
            "colorscale": [
             [
              0,
              "#0d0887"
             ],
             [
              0.1111111111111111,
              "#46039f"
             ],
             [
              0.2222222222222222,
              "#7201a8"
             ],
             [
              0.3333333333333333,
              "#9c179e"
             ],
             [
              0.4444444444444444,
              "#bd3786"
             ],
             [
              0.5555555555555556,
              "#d8576b"
             ],
             [
              0.6666666666666666,
              "#ed7953"
             ],
             [
              0.7777777777777778,
              "#fb9f3a"
             ],
             [
              0.8888888888888888,
              "#fdca26"
             ],
             [
              1,
              "#f0f921"
             ]
            ],
            "type": "surface"
           }
          ],
          "table": [
           {
            "cells": {
             "fill": {
              "color": "#EBF0F8"
             },
             "line": {
              "color": "white"
             }
            },
            "header": {
             "fill": {
              "color": "#C8D4E3"
             },
             "line": {
              "color": "white"
             }
            },
            "type": "table"
           }
          ]
         },
         "layout": {
          "annotationdefaults": {
           "arrowcolor": "#2a3f5f",
           "arrowhead": 0,
           "arrowwidth": 1
          },
          "autotypenumbers": "strict",
          "coloraxis": {
           "colorbar": {
            "outlinewidth": 0,
            "ticks": ""
           }
          },
          "colorscale": {
           "diverging": [
            [
             0,
             "#8e0152"
            ],
            [
             0.1,
             "#c51b7d"
            ],
            [
             0.2,
             "#de77ae"
            ],
            [
             0.3,
             "#f1b6da"
            ],
            [
             0.4,
             "#fde0ef"
            ],
            [
             0.5,
             "#f7f7f7"
            ],
            [
             0.6,
             "#e6f5d0"
            ],
            [
             0.7,
             "#b8e186"
            ],
            [
             0.8,
             "#7fbc41"
            ],
            [
             0.9,
             "#4d9221"
            ],
            [
             1,
             "#276419"
            ]
           ],
           "sequential": [
            [
             0,
             "#0d0887"
            ],
            [
             0.1111111111111111,
             "#46039f"
            ],
            [
             0.2222222222222222,
             "#7201a8"
            ],
            [
             0.3333333333333333,
             "#9c179e"
            ],
            [
             0.4444444444444444,
             "#bd3786"
            ],
            [
             0.5555555555555556,
             "#d8576b"
            ],
            [
             0.6666666666666666,
             "#ed7953"
            ],
            [
             0.7777777777777778,
             "#fb9f3a"
            ],
            [
             0.8888888888888888,
             "#fdca26"
            ],
            [
             1,
             "#f0f921"
            ]
           ],
           "sequentialminus": [
            [
             0,
             "#0d0887"
            ],
            [
             0.1111111111111111,
             "#46039f"
            ],
            [
             0.2222222222222222,
             "#7201a8"
            ],
            [
             0.3333333333333333,
             "#9c179e"
            ],
            [
             0.4444444444444444,
             "#bd3786"
            ],
            [
             0.5555555555555556,
             "#d8576b"
            ],
            [
             0.6666666666666666,
             "#ed7953"
            ],
            [
             0.7777777777777778,
             "#fb9f3a"
            ],
            [
             0.8888888888888888,
             "#fdca26"
            ],
            [
             1,
             "#f0f921"
            ]
           ]
          },
          "colorway": [
           "#636efa",
           "#EF553B",
           "#00cc96",
           "#ab63fa",
           "#FFA15A",
           "#19d3f3",
           "#FF6692",
           "#B6E880",
           "#FF97FF",
           "#FECB52"
          ],
          "font": {
           "color": "#2a3f5f"
          },
          "geo": {
           "bgcolor": "white",
           "lakecolor": "white",
           "landcolor": "#E5ECF6",
           "showlakes": true,
           "showland": true,
           "subunitcolor": "white"
          },
          "hoverlabel": {
           "align": "left"
          },
          "hovermode": "closest",
          "mapbox": {
           "style": "light"
          },
          "paper_bgcolor": "white",
          "plot_bgcolor": "#E5ECF6",
          "polar": {
           "angularaxis": {
            "gridcolor": "white",
            "linecolor": "white",
            "ticks": ""
           },
           "bgcolor": "#E5ECF6",
           "radialaxis": {
            "gridcolor": "white",
            "linecolor": "white",
            "ticks": ""
           }
          },
          "scene": {
           "xaxis": {
            "backgroundcolor": "#E5ECF6",
            "gridcolor": "white",
            "gridwidth": 2,
            "linecolor": "white",
            "showbackground": true,
            "ticks": "",
            "zerolinecolor": "white"
           },
           "yaxis": {
            "backgroundcolor": "#E5ECF6",
            "gridcolor": "white",
            "gridwidth": 2,
            "linecolor": "white",
            "showbackground": true,
            "ticks": "",
            "zerolinecolor": "white"
           },
           "zaxis": {
            "backgroundcolor": "#E5ECF6",
            "gridcolor": "white",
            "gridwidth": 2,
            "linecolor": "white",
            "showbackground": true,
            "ticks": "",
            "zerolinecolor": "white"
           }
          },
          "shapedefaults": {
           "line": {
            "color": "#2a3f5f"
           }
          },
          "ternary": {
           "aaxis": {
            "gridcolor": "white",
            "linecolor": "white",
            "ticks": ""
           },
           "baxis": {
            "gridcolor": "white",
            "linecolor": "white",
            "ticks": ""
           },
           "bgcolor": "#E5ECF6",
           "caxis": {
            "gridcolor": "white",
            "linecolor": "white",
            "ticks": ""
           }
          },
          "title": {
           "x": 0.05
          },
          "xaxis": {
           "automargin": true,
           "gridcolor": "white",
           "linecolor": "white",
           "ticks": "",
           "title": {
            "standoff": 15
           },
           "zerolinecolor": "white",
           "zerolinewidth": 2
          },
          "yaxis": {
           "automargin": true,
           "gridcolor": "white",
           "linecolor": "white",
           "ticks": "",
           "title": {
            "standoff": 15
           },
           "zerolinecolor": "white",
           "zerolinewidth": 2
          }
         }
        },
        "title": {
         "text": "Average Lap Times by Circuit - 2022"
        },
        "xaxis": {
         "anchor": "y",
         "domain": [
          0,
          1
         ],
         "title": {
          "text": "circuitName"
         }
        },
        "yaxis": {
         "anchor": "x",
         "domain": [
          0,
          1
         ],
         "title": {
          "text": "lapSeconds"
         }
        }
       }
      }
     },
     "metadata": {},
     "output_type": "display_data"
    }
   ],
   "source": [
    "df = lapTimesAnalysis[(lapTimesAnalysis['raceYear']==year)&(lapTimesAnalysis['driverName'].isin(driverList))].groupby(by=['circuitName','raceYear','driverName']).mean().reset_index().sort_values(by='raceId')[['raceYear','lap','lapSeconds','driverName','circuitName']]\n",
    "\n",
    "fig = px.line(\n",
    "    data_frame = df,\n",
    "    x='circuitName',\n",
    "    y='lapSeconds',\n",
    "    color='driverName',\n",
    ")\n",
    "\n",
    "fig.update_layout(\n",
    "    title_text=f'Average Lap Times by Circuit - {year}',\n",
    ")\n",
    "fig.show()"
   ]
  },
  {
   "cell_type": "markdown",
   "id": "72591aeb",
   "metadata": {
    "papermill": {
     "duration": 0.022041,
     "end_time": "2022-04-15T21:53:26.030867",
     "exception": false,
     "start_time": "2022-04-15T21:53:26.008826",
     "status": "completed"
    },
    "tags": []
   },
   "source": [
    "## Lap Times over the course of a Race"
   ]
  },
  {
   "cell_type": "code",
   "execution_count": 10,
   "id": "52982b46",
   "metadata": {
    "execution": {
     "iopub.execute_input": "2022-04-15T21:53:26.082000Z",
     "iopub.status.busy": "2022-04-15T21:53:26.081388Z",
     "iopub.status.idle": "2022-04-15T21:53:26.263002Z",
     "shell.execute_reply": "2022-04-15T21:53:26.263453Z",
     "shell.execute_reply.started": "2022-04-15T21:52:44.580293Z"
    },
    "papermill": {
     "duration": 0.209749,
     "end_time": "2022-04-15T21:53:26.263616",
     "exception": false,
     "start_time": "2022-04-15T21:53:26.053867",
     "status": "completed"
    },
    "tags": []
   },
   "outputs": [
    {
     "data": {
      "text/html": [
       "<div>                            <div id=\"f45e0969-74e5-47c7-b938-76980cafff95\" class=\"plotly-graph-div\" style=\"height:525px; width:100%;\"></div>            <script type=\"text/javascript\">                require([\"plotly\"], function(Plotly) {                    window.PLOTLYENV=window.PLOTLYENV || {};                                    if (document.getElementById(\"f45e0969-74e5-47c7-b938-76980cafff95\")) {                    Plotly.newPlot(                        \"f45e0969-74e5-47c7-b938-76980cafff95\",                        [{\"hovertemplate\":\"driverName=Max Verstappen<br>lap=%{x}<br>lapSeconds=%{y}<extra></extra>\",\"legendgroup\":\"Max Verstappen\",\"line\":{\"color\":\"#636efa\",\"dash\":\"solid\"},\"marker\":{\"symbol\":\"circle\"},\"mode\":\"lines\",\"name\":\"Max Verstappen\",\"showlegend\":true,\"x\":[1,2,3,4,5,6,7,8,9,10,11,12,13,14,15,16,17,18,19,20,21,22,23,24,25,26,27,28,29,30,31,32,33,34,35,36,37,38,39,40,41,42,43,44,45,46,47,48,49,50,51,52,53,54,55,56,57,58,59,60,61,62,63,64,65,66,67,68,69,70,71,72,73,74,75,76,77,78],\"xaxis\":\"x\",\"y\":[81.986,77.48,77.298,77.237,76.892,77.147,76.722,77.12,76.91,76.944,76.265,76.339,75.954,76.305,75.818,75.76,75.99,75.917,75.655,76.084,76.184,76.144,76.272,76.244,76.531,76.322,76.0,75.981,76.551,76.582,75.167,75.889,75.827,92.339,80.639,75.494,75.861,76.438,76.535,75.881,75.468,75.581,75.624,74.993,74.93,75.502,75.494,74.851,75.186,74.714,74.95,74.853,74.745,74.967,74.783,74.799,74.762,74.649,75.092,75.37,75.557,75.455,75.014,75.473,75.356,75.301,75.035,74.843,74.836,75.321,75.237,74.942,75.316,75.515,74.909,75.331,76.533,76.829],\"yaxis\":\"y\",\"type\":\"scattergl\"},{\"hovertemplate\":\"driverName=Valtteri Bottas<br>lap=%{x}<br>lapSeconds=%{y}<extra></extra>\",\"legendgroup\":\"Valtteri Bottas\",\"line\":{\"color\":\"#EF553B\",\"dash\":\"solid\"},\"marker\":{\"symbol\":\"circle\"},\"mode\":\"lines\",\"name\":\"Valtteri Bottas\",\"showlegend\":true,\"x\":[1,2,3,4,5,6,7,8,9,10,11,12,13,14,15,16,17,18,19,20,21,22,23,24,25,26,27,28,29],\"xaxis\":\"x\",\"y\":[83.015,77.613,77.329,77.154,77.236,76.863,77.082,76.751,76.961,77.012,76.575,76.54,76.04,76.028,75.974,76.275,75.914,75.706,75.908,76.335,76.6,76.471,76.641,77.198,76.543,76.687,76.247,76.034,76.265],\"yaxis\":\"y\",\"type\":\"scattergl\"},{\"hovertemplate\":\"driverName=Carlos Sainz<br>lap=%{x}<br>lapSeconds=%{y}<extra></extra>\",\"legendgroup\":\"Carlos Sainz\",\"line\":{\"color\":\"#00cc96\",\"dash\":\"solid\"},\"marker\":{\"symbol\":\"circle\"},\"mode\":\"lines\",\"name\":\"Carlos Sainz\",\"showlegend\":true,\"x\":[1,2,3,4,5,6,7,8,9,10,11,12,13,14,15,16,17,18,19,20,21,22,23,24,25,26,27,28,29,30,31,32,33,34,35,36,37,38,39,40,41,42,43,44,45,46,47,48,49,50,51,52,53,54,55,56,57,58,59,60,61,62,63,64,65,66,67,68,69,70,71,72,73,74,75,76,77,78],\"xaxis\":\"x\",\"y\":[84.727,77.929,77.32,78.028,77.304,76.988,76.736,76.687,76.672,76.747,76.748,76.445,76.524,75.926,76.08,75.917,76.021,75.957,75.766,75.925,76.236,76.158,76.751,77.06,76.693,76.889,76.237,76.153,76.22,76.707,76.485,93.98,79.941,74.699,74.621,75.288,75.163,75.158,75.122,76.364,75.565,75.588,75.329,75.056,74.808,75.203,75.626,74.874,74.731,75.049,75.052,74.859,74.792,74.76,74.646,74.914,75.051,75.347,75.32,75.706,76.343,75.592,76.394,75.751,75.455,75.561,75.356,75.397,75.261,75.364,75.269,74.877,75.141,75.76,75.53,75.605,76.139,76.345],\"yaxis\":\"y\",\"type\":\"scattergl\"},{\"hovertemplate\":\"driverName=Lando Norris<br>lap=%{x}<br>lapSeconds=%{y}<extra></extra>\",\"legendgroup\":\"Lando Norris\",\"line\":{\"color\":\"#ab63fa\",\"dash\":\"solid\"},\"marker\":{\"symbol\":\"circle\"},\"mode\":\"lines\",\"name\":\"Lando Norris\",\"showlegend\":true,\"x\":[1,2,3,4,5,6,7,8,9,10,11,12,13,14,15,16,17,18,19,20,21,22,23,24,25,26,27,28,29,30,31,32,33,34,35,36,37,38,39,40,41,42,43,44,45,46,47,48,49,50,51,52,53,54,55,56,57,58,59,60,61,62,63,64,65,66,67,68,69,70,71,72,73,74,75,76,77,78],\"xaxis\":\"x\",\"y\":[85.729,78.426,77.634,77.772,77.864,77.048,77.195,76.655,77.027,77.19,76.601,76.56,76.5,76.302,76.074,76.094,75.965,76.602,76.135,75.812,75.8,76.284,76.128,76.653,76.965,76.636,77.02,77.635,76.902,93.286,79.617,74.838,76.21,75.03,74.991,75.195,75.735,75.683,75.625,75.672,75.757,76.281,75.912,75.613,75.18,75.141,75.458,75.524,75.584,75.716,75.531,75.188,75.27,75.252,75.339,75.515,75.441,75.315,75.63,75.847,76.048,75.622,75.416,75.874,76.145,76.038,75.572,75.154,75.381,75.575,75.974,74.795,75.034,75.141,75.032,74.67,75.091,76.101],\"yaxis\":\"y\",\"type\":\"scattergl\"},{\"hovertemplate\":\"driverName=Pierre Gasly<br>lap=%{x}<br>lapSeconds=%{y}<extra></extra>\",\"legendgroup\":\"Pierre Gasly\",\"line\":{\"color\":\"#FFA15A\",\"dash\":\"solid\"},\"marker\":{\"symbol\":\"circle\"},\"mode\":\"lines\",\"name\":\"Pierre Gasly\",\"showlegend\":true,\"x\":[1,2,3,4,5,6,7,8,9,10,11,12,13,14,15,16,17,18,19,20,21,22,23,24,25,26,27,28,29,30,31,32,33,34,35,36,37,38,39,40,41,42,43,44,45,46,47,48,49,50,51,52,53,54,55,56,57,58,59,60,61,62,63,64,65,66,67,68,69,70,71,72,73,74,75,76,77,78],\"xaxis\":\"x\",\"y\":[86.902,78.737,77.821,78.06,77.909,77.393,77.204,76.838,77.055,77.182,76.798,76.414,76.897,76.331,76.128,76.138,76.058,76.151,77.309,76.087,75.925,76.055,76.355,76.06,77.135,76.576,77.134,76.701,76.723,93.589,81.727,78.95,76.459,76.292,75.894,76.031,76.467,76.874,76.708,76.226,76.713,76.205,76.757,76.104,76.357,76.318,76.32,76.358,75.906,75.809,76.128,76.122,76.126,76.603,76.398,76.316,75.732,75.896,75.921,75.861,75.657,75.458,75.687,75.845,75.882,75.761,75.646,76.034,75.514,75.611,75.412,75.646,75.974,75.888,75.763,75.691,75.884,76.12],\"yaxis\":\"y\",\"type\":\"scattergl\"},{\"hovertemplate\":\"driverName=Lewis Hamilton<br>lap=%{x}<br>lapSeconds=%{y}<extra></extra>\",\"legendgroup\":\"Lewis Hamilton\",\"line\":{\"color\":\"#19d3f3\",\"dash\":\"solid\"},\"marker\":{\"symbol\":\"circle\"},\"mode\":\"lines\",\"name\":\"Lewis Hamilton\",\"showlegend\":true,\"x\":[1,2,3,4,5,6,7,8,9,10,11,12,13,14,15,16,17,18,19,20,21,22,23,24,25,26,27,28,29,30,31,32,33,34,35,36,37,38,39,40,41,42,43,44,45,46,47,48,49,50,51,52,53,54,55,56,57,58,59,60,61,62,63,64,65,66,67,68,69,70,71,72,73,74,75,76,77,78],\"xaxis\":\"x\",\"y\":[87.982,78.742,78.24,77.936,78.221,77.448,77.205,77.009,76.779,76.869,76.698,76.667,77.07,76.555,76.262,76.152,76.033,75.854,76.485,76.8,76.395,76.017,76.096,76.343,76.636,76.497,76.622,77.044,93.051,78.739,79.326,78.966,77.702,76.42,75.929,76.036,76.621,76.209,76.392,76.542,76.349,76.964,77.853,76.793,75.903,75.72,75.277,76.717,76.328,76.216,76.266,76.129,75.641,75.894,75.953,76.148,76.877,76.241,76.006,76.013,75.858,75.926,75.404,76.498,75.684,75.261,91.81,77.137,72.909,73.382,74.433,75.081,75.08,75.323,76.795,74.539,76.05,78.003],\"yaxis\":\"y\",\"type\":\"scattergl\"},{\"hovertemplate\":\"driverName=Sebastian Vettel<br>lap=%{x}<br>lapSeconds=%{y}<extra></extra>\",\"legendgroup\":\"Sebastian Vettel\",\"line\":{\"color\":\"#FF6692\",\"dash\":\"solid\"},\"marker\":{\"symbol\":\"circle\"},\"mode\":\"lines\",\"name\":\"Sebastian Vettel\",\"showlegend\":true,\"x\":[1,2,3,4,5,6,7,8,9,10,11,12,13,14,15,16,17,18,19,20,21,22,23,24,25,26,27,28,29,30,31,32,33,34,35,36,37,38,39,40,41,42,43,44,45,46,47,48,49,50,51,52,53,54,55,56,57,58,59,60,61,62,63,64,65,66,67,68,69,70,71,72,73,74,75,76,77,78],\"xaxis\":\"x\",\"y\":[88.935,79.731,78.778,78.133,77.921,77.992,77.872,77.805,77.825,77.416,77.599,76.702,76.555,76.286,75.885,75.868,76.028,76.072,75.919,76.019,75.997,76.006,76.16,76.143,76.317,76.926,76.33,76.636,76.298,76.03,92.812,79.635,75.316,75.416,75.568,77.038,77.051,76.691,76.402,76.483,76.706,76.074,76.22,76.045,75.903,76.857,75.991,75.797,75.591,76.063,76.059,76.268,76.452,76.613,75.5,75.761,75.883,75.87,75.9,75.89,75.762,75.468,76.085,75.809,76.37,75.744,75.345,75.758,75.954,75.93,75.782,76.009,76.185,76.093,75.911,75.862,76.234,77.071],\"yaxis\":\"y\",\"type\":\"scattergl\"},{\"hovertemplate\":\"driverName=Sergio Pérez<br>lap=%{x}<br>lapSeconds=%{y}<extra></extra>\",\"legendgroup\":\"Sergio Pérez\",\"line\":{\"color\":\"#B6E880\",\"dash\":\"solid\"},\"marker\":{\"symbol\":\"circle\"},\"mode\":\"lines\",\"name\":\"Sergio Pérez\",\"showlegend\":true,\"x\":[1,2,3,4,5,6,7,8,9,10,11,12,13,14,15,16,17,18,19,20,21,22,23,24,25,26,27,28,29,30,31,32,33,34,35,36,37,38,39,40,41,42,43,44,45,46,47,48,49,50,51,52,53,54,55,56,57,58,59,60,61,62,63,64,65,66,67,68,69,70,71,72,73,74,75,76,77,78],\"xaxis\":\"x\",\"y\":[89.638,79.594,78.532,78.164,78.945,78.401,78.241,78.337,77.771,77.474,77.102,75.949,75.881,76.42,76.497,76.338,76.118,75.638,76.084,75.827,76.528,75.843,76.19,76.093,75.856,76.715,76.327,76.719,76.289,75.934,76.166,74.552,74.67,75.062,92.675,79.543,76.381,75.841,76.007,76.15,74.95,75.488,75.6,75.706,75.344,75.595,75.7,74.988,74.81,75.895,74.743,75.143,74.915,74.98,75.238,75.163,75.736,74.988,75.052,75.125,75.27,74.759,74.778,75.149,75.883,75.789,75.982,75.466,75.453,75.412,75.613,75.074,75.167,75.561,75.175,74.905,74.916,75.307],\"yaxis\":\"y\",\"type\":\"scattergl\"},{\"hovertemplate\":\"driverName=Antonio Giovinazzi<br>lap=%{x}<br>lapSeconds=%{y}<extra></extra>\",\"legendgroup\":\"Antonio Giovinazzi\",\"line\":{\"color\":\"#FF97FF\",\"dash\":\"solid\"},\"marker\":{\"symbol\":\"circle\"},\"mode\":\"lines\",\"name\":\"Antonio Giovinazzi\",\"showlegend\":true,\"x\":[1,2,3,4,5,6,7,8,9,10,11,12,13,14,15,16,17,18,19,20,21,22,23,24,25,26,27,28,29,30,31,32,33,34,35,36,37,38,39,40,41,42,43,44,45,46,47,48,49,50,51,52,53,54,55,56,57,58,59,60,61,62,63,64,65,66,67,68,69,70,71,72,73,74,75,76,77],\"xaxis\":\"x\",\"y\":[90.113,79.695,79.07,78.34,78.636,78.64,78.244,77.977,78.402,77.873,77.363,77.088,77.175,76.86,76.974,77.037,76.54,76.727,76.588,76.468,76.718,76.758,76.853,77.263,76.826,77.056,77.136,77.5,78.045,78.318,78.689,78.673,95.523,80.718,75.673,76.866,76.038,77.113,76.448,76.013,75.331,75.402,75.569,75.707,75.865,76.179,76.444,76.712,76.736,76.577,76.524,76.466,76.688,76.647,76.394,76.482,76.71,77.878,78.885,79.997,77.788,77.774,77.748,77.436,79.182,79.104,77.354,77.2,77.193,76.833,76.751,77.056,76.951,76.88,76.744,76.829,77.269],\"yaxis\":\"y\",\"type\":\"scattergl\"},{\"hovertemplate\":\"driverName=Esteban Ocon<br>lap=%{x}<br>lapSeconds=%{y}<extra></extra>\",\"legendgroup\":\"Esteban Ocon\",\"line\":{\"color\":\"#FECB52\",\"dash\":\"solid\"},\"marker\":{\"symbol\":\"circle\"},\"mode\":\"lines\",\"name\":\"Esteban Ocon\",\"showlegend\":true,\"x\":[1,2,3,4,5,6,7,8,9,10,11,12,13,14,15,16,17,18,19,20,21,22,23,24,25,26,27,28,29,30,31,32,33,34,35,36,37,38,39,40,41,42,43,44,45,46,47,48,49,50,51,52,53,54,55,56,57,58,59,60,61,62,63,64,65,66,67,68,69,70,71,72,73,74,75,76,77],\"xaxis\":\"x\",\"y\":[90.963,80.154,79.421,78.494,78.546,78.526,78.572,77.967,78.38,78.298,77.77,77.677,77.253,76.82,76.81,76.876,76.572,76.416,76.754,76.598,76.543,76.67,76.656,77.295,77.343,76.519,76.85,77.158,77.515,78.393,78.301,78.797,78.032,76.427,76.052,76.154,92.516,80.372,76.171,75.55,75.316,75.459,75.823,75.858,76.012,76.026,76.782,76.975,76.749,76.521,76.43,76.675,76.689,76.447,76.466,76.438,76.712,76.988,79.864,80.445,77.675,77.694,77.764,77.485,77.557,80.526,77.478,77.311,76.944,76.935,76.774,76.994,76.936,76.846,76.895,76.655,77.581],\"yaxis\":\"y\",\"type\":\"scattergl\"},{\"hovertemplate\":\"driverName=Lance Stroll<br>lap=%{x}<br>lapSeconds=%{y}<extra></extra>\",\"legendgroup\":\"Lance Stroll\",\"line\":{\"color\":\"#636efa\",\"dash\":\"solid\"},\"marker\":{\"symbol\":\"circle\"},\"mode\":\"lines\",\"name\":\"Lance Stroll\",\"showlegend\":true,\"x\":[1,2,3,4,5,6,7,8,9,10,11,12,13,14,15,16,17,18,19,20,21,22,23,24,25,26,27,28,29,30,31,32,33,34,35,36,37,38,39,40,41,42,43,44,45,46,47,48,49,50,51,52,53,54,55,56,57,58,59,60,61,62,63,64,65,66,67,68,69,70,71,72,73,74,75,76,77],\"xaxis\":\"x\",\"y\":[91.448,80.334,79.437,78.644,78.626,78.497,78.748,78.398,78.477,78.226,77.902,77.682,77.3,76.833,76.843,76.518,77.166,77.596,77.613,77.259,76.994,76.731,76.63,76.671,76.671,76.452,76.546,76.383,76.538,78.563,77.278,78.417,78.351,77.081,76.69,76.429,76.252,76.159,75.811,75.756,75.695,76.089,75.983,76.58,77.562,75.828,75.92,76.523,75.989,75.871,76.024,76.156,75.595,75.783,75.806,75.768,76.725,92.618,78.442,77.151,76.586,75.878,75.508,75.183,78.419,76.087,75.373,75.507,75.862,75.85,75.604,75.294,75.565,74.674,75.67,76.392,76.487],\"yaxis\":\"y\",\"type\":\"scattergl\"},{\"hovertemplate\":\"driverName=Kimi Räikkönen<br>lap=%{x}<br>lapSeconds=%{y}<extra></extra>\",\"legendgroup\":\"Kimi Räikkönen\",\"line\":{\"color\":\"#EF553B\",\"dash\":\"solid\"},\"marker\":{\"symbol\":\"circle\"},\"mode\":\"lines\",\"name\":\"Kimi Räikkönen\",\"showlegend\":true,\"x\":[1,2,3,4,5,6,7,8,9,10,11,12,13,14,15,16,17,18,19,20,21,22,23,24,25,26,27,28,29,30,31,32,33,34,35,36,37,38,39,40,41,42,43,44,45,46,47,48,49,50,51,52,53,54,55,56,57,58,59,60,61,62,63,64,65,66,67,68,69,70,71,72,73,74,75,76,77],\"xaxis\":\"x\",\"y\":[93.051,80.858,79.846,79.102,78.913,78.511,78.927,78.716,78.49,78.262,78.193,78.31,77.445,77.969,77.629,77.283,77.064,77.241,77.221,77.055,77.581,77.306,77.39,76.708,77.425,77.073,76.902,77.098,77.067,77.806,77.262,76.621,76.54,77.282,78.335,77.663,76.386,76.951,76.565,76.815,76.901,76.45,93.514,81.46,77.657,81.927,76.697,76.045,76.304,76.036,76.163,75.411,75.025,75.165,74.971,75.288,75.588,75.13,75.311,75.479,75.691,75.922,76.95,80.815,76.494,78.29,77.937,77.236,77.242,76.919,76.521,76.897,77.112,77.51,76.273,76.617,76.864],\"yaxis\":\"y\",\"type\":\"scattergl\"},{\"hovertemplate\":\"driverName=Daniel Ricciardo<br>lap=%{x}<br>lapSeconds=%{y}<extra></extra>\",\"legendgroup\":\"Daniel Ricciardo\",\"line\":{\"color\":\"#00cc96\",\"dash\":\"solid\"},\"marker\":{\"symbol\":\"circle\"},\"mode\":\"lines\",\"name\":\"Daniel Ricciardo\",\"showlegend\":true,\"x\":[1,2,3,4,5,6,7,8,9,10,11,12,13,14,15,16,17,18,19,20,21,22,23,24,25,26,27,28,29,30,31,32,33,34,35,36,37,38,39,40,41,42,43,44,45,46,47,48,49,50,51,52,53,54,55,56,57,58,59,60,61,62,63,64,65,66,67,68,69,70,71,72,73,74,75,76,77],\"xaxis\":\"x\",\"y\":[93.662,81.326,79.874,79.801,79.588,79.103,78.304,78.441,78.385,78.886,78.625,77.959,77.624,77.387,77.227,77.614,77.049,77.092,77.204,77.704,77.945,77.708,77.669,77.26,77.125,77.165,77.436,77.46,77.202,76.99,77.699,77.468,77.638,77.9,78.265,95.412,81.447,76.217,75.205,75.457,74.856,75.164,74.578,77.703,77.707,82.04,77.23,76.179,76.284,76.156,78.131,75.382,75.386,75.976,75.298,75.518,75.268,75.308,75.633,76.352,78.843,75.432,75.246,75.799,76.018,77.475,77.762,77.286,77.332,77.17,76.952,76.364,76.987,77.271,77.126,76.732,77.357],\"yaxis\":\"y\",\"type\":\"scattergl\"},{\"hovertemplate\":\"driverName=Fernando Alonso<br>lap=%{x}<br>lapSeconds=%{y}<extra></extra>\",\"legendgroup\":\"Fernando Alonso\",\"line\":{\"color\":\"#ab63fa\",\"dash\":\"solid\"},\"marker\":{\"symbol\":\"circle\"},\"mode\":\"lines\",\"name\":\"Fernando Alonso\",\"showlegend\":true,\"x\":[1,2,3,4,5,6,7,8,9,10,11,12,13,14,15,16,17,18,19,20,21,22,23,24,25,26,27,28,29,30,31,32,33,34,35,36,37,38,39,40,41,42,43,44,45,46,47,48,49,50,51,52,53,54,55,56,57,58,59,60,61,62,63,64,65,66,67,68,69,70,71,72,73,74,75,76,77],\"xaxis\":\"x\",\"y\":[94.069,81.498,80.548,80.121,79.757,78.825,78.738,78.254,78.904,78.147,78.778,78.414,77.807,77.529,77.803,77.84,77.414,77.636,77.81,77.648,77.823,77.805,77.864,77.891,77.244,77.808,77.414,77.189,76.897,77.425,77.473,77.985,77.09,78.695,77.241,77.288,77.172,77.286,77.102,77.263,77.267,77.446,77.602,78.384,94.415,80.632,75.12,80.318,76.757,76.997,76.727,76.309,76.557,75.783,75.954,75.982,76.071,76.028,75.89,75.909,76.007,75.461,75.868,76.157,75.536,76.195,75.318,75.213,75.667,75.026,75.226,75.422,76.111,76.095,76.601,76.696,77.07],\"yaxis\":\"y\",\"type\":\"scattergl\"},{\"hovertemplate\":\"driverName=George Russell<br>lap=%{x}<br>lapSeconds=%{y}<extra></extra>\",\"legendgroup\":\"George Russell\",\"line\":{\"color\":\"#FFA15A\",\"dash\":\"solid\"},\"marker\":{\"symbol\":\"circle\"},\"mode\":\"lines\",\"name\":\"George Russell\",\"showlegend\":true,\"x\":[1,2,3,4,5,6,7,8,9,10,11,12,13,14,15,16,17,18,19,20,21,22,23,24,25,26,27,28,29,30,31,32,33,34,35,36,37,38,39,40,41,42,43,44,45,46,47,48,49,50,51,52,53,54,55,56,57,58,59,60,61,62,63,64,65,66,67,68,69,70,71,72,73,74,75,76,77],\"xaxis\":\"x\",\"y\":[94.901,81.405,80.458,80.091,79.608,79.391,78.73,78.627,78.977,78.523,78.339,78.469,78.641,78.211,78.54,78.444,78.435,78.162,78.101,78.238,78.06,78.111,78.206,77.866,78.106,78.189,78.226,78.581,81.174,78.97,95.152,82.576,79.074,76.392,75.826,75.802,75.895,75.951,76.636,75.667,75.618,76.346,78.893,77.165,76.812,76.131,76.185,76.379,76.446,76.659,77.078,76.879,79.146,77.259,76.727,83.427,77.148,75.964,75.539,75.929,75.759,75.695,75.705,75.935,76.012,75.855,75.861,76.132,76.27,76.158,75.979,76.342,78.826,77.303,77.063,76.585,76.66],\"yaxis\":\"y\",\"type\":\"scattergl\"},{\"hovertemplate\":\"driverName=Nicholas Latifi<br>lap=%{x}<br>lapSeconds=%{y}<extra></extra>\",\"legendgroup\":\"Nicholas Latifi\",\"line\":{\"color\":\"#19d3f3\",\"dash\":\"solid\"},\"marker\":{\"symbol\":\"circle\"},\"mode\":\"lines\",\"name\":\"Nicholas Latifi\",\"showlegend\":true,\"x\":[1,2,3,4,5,6,7,8,9,10,11,12,13,14,15,16,17,18,19,20,21,22,23,24,25,26,27,28,29,30,31,32,33,34,35,36,37,38,39,40,41,42,43,44,45,46,47,48,49,50,51,52,53,54,55,56,57,58,59,60,61,62,63,64,65,66,67,68,69,70,71,72,73,74,75,76,77],\"xaxis\":\"x\",\"y\":[96.04,81.526,80.126,80.175,79.516,79.611,78.95,78.494,78.804,78.717,78.558,78.874,78.998,77.617,78.328,78.433,78.46,78.299,77.966,78.132,78.305,78.373,78.035,78.051,78.14,78.014,77.989,78.447,80.75,79.026,80.096,77.363,76.967,76.8,76.692,77.15,77.912,77.978,79.567,79.063,77.323,79.846,94.2,81.902,76.122,75.889,76.286,76.007,76.355,75.942,75.867,76.08,76.146,76.009,75.703,77.179,76.863,76.441,76.039,76.058,75.82,75.652,75.921,75.968,76.173,75.573,75.984,76.006,76.048,75.961,76.211,78.702,76.068,76.758,76.815,76.698,76.748],\"yaxis\":\"y\",\"type\":\"scattergl\"},{\"hovertemplate\":\"driverName=Yuki Tsunoda<br>lap=%{x}<br>lapSeconds=%{y}<extra></extra>\",\"legendgroup\":\"Yuki Tsunoda\",\"line\":{\"color\":\"#FF6692\",\"dash\":\"solid\"},\"marker\":{\"symbol\":\"circle\"},\"mode\":\"lines\",\"name\":\"Yuki Tsunoda\",\"showlegend\":true,\"x\":[1,2,3,4,5,6,7,8,9,10,11,12,13,14,15,16,17,18,19,20,21,22,23,24,25,26,27,28,29,30,31,32,33,34,35,36,37,38,39,40,41,42,43,44,45,46,47,48,49,50,51,52,53,54,55,56,57,58,59,60,61,62,63,64,65,66,67,68,69,70,71,72,73,74,75,76,77],\"xaxis\":\"x\",\"y\":[96.731,81.852,79.829,80.526,79.373,79.498,79.193,78.427,78.59,79.119,78.483,78.848,78.49,78.42,77.681,78.444,78.49,78.829,78.093,77.842,78.325,78.374,78.08,77.989,77.867,78.251,78.051,80.396,78.141,80.625,78.626,77.754,77.034,77.043,76.742,76.82,77.503,80.113,79.247,77.312,79.522,77.556,77.717,75.88,75.635,77.634,77.469,76.913,76.88,77.24,76.702,76.589,76.319,76.334,75.983,75.919,76.108,75.975,75.777,75.852,76.161,76.18,75.805,94.429,78.804,74.037,74.077,75.671,76.035,76.821,77.195,76.787,76.159,77.043,76.538,76.575,77.092],\"yaxis\":\"y\",\"type\":\"scattergl\"},{\"hovertemplate\":\"driverName=Mick Schumacher<br>lap=%{x}<br>lapSeconds=%{y}<extra></extra>\",\"legendgroup\":\"Mick Schumacher\",\"line\":{\"color\":\"#B6E880\",\"dash\":\"solid\"},\"marker\":{\"symbol\":\"circle\"},\"mode\":\"lines\",\"name\":\"Mick Schumacher\",\"showlegend\":true,\"x\":[1,2,3,4,5,6,7,8,9,10,11,12,13,14,15,16,17,18,19,20,21,22,23,24,25,26,27,28,29,30,31,32,33,34,35,36,37,38,39,40,41,42,43,44,45,46,47,48,49,50,51,52,53,54,55,56,57,58,59,60,61,62,63,64,65,66,67,68,69,70,71,72,73,74,75],\"xaxis\":\"x\",\"y\":[97.443,82.045,80.586,79.93,79.362,79.782,79.247,79.041,79.004,78.672,78.575,78.674,78.992,78.579,78.294,78.751,78.58,78.621,78.909,78.533,78.533,78.759,78.495,80.781,82.457,83.437,89.167,87.965,91.596,83.951,86.779,80.091,77.77,77.438,79.106,78.665,95.956,86.398,84.818,81.03,77.591,76.814,77.825,77.867,77.852,77.289,77.434,77.682,76.94,76.52,76.425,76.805,76.767,76.564,76.624,77.182,77.915,79.485,77.713,79.102,78.282,77.745,77.133,77.375,77.779,81.412,77.582,76.719,76.763,76.847,76.778,76.837,77.064,77.162,77.633],\"yaxis\":\"y\",\"type\":\"scattergl\"},{\"hovertemplate\":\"driverName=Nikita Mazepin<br>lap=%{x}<br>lapSeconds=%{y}<extra></extra>\",\"legendgroup\":\"Nikita Mazepin\",\"line\":{\"color\":\"#FF97FF\",\"dash\":\"solid\"},\"marker\":{\"symbol\":\"circle\"},\"mode\":\"lines\",\"name\":\"Nikita Mazepin\",\"showlegend\":true,\"x\":[1,2,3,4,5,6,7,8,9,10,11,12,13,14,15,16,17,18,19,20,21,22,23,24,25,26,27,28,29,30,31,32,33,34,35,36,37,38,39,40,41,42,43,44,45,46,47,48,49,50,51,52,53,54,55,56,57,58,59,60,61,62,63,64,65,66,67,68,69,70,71,72,73,74,75],\"xaxis\":\"x\",\"y\":[98.076,81.965,80.73,79.805,79.598,79.839,79.535,79.281,78.932,78.872,79.018,78.904,79.287,79.422,78.949,78.804,79.249,79.163,78.674,78.862,79.11,80.825,82.077,84.946,82.756,79.064,78.695,79.503,79.289,82.719,83.783,79.23,79.038,96.881,82.27,78.661,77.773,77.976,81.209,80.12,80.018,80.555,82.757,81.445,83.941,82.519,77.651,77.407,77.221,76.917,76.883,76.919,76.901,76.899,77.089,77.638,77.517,77.89,81.993,77.499,79.733,77.422,76.868,76.866,77.046,77.107,77.105,80.632,77.133,77.303,77.632,77.276,77.252,77.786,77.153],\"yaxis\":\"y\",\"type\":\"scattergl\"}],                        {\"template\":{\"data\":{\"bar\":[{\"error_x\":{\"color\":\"#2a3f5f\"},\"error_y\":{\"color\":\"#2a3f5f\"},\"marker\":{\"line\":{\"color\":\"#E5ECF6\",\"width\":0.5},\"pattern\":{\"fillmode\":\"overlay\",\"size\":10,\"solidity\":0.2}},\"type\":\"bar\"}],\"barpolar\":[{\"marker\":{\"line\":{\"color\":\"#E5ECF6\",\"width\":0.5},\"pattern\":{\"fillmode\":\"overlay\",\"size\":10,\"solidity\":0.2}},\"type\":\"barpolar\"}],\"carpet\":[{\"aaxis\":{\"endlinecolor\":\"#2a3f5f\",\"gridcolor\":\"white\",\"linecolor\":\"white\",\"minorgridcolor\":\"white\",\"startlinecolor\":\"#2a3f5f\"},\"baxis\":{\"endlinecolor\":\"#2a3f5f\",\"gridcolor\":\"white\",\"linecolor\":\"white\",\"minorgridcolor\":\"white\",\"startlinecolor\":\"#2a3f5f\"},\"type\":\"carpet\"}],\"choropleth\":[{\"colorbar\":{\"outlinewidth\":0,\"ticks\":\"\"},\"type\":\"choropleth\"}],\"contour\":[{\"colorbar\":{\"outlinewidth\":0,\"ticks\":\"\"},\"colorscale\":[[0.0,\"#0d0887\"],[0.1111111111111111,\"#46039f\"],[0.2222222222222222,\"#7201a8\"],[0.3333333333333333,\"#9c179e\"],[0.4444444444444444,\"#bd3786\"],[0.5555555555555556,\"#d8576b\"],[0.6666666666666666,\"#ed7953\"],[0.7777777777777778,\"#fb9f3a\"],[0.8888888888888888,\"#fdca26\"],[1.0,\"#f0f921\"]],\"type\":\"contour\"}],\"contourcarpet\":[{\"colorbar\":{\"outlinewidth\":0,\"ticks\":\"\"},\"type\":\"contourcarpet\"}],\"heatmap\":[{\"colorbar\":{\"outlinewidth\":0,\"ticks\":\"\"},\"colorscale\":[[0.0,\"#0d0887\"],[0.1111111111111111,\"#46039f\"],[0.2222222222222222,\"#7201a8\"],[0.3333333333333333,\"#9c179e\"],[0.4444444444444444,\"#bd3786\"],[0.5555555555555556,\"#d8576b\"],[0.6666666666666666,\"#ed7953\"],[0.7777777777777778,\"#fb9f3a\"],[0.8888888888888888,\"#fdca26\"],[1.0,\"#f0f921\"]],\"type\":\"heatmap\"}],\"heatmapgl\":[{\"colorbar\":{\"outlinewidth\":0,\"ticks\":\"\"},\"colorscale\":[[0.0,\"#0d0887\"],[0.1111111111111111,\"#46039f\"],[0.2222222222222222,\"#7201a8\"],[0.3333333333333333,\"#9c179e\"],[0.4444444444444444,\"#bd3786\"],[0.5555555555555556,\"#d8576b\"],[0.6666666666666666,\"#ed7953\"],[0.7777777777777778,\"#fb9f3a\"],[0.8888888888888888,\"#fdca26\"],[1.0,\"#f0f921\"]],\"type\":\"heatmapgl\"}],\"histogram\":[{\"marker\":{\"pattern\":{\"fillmode\":\"overlay\",\"size\":10,\"solidity\":0.2}},\"type\":\"histogram\"}],\"histogram2d\":[{\"colorbar\":{\"outlinewidth\":0,\"ticks\":\"\"},\"colorscale\":[[0.0,\"#0d0887\"],[0.1111111111111111,\"#46039f\"],[0.2222222222222222,\"#7201a8\"],[0.3333333333333333,\"#9c179e\"],[0.4444444444444444,\"#bd3786\"],[0.5555555555555556,\"#d8576b\"],[0.6666666666666666,\"#ed7953\"],[0.7777777777777778,\"#fb9f3a\"],[0.8888888888888888,\"#fdca26\"],[1.0,\"#f0f921\"]],\"type\":\"histogram2d\"}],\"histogram2dcontour\":[{\"colorbar\":{\"outlinewidth\":0,\"ticks\":\"\"},\"colorscale\":[[0.0,\"#0d0887\"],[0.1111111111111111,\"#46039f\"],[0.2222222222222222,\"#7201a8\"],[0.3333333333333333,\"#9c179e\"],[0.4444444444444444,\"#bd3786\"],[0.5555555555555556,\"#d8576b\"],[0.6666666666666666,\"#ed7953\"],[0.7777777777777778,\"#fb9f3a\"],[0.8888888888888888,\"#fdca26\"],[1.0,\"#f0f921\"]],\"type\":\"histogram2dcontour\"}],\"mesh3d\":[{\"colorbar\":{\"outlinewidth\":0,\"ticks\":\"\"},\"type\":\"mesh3d\"}],\"parcoords\":[{\"line\":{\"colorbar\":{\"outlinewidth\":0,\"ticks\":\"\"}},\"type\":\"parcoords\"}],\"pie\":[{\"automargin\":true,\"type\":\"pie\"}],\"scatter\":[{\"marker\":{\"colorbar\":{\"outlinewidth\":0,\"ticks\":\"\"}},\"type\":\"scatter\"}],\"scatter3d\":[{\"line\":{\"colorbar\":{\"outlinewidth\":0,\"ticks\":\"\"}},\"marker\":{\"colorbar\":{\"outlinewidth\":0,\"ticks\":\"\"}},\"type\":\"scatter3d\"}],\"scattercarpet\":[{\"marker\":{\"colorbar\":{\"outlinewidth\":0,\"ticks\":\"\"}},\"type\":\"scattercarpet\"}],\"scattergeo\":[{\"marker\":{\"colorbar\":{\"outlinewidth\":0,\"ticks\":\"\"}},\"type\":\"scattergeo\"}],\"scattergl\":[{\"marker\":{\"colorbar\":{\"outlinewidth\":0,\"ticks\":\"\"}},\"type\":\"scattergl\"}],\"scattermapbox\":[{\"marker\":{\"colorbar\":{\"outlinewidth\":0,\"ticks\":\"\"}},\"type\":\"scattermapbox\"}],\"scatterpolar\":[{\"marker\":{\"colorbar\":{\"outlinewidth\":0,\"ticks\":\"\"}},\"type\":\"scatterpolar\"}],\"scatterpolargl\":[{\"marker\":{\"colorbar\":{\"outlinewidth\":0,\"ticks\":\"\"}},\"type\":\"scatterpolargl\"}],\"scatterternary\":[{\"marker\":{\"colorbar\":{\"outlinewidth\":0,\"ticks\":\"\"}},\"type\":\"scatterternary\"}],\"surface\":[{\"colorbar\":{\"outlinewidth\":0,\"ticks\":\"\"},\"colorscale\":[[0.0,\"#0d0887\"],[0.1111111111111111,\"#46039f\"],[0.2222222222222222,\"#7201a8\"],[0.3333333333333333,\"#9c179e\"],[0.4444444444444444,\"#bd3786\"],[0.5555555555555556,\"#d8576b\"],[0.6666666666666666,\"#ed7953\"],[0.7777777777777778,\"#fb9f3a\"],[0.8888888888888888,\"#fdca26\"],[1.0,\"#f0f921\"]],\"type\":\"surface\"}],\"table\":[{\"cells\":{\"fill\":{\"color\":\"#EBF0F8\"},\"line\":{\"color\":\"white\"}},\"header\":{\"fill\":{\"color\":\"#C8D4E3\"},\"line\":{\"color\":\"white\"}},\"type\":\"table\"}]},\"layout\":{\"annotationdefaults\":{\"arrowcolor\":\"#2a3f5f\",\"arrowhead\":0,\"arrowwidth\":1},\"autotypenumbers\":\"strict\",\"coloraxis\":{\"colorbar\":{\"outlinewidth\":0,\"ticks\":\"\"}},\"colorscale\":{\"diverging\":[[0,\"#8e0152\"],[0.1,\"#c51b7d\"],[0.2,\"#de77ae\"],[0.3,\"#f1b6da\"],[0.4,\"#fde0ef\"],[0.5,\"#f7f7f7\"],[0.6,\"#e6f5d0\"],[0.7,\"#b8e186\"],[0.8,\"#7fbc41\"],[0.9,\"#4d9221\"],[1,\"#276419\"]],\"sequential\":[[0.0,\"#0d0887\"],[0.1111111111111111,\"#46039f\"],[0.2222222222222222,\"#7201a8\"],[0.3333333333333333,\"#9c179e\"],[0.4444444444444444,\"#bd3786\"],[0.5555555555555556,\"#d8576b\"],[0.6666666666666666,\"#ed7953\"],[0.7777777777777778,\"#fb9f3a\"],[0.8888888888888888,\"#fdca26\"],[1.0,\"#f0f921\"]],\"sequentialminus\":[[0.0,\"#0d0887\"],[0.1111111111111111,\"#46039f\"],[0.2222222222222222,\"#7201a8\"],[0.3333333333333333,\"#9c179e\"],[0.4444444444444444,\"#bd3786\"],[0.5555555555555556,\"#d8576b\"],[0.6666666666666666,\"#ed7953\"],[0.7777777777777778,\"#fb9f3a\"],[0.8888888888888888,\"#fdca26\"],[1.0,\"#f0f921\"]]},\"colorway\":[\"#636efa\",\"#EF553B\",\"#00cc96\",\"#ab63fa\",\"#FFA15A\",\"#19d3f3\",\"#FF6692\",\"#B6E880\",\"#FF97FF\",\"#FECB52\"],\"font\":{\"color\":\"#2a3f5f\"},\"geo\":{\"bgcolor\":\"white\",\"lakecolor\":\"white\",\"landcolor\":\"#E5ECF6\",\"showlakes\":true,\"showland\":true,\"subunitcolor\":\"white\"},\"hoverlabel\":{\"align\":\"left\"},\"hovermode\":\"closest\",\"mapbox\":{\"style\":\"light\"},\"paper_bgcolor\":\"white\",\"plot_bgcolor\":\"#E5ECF6\",\"polar\":{\"angularaxis\":{\"gridcolor\":\"white\",\"linecolor\":\"white\",\"ticks\":\"\"},\"bgcolor\":\"#E5ECF6\",\"radialaxis\":{\"gridcolor\":\"white\",\"linecolor\":\"white\",\"ticks\":\"\"}},\"scene\":{\"xaxis\":{\"backgroundcolor\":\"#E5ECF6\",\"gridcolor\":\"white\",\"gridwidth\":2,\"linecolor\":\"white\",\"showbackground\":true,\"ticks\":\"\",\"zerolinecolor\":\"white\"},\"yaxis\":{\"backgroundcolor\":\"#E5ECF6\",\"gridcolor\":\"white\",\"gridwidth\":2,\"linecolor\":\"white\",\"showbackground\":true,\"ticks\":\"\",\"zerolinecolor\":\"white\"},\"zaxis\":{\"backgroundcolor\":\"#E5ECF6\",\"gridcolor\":\"white\",\"gridwidth\":2,\"linecolor\":\"white\",\"showbackground\":true,\"ticks\":\"\",\"zerolinecolor\":\"white\"}},\"shapedefaults\":{\"line\":{\"color\":\"#2a3f5f\"}},\"ternary\":{\"aaxis\":{\"gridcolor\":\"white\",\"linecolor\":\"white\",\"ticks\":\"\"},\"baxis\":{\"gridcolor\":\"white\",\"linecolor\":\"white\",\"ticks\":\"\"},\"bgcolor\":\"#E5ECF6\",\"caxis\":{\"gridcolor\":\"white\",\"linecolor\":\"white\",\"ticks\":\"\"}},\"title\":{\"x\":0.05},\"xaxis\":{\"automargin\":true,\"gridcolor\":\"white\",\"linecolor\":\"white\",\"ticks\":\"\",\"title\":{\"standoff\":15},\"zerolinecolor\":\"white\",\"zerolinewidth\":2},\"yaxis\":{\"automargin\":true,\"gridcolor\":\"white\",\"linecolor\":\"white\",\"ticks\":\"\",\"title\":{\"standoff\":15},\"zerolinecolor\":\"white\",\"zerolinewidth\":2}}},\"xaxis\":{\"anchor\":\"y\",\"domain\":[0.0,1.0],\"title\":{\"text\":\"lap\"}},\"yaxis\":{\"anchor\":\"x\",\"domain\":[0.0,1.0],\"title\":{\"text\":\"lapSeconds\"}},\"legend\":{\"title\":{\"text\":\"driverName\"},\"tracegroupgap\":0},\"margin\":{\"t\":60},\"title\":{\"text\":\"Lap Time by Lap - Circuit de Monaco 2021\"}},                        {\"responsive\": true}                    ).then(function(){\n",
       "                            \n",
       "var gd = document.getElementById('f45e0969-74e5-47c7-b938-76980cafff95');\n",
       "var x = new MutationObserver(function (mutations, observer) {{\n",
       "        var display = window.getComputedStyle(gd).display;\n",
       "        if (!display || display === 'none') {{\n",
       "            console.log([gd, 'removed!']);\n",
       "            Plotly.purge(gd);\n",
       "            observer.disconnect();\n",
       "        }}\n",
       "}});\n",
       "\n",
       "// Listen for the removal of the full notebook cells\n",
       "var notebookContainer = gd.closest('#notebook-container');\n",
       "if (notebookContainer) {{\n",
       "    x.observe(notebookContainer, {childList: true});\n",
       "}}\n",
       "\n",
       "// Listen for the clearing of the current output cell\n",
       "var outputEl = gd.closest('.output');\n",
       "if (outputEl) {{\n",
       "    x.observe(outputEl, {childList: true});\n",
       "}}\n",
       "\n",
       "                        })                };                });            </script>        </div>"
      ]
     },
     "metadata": {},
     "output_type": "display_data"
    }
   ],
   "source": [
    "df = lapTimesAnalysis[(lapTimesAnalysis['raceYear']==year)&(lapTimesAnalysis['circuitName']==circuitName)&(lapTimesAnalysis['driverName'].isin(driverList))][['raceYear','lap','lapSeconds','driverName','circuitName','constructorName']]\n",
    "\n",
    "fig = px.line(\n",
    "    data_frame = df,\n",
    "    x='lap',\n",
    "    y='lapSeconds',\n",
    "    color='driverName',\n",
    ")\n",
    "\n",
    "fig.update_layout(\n",
    "    title_text=f'Lap Time by Lap - {circuitName} {year}',\n",
    ")\n",
    "fig.show()"
   ]
  },
  {
   "cell_type": "markdown",
   "id": "bb1398c4",
   "metadata": {
    "papermill": {
     "duration": 0.022813,
     "end_time": "2022-04-15T21:53:26.309672",
     "exception": false,
     "start_time": "2022-04-15T21:53:26.286859",
     "status": "completed"
    },
    "tags": []
   },
   "source": [
    "## Lap time distribution over the course of a race"
   ]
  },
  {
   "cell_type": "code",
   "execution_count": 11,
   "id": "1ea28ffa",
   "metadata": {
    "execution": {
     "iopub.execute_input": "2022-04-15T21:53:26.392214Z",
     "iopub.status.busy": "2022-04-15T21:53:26.391191Z",
     "iopub.status.idle": "2022-04-15T21:53:26.506324Z",
     "shell.execute_reply": "2022-04-15T21:53:26.506768Z",
     "shell.execute_reply.started": "2022-04-15T21:52:44.852111Z"
    },
    "papermill": {
     "duration": 0.174318,
     "end_time": "2022-04-15T21:53:26.506930",
     "exception": false,
     "start_time": "2022-04-15T21:53:26.332612",
     "status": "completed"
    },
    "tags": []
   },
   "outputs": [
    {
     "data": {
      "text/html": [
       "<div>                            <div id=\"ce44de0e-a1ae-4a3a-9a67-3da10ee21039\" class=\"plotly-graph-div\" style=\"height:525px; width:100%;\"></div>            <script type=\"text/javascript\">                require([\"plotly\"], function(Plotly) {                    window.PLOTLYENV=window.PLOTLYENV || {};                                    if (document.getElementById(\"ce44de0e-a1ae-4a3a-9a67-3da10ee21039\")) {                    Plotly.newPlot(                        \"ce44de0e-a1ae-4a3a-9a67-3da10ee21039\",                        [{\"alignmentgroup\":\"True\",\"bingroup\":\"x\",\"hovertemplate\":\"constructorName=Red Bull<br>lapSeconds=%{x}<br>count=%{y}<extra></extra>\",\"legendgroup\":\"Red Bull\",\"marker\":{\"color\":\"#1E5BC6\",\"pattern\":{\"shape\":\"\"}},\"name\":\"Red Bull\",\"offsetgroup\":\"Red Bull\",\"orientation\":\"v\",\"showlegend\":true,\"x\":[81.986,77.48,77.298,77.237,76.892,77.147,76.722,77.12,76.91,76.944,76.265,76.339,75.954,76.305,75.818,75.76,75.99,75.917,75.655,76.084,76.184,76.144,76.272,76.244,76.531,76.322,76.0,75.981,76.551,76.582,75.167,75.889,75.827,92.339,80.639,75.494,75.861,76.438,76.535,75.881,75.468,75.581,75.624,74.993,74.93,75.502,75.494,74.851,75.186,74.714,74.95,74.853,74.745,74.967,74.783,74.799,74.762,74.649,75.092,75.37,75.557,75.455,75.014,75.473,75.356,75.301,75.035,74.843,74.836,75.321,75.237,74.942,75.316,75.515,74.909,75.331,76.533,76.829,89.638,79.594,78.532,78.164,78.945,78.401,78.241,78.337,77.771,77.474,77.102,75.949,75.881,76.42,76.497,76.338,76.118,75.638,76.084,75.827,76.528,75.843,76.19,76.093,75.856,76.715,76.327,76.719,76.289,75.934,76.166,74.552,74.67,75.062,92.675,79.543,76.381,75.841,76.007,76.15,74.95,75.488,75.6,75.706,75.344,75.595,75.7,74.988,74.81,75.895,74.743,75.143,74.915,74.98,75.238,75.163,75.736,74.988,75.052,75.125,75.27,74.759,74.778,75.149,75.883,75.789,75.982,75.466,75.453,75.412,75.613,75.074,75.167,75.561,75.175,74.905,74.916,75.307],\"xaxis\":\"x\",\"yaxis\":\"y\",\"type\":\"histogram\",\"opacity\":0.65},{\"alignmentgroup\":\"True\",\"bingroup\":\"x\",\"hovertemplate\":\"constructorName=Mercedes<br>lapSeconds=%{x}<br>count=%{y}<extra></extra>\",\"legendgroup\":\"Mercedes\",\"marker\":{\"color\":\"#6CD3BF\",\"pattern\":{\"shape\":\"\"}},\"name\":\"Mercedes\",\"offsetgroup\":\"Mercedes\",\"orientation\":\"v\",\"showlegend\":true,\"x\":[83.015,77.613,77.329,77.154,77.236,76.863,77.082,76.751,76.961,77.012,76.575,76.54,76.04,76.028,75.974,76.275,75.914,75.706,75.908,76.335,76.6,76.471,76.641,77.198,76.543,76.687,76.247,76.034,76.265,87.982,78.742,78.24,77.936,78.221,77.448,77.205,77.009,76.779,76.869,76.698,76.667,77.07,76.555,76.262,76.152,76.033,75.854,76.485,76.8,76.395,76.017,76.096,76.343,76.636,76.497,76.622,77.044,93.051,78.739,79.326,78.966,77.702,76.42,75.929,76.036,76.621,76.209,76.392,76.542,76.349,76.964,77.853,76.793,75.903,75.72,75.277,76.717,76.328,76.216,76.266,76.129,75.641,75.894,75.953,76.148,76.877,76.241,76.006,76.013,75.858,75.926,75.404,76.498,75.684,75.261,91.81,77.137,72.909,73.382,74.433,75.081,75.08,75.323,76.795,74.539,76.05,78.003],\"xaxis\":\"x\",\"yaxis\":\"y\",\"type\":\"histogram\",\"opacity\":0.65},{\"alignmentgroup\":\"True\",\"bingroup\":\"x\",\"hovertemplate\":\"constructorName=Ferrari<br>lapSeconds=%{x}<br>count=%{y}<extra></extra>\",\"legendgroup\":\"Ferrari\",\"marker\":{\"color\":\"#ED1C24\",\"pattern\":{\"shape\":\"\"}},\"name\":\"Ferrari\",\"offsetgroup\":\"Ferrari\",\"orientation\":\"v\",\"showlegend\":true,\"x\":[84.727,77.929,77.32,78.028,77.304,76.988,76.736,76.687,76.672,76.747,76.748,76.445,76.524,75.926,76.08,75.917,76.021,75.957,75.766,75.925,76.236,76.158,76.751,77.06,76.693,76.889,76.237,76.153,76.22,76.707,76.485,93.98,79.941,74.699,74.621,75.288,75.163,75.158,75.122,76.364,75.565,75.588,75.329,75.056,74.808,75.203,75.626,74.874,74.731,75.049,75.052,74.859,74.792,74.76,74.646,74.914,75.051,75.347,75.32,75.706,76.343,75.592,76.394,75.751,75.455,75.561,75.356,75.397,75.261,75.364,75.269,74.877,75.141,75.76,75.53,75.605,76.139,76.345],\"xaxis\":\"x\",\"yaxis\":\"y\",\"type\":\"histogram\",\"opacity\":0.65},{\"alignmentgroup\":\"True\",\"bingroup\":\"x\",\"hovertemplate\":\"constructorName=McLaren<br>lapSeconds=%{x}<br>count=%{y}<extra></extra>\",\"legendgroup\":\"McLaren\",\"marker\":{\"color\":\"#F58020\",\"pattern\":{\"shape\":\"\"}},\"name\":\"McLaren\",\"offsetgroup\":\"McLaren\",\"orientation\":\"v\",\"showlegend\":true,\"x\":[85.729,78.426,77.634,77.772,77.864,77.048,77.195,76.655,77.027,77.19,76.601,76.56,76.5,76.302,76.074,76.094,75.965,76.602,76.135,75.812,75.8,76.284,76.128,76.653,76.965,76.636,77.02,77.635,76.902,93.286,79.617,74.838,76.21,75.03,74.991,75.195,75.735,75.683,75.625,75.672,75.757,76.281,75.912,75.613,75.18,75.141,75.458,75.524,75.584,75.716,75.531,75.188,75.27,75.252,75.339,75.515,75.441,75.315,75.63,75.847,76.048,75.622,75.416,75.874,76.145,76.038,75.572,75.154,75.381,75.575,75.974,74.795,75.034,75.141,75.032,74.67,75.091,76.101,93.662,81.326,79.874,79.801,79.588,79.103,78.304,78.441,78.385,78.886,78.625,77.959,77.624,77.387,77.227,77.614,77.049,77.092,77.204,77.704,77.945,77.708,77.669,77.26,77.125,77.165,77.436,77.46,77.202,76.99,77.699,77.468,77.638,77.9,78.265,95.412,81.447,76.217,75.205,75.457,74.856,75.164,74.578,77.703,77.707,82.04,77.23,76.179,76.284,76.156,78.131,75.382,75.386,75.976,75.298,75.518,75.268,75.308,75.633,76.352,78.843,75.432,75.246,75.799,76.018,77.475,77.762,77.286,77.332,77.17,76.952,76.364,76.987,77.271,77.126,76.732,77.357],\"xaxis\":\"x\",\"yaxis\":\"y\",\"type\":\"histogram\",\"opacity\":0.65},{\"alignmentgroup\":\"True\",\"bingroup\":\"x\",\"hovertemplate\":\"constructorName=AlphaTauri<br>lapSeconds=%{x}<br>count=%{y}<extra></extra>\",\"legendgroup\":\"AlphaTauri\",\"marker\":{\"color\":\"#4E7C9B\",\"pattern\":{\"shape\":\"\"}},\"name\":\"AlphaTauri\",\"offsetgroup\":\"AlphaTauri\",\"orientation\":\"v\",\"showlegend\":true,\"x\":[86.902,78.737,77.821,78.06,77.909,77.393,77.204,76.838,77.055,77.182,76.798,76.414,76.897,76.331,76.128,76.138,76.058,76.151,77.309,76.087,75.925,76.055,76.355,76.06,77.135,76.576,77.134,76.701,76.723,93.589,81.727,78.95,76.459,76.292,75.894,76.031,76.467,76.874,76.708,76.226,76.713,76.205,76.757,76.104,76.357,76.318,76.32,76.358,75.906,75.809,76.128,76.122,76.126,76.603,76.398,76.316,75.732,75.896,75.921,75.861,75.657,75.458,75.687,75.845,75.882,75.761,75.646,76.034,75.514,75.611,75.412,75.646,75.974,75.888,75.763,75.691,75.884,76.12,96.731,81.852,79.829,80.526,79.373,79.498,79.193,78.427,78.59,79.119,78.483,78.848,78.49,78.42,77.681,78.444,78.49,78.829,78.093,77.842,78.325,78.374,78.08,77.989,77.867,78.251,78.051,80.396,78.141,80.625,78.626,77.754,77.034,77.043,76.742,76.82,77.503,80.113,79.247,77.312,79.522,77.556,77.717,75.88,75.635,77.634,77.469,76.913,76.88,77.24,76.702,76.589,76.319,76.334,75.983,75.919,76.108,75.975,75.777,75.852,76.161,76.18,75.805,94.429,78.804,74.037,74.077,75.671,76.035,76.821,77.195,76.787,76.159,77.043,76.538,76.575,77.092],\"xaxis\":\"x\",\"yaxis\":\"y\",\"type\":\"histogram\",\"opacity\":0.65},{\"alignmentgroup\":\"True\",\"bingroup\":\"x\",\"hovertemplate\":\"constructorName=Aston Martin<br>lapSeconds=%{x}<br>count=%{y}<extra></extra>\",\"legendgroup\":\"Aston Martin\",\"marker\":{\"color\":\"#2D826D\",\"pattern\":{\"shape\":\"\"}},\"name\":\"Aston Martin\",\"offsetgroup\":\"Aston Martin\",\"orientation\":\"v\",\"showlegend\":true,\"x\":[88.935,79.731,78.778,78.133,77.921,77.992,77.872,77.805,77.825,77.416,77.599,76.702,76.555,76.286,75.885,75.868,76.028,76.072,75.919,76.019,75.997,76.006,76.16,76.143,76.317,76.926,76.33,76.636,76.298,76.03,92.812,79.635,75.316,75.416,75.568,77.038,77.051,76.691,76.402,76.483,76.706,76.074,76.22,76.045,75.903,76.857,75.991,75.797,75.591,76.063,76.059,76.268,76.452,76.613,75.5,75.761,75.883,75.87,75.9,75.89,75.762,75.468,76.085,75.809,76.37,75.744,75.345,75.758,75.954,75.93,75.782,76.009,76.185,76.093,75.911,75.862,76.234,77.071,91.448,80.334,79.437,78.644,78.626,78.497,78.748,78.398,78.477,78.226,77.902,77.682,77.3,76.833,76.843,76.518,77.166,77.596,77.613,77.259,76.994,76.731,76.63,76.671,76.671,76.452,76.546,76.383,76.538,78.563,77.278,78.417,78.351,77.081,76.69,76.429,76.252,76.159,75.811,75.756,75.695,76.089,75.983,76.58,77.562,75.828,75.92,76.523,75.989,75.871,76.024,76.156,75.595,75.783,75.806,75.768,76.725,92.618,78.442,77.151,76.586,75.878,75.508,75.183,78.419,76.087,75.373,75.507,75.862,75.85,75.604,75.294,75.565,74.674,75.67,76.392,76.487],\"xaxis\":\"x\",\"yaxis\":\"y\",\"type\":\"histogram\",\"opacity\":0.65},{\"alignmentgroup\":\"True\",\"bingroup\":\"x\",\"hovertemplate\":\"constructorName=Alfa Romeo<br>lapSeconds=%{x}<br>count=%{y}<extra></extra>\",\"legendgroup\":\"Alfa Romeo\",\"marker\":{\"color\":\"#B12039\",\"pattern\":{\"shape\":\"\"}},\"name\":\"Alfa Romeo\",\"offsetgroup\":\"Alfa Romeo\",\"orientation\":\"v\",\"showlegend\":true,\"x\":[90.113,79.695,79.07,78.34,78.636,78.64,78.244,77.977,78.402,77.873,77.363,77.088,77.175,76.86,76.974,77.037,76.54,76.727,76.588,76.468,76.718,76.758,76.853,77.263,76.826,77.056,77.136,77.5,78.045,78.318,78.689,78.673,95.523,80.718,75.673,76.866,76.038,77.113,76.448,76.013,75.331,75.402,75.569,75.707,75.865,76.179,76.444,76.712,76.736,76.577,76.524,76.466,76.688,76.647,76.394,76.482,76.71,77.878,78.885,79.997,77.788,77.774,77.748,77.436,79.182,79.104,77.354,77.2,77.193,76.833,76.751,77.056,76.951,76.88,76.744,76.829,77.269,93.051,80.858,79.846,79.102,78.913,78.511,78.927,78.716,78.49,78.262,78.193,78.31,77.445,77.969,77.629,77.283,77.064,77.241,77.221,77.055,77.581,77.306,77.39,76.708,77.425,77.073,76.902,77.098,77.067,77.806,77.262,76.621,76.54,77.282,78.335,77.663,76.386,76.951,76.565,76.815,76.901,76.45,93.514,81.46,77.657,81.927,76.697,76.045,76.304,76.036,76.163,75.411,75.025,75.165,74.971,75.288,75.588,75.13,75.311,75.479,75.691,75.922,76.95,80.815,76.494,78.29,77.937,77.236,77.242,76.919,76.521,76.897,77.112,77.51,76.273,76.617,76.864],\"xaxis\":\"x\",\"yaxis\":\"y\",\"type\":\"histogram\",\"opacity\":0.65},{\"alignmentgroup\":\"True\",\"bingroup\":\"x\",\"hovertemplate\":\"constructorName=Alpine F1 Team<br>lapSeconds=%{x}<br>count=%{y}<extra></extra>\",\"legendgroup\":\"Alpine F1 Team\",\"marker\":{\"color\":\"#2293D1\",\"pattern\":{\"shape\":\"\"}},\"name\":\"Alpine F1 Team\",\"offsetgroup\":\"Alpine F1 Team\",\"orientation\":\"v\",\"showlegend\":true,\"x\":[90.963,80.154,79.421,78.494,78.546,78.526,78.572,77.967,78.38,78.298,77.77,77.677,77.253,76.82,76.81,76.876,76.572,76.416,76.754,76.598,76.543,76.67,76.656,77.295,77.343,76.519,76.85,77.158,77.515,78.393,78.301,78.797,78.032,76.427,76.052,76.154,92.516,80.372,76.171,75.55,75.316,75.459,75.823,75.858,76.012,76.026,76.782,76.975,76.749,76.521,76.43,76.675,76.689,76.447,76.466,76.438,76.712,76.988,79.864,80.445,77.675,77.694,77.764,77.485,77.557,80.526,77.478,77.311,76.944,76.935,76.774,76.994,76.936,76.846,76.895,76.655,77.581,94.069,81.498,80.548,80.121,79.757,78.825,78.738,78.254,78.904,78.147,78.778,78.414,77.807,77.529,77.803,77.84,77.414,77.636,77.81,77.648,77.823,77.805,77.864,77.891,77.244,77.808,77.414,77.189,76.897,77.425,77.473,77.985,77.09,78.695,77.241,77.288,77.172,77.286,77.102,77.263,77.267,77.446,77.602,78.384,94.415,80.632,75.12,80.318,76.757,76.997,76.727,76.309,76.557,75.783,75.954,75.982,76.071,76.028,75.89,75.909,76.007,75.461,75.868,76.157,75.536,76.195,75.318,75.213,75.667,75.026,75.226,75.422,76.111,76.095,76.601,76.696,77.07],\"xaxis\":\"x\",\"yaxis\":\"y\",\"type\":\"histogram\",\"opacity\":0.65},{\"alignmentgroup\":\"True\",\"bingroup\":\"x\",\"hovertemplate\":\"constructorName=Williams<br>lapSeconds=%{x}<br>count=%{y}<extra></extra>\",\"legendgroup\":\"Williams\",\"marker\":{\"color\":\"#37BEDD\",\"pattern\":{\"shape\":\"\"}},\"name\":\"Williams\",\"offsetgroup\":\"Williams\",\"orientation\":\"v\",\"showlegend\":true,\"x\":[94.901,81.405,80.458,80.091,79.608,79.391,78.73,78.627,78.977,78.523,78.339,78.469,78.641,78.211,78.54,78.444,78.435,78.162,78.101,78.238,78.06,78.111,78.206,77.866,78.106,78.189,78.226,78.581,81.174,78.97,95.152,82.576,79.074,76.392,75.826,75.802,75.895,75.951,76.636,75.667,75.618,76.346,78.893,77.165,76.812,76.131,76.185,76.379,76.446,76.659,77.078,76.879,79.146,77.259,76.727,83.427,77.148,75.964,75.539,75.929,75.759,75.695,75.705,75.935,76.012,75.855,75.861,76.132,76.27,76.158,75.979,76.342,78.826,77.303,77.063,76.585,76.66,96.04,81.526,80.126,80.175,79.516,79.611,78.95,78.494,78.804,78.717,78.558,78.874,78.998,77.617,78.328,78.433,78.46,78.299,77.966,78.132,78.305,78.373,78.035,78.051,78.14,78.014,77.989,78.447,80.75,79.026,80.096,77.363,76.967,76.8,76.692,77.15,77.912,77.978,79.567,79.063,77.323,79.846,94.2,81.902,76.122,75.889,76.286,76.007,76.355,75.942,75.867,76.08,76.146,76.009,75.703,77.179,76.863,76.441,76.039,76.058,75.82,75.652,75.921,75.968,76.173,75.573,75.984,76.006,76.048,75.961,76.211,78.702,76.068,76.758,76.815,76.698,76.748],\"xaxis\":\"x\",\"yaxis\":\"y\",\"type\":\"histogram\",\"opacity\":0.65},{\"alignmentgroup\":\"True\",\"bingroup\":\"x\",\"hovertemplate\":\"constructorName=Haas F1 Team<br>lapSeconds=%{x}<br>count=%{y}<extra></extra>\",\"legendgroup\":\"Haas F1 Team\",\"marker\":{\"color\":\"#B6BABD\",\"pattern\":{\"shape\":\"\"}},\"name\":\"Haas F1 Team\",\"offsetgroup\":\"Haas F1 Team\",\"orientation\":\"v\",\"showlegend\":true,\"x\":[97.443,82.045,80.586,79.93,79.362,79.782,79.247,79.041,79.004,78.672,78.575,78.674,78.992,78.579,78.294,78.751,78.58,78.621,78.909,78.533,78.533,78.759,78.495,80.781,82.457,83.437,89.167,87.965,91.596,83.951,86.779,80.091,77.77,77.438,79.106,78.665,95.956,86.398,84.818,81.03,77.591,76.814,77.825,77.867,77.852,77.289,77.434,77.682,76.94,76.52,76.425,76.805,76.767,76.564,76.624,77.182,77.915,79.485,77.713,79.102,78.282,77.745,77.133,77.375,77.779,81.412,77.582,76.719,76.763,76.847,76.778,76.837,77.064,77.162,77.633,98.076,81.965,80.73,79.805,79.598,79.839,79.535,79.281,78.932,78.872,79.018,78.904,79.287,79.422,78.949,78.804,79.249,79.163,78.674,78.862,79.11,80.825,82.077,84.946,82.756,79.064,78.695,79.503,79.289,82.719,83.783,79.23,79.038,96.881,82.27,78.661,77.773,77.976,81.209,80.12,80.018,80.555,82.757,81.445,83.941,82.519,77.651,77.407,77.221,76.917,76.883,76.919,76.901,76.899,77.089,77.638,77.517,77.89,81.993,77.499,79.733,77.422,76.868,76.866,77.046,77.107,77.105,80.632,77.133,77.303,77.632,77.276,77.252,77.786,77.153],\"xaxis\":\"x\",\"yaxis\":\"y\",\"type\":\"histogram\",\"opacity\":0.65}],                        {\"template\":{\"data\":{\"bar\":[{\"error_x\":{\"color\":\"#2a3f5f\"},\"error_y\":{\"color\":\"#2a3f5f\"},\"marker\":{\"line\":{\"color\":\"#E5ECF6\",\"width\":0.5},\"pattern\":{\"fillmode\":\"overlay\",\"size\":10,\"solidity\":0.2}},\"type\":\"bar\"}],\"barpolar\":[{\"marker\":{\"line\":{\"color\":\"#E5ECF6\",\"width\":0.5},\"pattern\":{\"fillmode\":\"overlay\",\"size\":10,\"solidity\":0.2}},\"type\":\"barpolar\"}],\"carpet\":[{\"aaxis\":{\"endlinecolor\":\"#2a3f5f\",\"gridcolor\":\"white\",\"linecolor\":\"white\",\"minorgridcolor\":\"white\",\"startlinecolor\":\"#2a3f5f\"},\"baxis\":{\"endlinecolor\":\"#2a3f5f\",\"gridcolor\":\"white\",\"linecolor\":\"white\",\"minorgridcolor\":\"white\",\"startlinecolor\":\"#2a3f5f\"},\"type\":\"carpet\"}],\"choropleth\":[{\"colorbar\":{\"outlinewidth\":0,\"ticks\":\"\"},\"type\":\"choropleth\"}],\"contour\":[{\"colorbar\":{\"outlinewidth\":0,\"ticks\":\"\"},\"colorscale\":[[0.0,\"#0d0887\"],[0.1111111111111111,\"#46039f\"],[0.2222222222222222,\"#7201a8\"],[0.3333333333333333,\"#9c179e\"],[0.4444444444444444,\"#bd3786\"],[0.5555555555555556,\"#d8576b\"],[0.6666666666666666,\"#ed7953\"],[0.7777777777777778,\"#fb9f3a\"],[0.8888888888888888,\"#fdca26\"],[1.0,\"#f0f921\"]],\"type\":\"contour\"}],\"contourcarpet\":[{\"colorbar\":{\"outlinewidth\":0,\"ticks\":\"\"},\"type\":\"contourcarpet\"}],\"heatmap\":[{\"colorbar\":{\"outlinewidth\":0,\"ticks\":\"\"},\"colorscale\":[[0.0,\"#0d0887\"],[0.1111111111111111,\"#46039f\"],[0.2222222222222222,\"#7201a8\"],[0.3333333333333333,\"#9c179e\"],[0.4444444444444444,\"#bd3786\"],[0.5555555555555556,\"#d8576b\"],[0.6666666666666666,\"#ed7953\"],[0.7777777777777778,\"#fb9f3a\"],[0.8888888888888888,\"#fdca26\"],[1.0,\"#f0f921\"]],\"type\":\"heatmap\"}],\"heatmapgl\":[{\"colorbar\":{\"outlinewidth\":0,\"ticks\":\"\"},\"colorscale\":[[0.0,\"#0d0887\"],[0.1111111111111111,\"#46039f\"],[0.2222222222222222,\"#7201a8\"],[0.3333333333333333,\"#9c179e\"],[0.4444444444444444,\"#bd3786\"],[0.5555555555555556,\"#d8576b\"],[0.6666666666666666,\"#ed7953\"],[0.7777777777777778,\"#fb9f3a\"],[0.8888888888888888,\"#fdca26\"],[1.0,\"#f0f921\"]],\"type\":\"heatmapgl\"}],\"histogram\":[{\"marker\":{\"pattern\":{\"fillmode\":\"overlay\",\"size\":10,\"solidity\":0.2}},\"type\":\"histogram\"}],\"histogram2d\":[{\"colorbar\":{\"outlinewidth\":0,\"ticks\":\"\"},\"colorscale\":[[0.0,\"#0d0887\"],[0.1111111111111111,\"#46039f\"],[0.2222222222222222,\"#7201a8\"],[0.3333333333333333,\"#9c179e\"],[0.4444444444444444,\"#bd3786\"],[0.5555555555555556,\"#d8576b\"],[0.6666666666666666,\"#ed7953\"],[0.7777777777777778,\"#fb9f3a\"],[0.8888888888888888,\"#fdca26\"],[1.0,\"#f0f921\"]],\"type\":\"histogram2d\"}],\"histogram2dcontour\":[{\"colorbar\":{\"outlinewidth\":0,\"ticks\":\"\"},\"colorscale\":[[0.0,\"#0d0887\"],[0.1111111111111111,\"#46039f\"],[0.2222222222222222,\"#7201a8\"],[0.3333333333333333,\"#9c179e\"],[0.4444444444444444,\"#bd3786\"],[0.5555555555555556,\"#d8576b\"],[0.6666666666666666,\"#ed7953\"],[0.7777777777777778,\"#fb9f3a\"],[0.8888888888888888,\"#fdca26\"],[1.0,\"#f0f921\"]],\"type\":\"histogram2dcontour\"}],\"mesh3d\":[{\"colorbar\":{\"outlinewidth\":0,\"ticks\":\"\"},\"type\":\"mesh3d\"}],\"parcoords\":[{\"line\":{\"colorbar\":{\"outlinewidth\":0,\"ticks\":\"\"}},\"type\":\"parcoords\"}],\"pie\":[{\"automargin\":true,\"type\":\"pie\"}],\"scatter\":[{\"marker\":{\"colorbar\":{\"outlinewidth\":0,\"ticks\":\"\"}},\"type\":\"scatter\"}],\"scatter3d\":[{\"line\":{\"colorbar\":{\"outlinewidth\":0,\"ticks\":\"\"}},\"marker\":{\"colorbar\":{\"outlinewidth\":0,\"ticks\":\"\"}},\"type\":\"scatter3d\"}],\"scattercarpet\":[{\"marker\":{\"colorbar\":{\"outlinewidth\":0,\"ticks\":\"\"}},\"type\":\"scattercarpet\"}],\"scattergeo\":[{\"marker\":{\"colorbar\":{\"outlinewidth\":0,\"ticks\":\"\"}},\"type\":\"scattergeo\"}],\"scattergl\":[{\"marker\":{\"colorbar\":{\"outlinewidth\":0,\"ticks\":\"\"}},\"type\":\"scattergl\"}],\"scattermapbox\":[{\"marker\":{\"colorbar\":{\"outlinewidth\":0,\"ticks\":\"\"}},\"type\":\"scattermapbox\"}],\"scatterpolar\":[{\"marker\":{\"colorbar\":{\"outlinewidth\":0,\"ticks\":\"\"}},\"type\":\"scatterpolar\"}],\"scatterpolargl\":[{\"marker\":{\"colorbar\":{\"outlinewidth\":0,\"ticks\":\"\"}},\"type\":\"scatterpolargl\"}],\"scatterternary\":[{\"marker\":{\"colorbar\":{\"outlinewidth\":0,\"ticks\":\"\"}},\"type\":\"scatterternary\"}],\"surface\":[{\"colorbar\":{\"outlinewidth\":0,\"ticks\":\"\"},\"colorscale\":[[0.0,\"#0d0887\"],[0.1111111111111111,\"#46039f\"],[0.2222222222222222,\"#7201a8\"],[0.3333333333333333,\"#9c179e\"],[0.4444444444444444,\"#bd3786\"],[0.5555555555555556,\"#d8576b\"],[0.6666666666666666,\"#ed7953\"],[0.7777777777777778,\"#fb9f3a\"],[0.8888888888888888,\"#fdca26\"],[1.0,\"#f0f921\"]],\"type\":\"surface\"}],\"table\":[{\"cells\":{\"fill\":{\"color\":\"#EBF0F8\"},\"line\":{\"color\":\"white\"}},\"header\":{\"fill\":{\"color\":\"#C8D4E3\"},\"line\":{\"color\":\"white\"}},\"type\":\"table\"}]},\"layout\":{\"annotationdefaults\":{\"arrowcolor\":\"#2a3f5f\",\"arrowhead\":0,\"arrowwidth\":1},\"autotypenumbers\":\"strict\",\"coloraxis\":{\"colorbar\":{\"outlinewidth\":0,\"ticks\":\"\"}},\"colorscale\":{\"diverging\":[[0,\"#8e0152\"],[0.1,\"#c51b7d\"],[0.2,\"#de77ae\"],[0.3,\"#f1b6da\"],[0.4,\"#fde0ef\"],[0.5,\"#f7f7f7\"],[0.6,\"#e6f5d0\"],[0.7,\"#b8e186\"],[0.8,\"#7fbc41\"],[0.9,\"#4d9221\"],[1,\"#276419\"]],\"sequential\":[[0.0,\"#0d0887\"],[0.1111111111111111,\"#46039f\"],[0.2222222222222222,\"#7201a8\"],[0.3333333333333333,\"#9c179e\"],[0.4444444444444444,\"#bd3786\"],[0.5555555555555556,\"#d8576b\"],[0.6666666666666666,\"#ed7953\"],[0.7777777777777778,\"#fb9f3a\"],[0.8888888888888888,\"#fdca26\"],[1.0,\"#f0f921\"]],\"sequentialminus\":[[0.0,\"#0d0887\"],[0.1111111111111111,\"#46039f\"],[0.2222222222222222,\"#7201a8\"],[0.3333333333333333,\"#9c179e\"],[0.4444444444444444,\"#bd3786\"],[0.5555555555555556,\"#d8576b\"],[0.6666666666666666,\"#ed7953\"],[0.7777777777777778,\"#fb9f3a\"],[0.8888888888888888,\"#fdca26\"],[1.0,\"#f0f921\"]]},\"colorway\":[\"#636efa\",\"#EF553B\",\"#00cc96\",\"#ab63fa\",\"#FFA15A\",\"#19d3f3\",\"#FF6692\",\"#B6E880\",\"#FF97FF\",\"#FECB52\"],\"font\":{\"color\":\"#2a3f5f\"},\"geo\":{\"bgcolor\":\"white\",\"lakecolor\":\"white\",\"landcolor\":\"#E5ECF6\",\"showlakes\":true,\"showland\":true,\"subunitcolor\":\"white\"},\"hoverlabel\":{\"align\":\"left\"},\"hovermode\":\"closest\",\"mapbox\":{\"style\":\"light\"},\"paper_bgcolor\":\"white\",\"plot_bgcolor\":\"#E5ECF6\",\"polar\":{\"angularaxis\":{\"gridcolor\":\"white\",\"linecolor\":\"white\",\"ticks\":\"\"},\"bgcolor\":\"#E5ECF6\",\"radialaxis\":{\"gridcolor\":\"white\",\"linecolor\":\"white\",\"ticks\":\"\"}},\"scene\":{\"xaxis\":{\"backgroundcolor\":\"#E5ECF6\",\"gridcolor\":\"white\",\"gridwidth\":2,\"linecolor\":\"white\",\"showbackground\":true,\"ticks\":\"\",\"zerolinecolor\":\"white\"},\"yaxis\":{\"backgroundcolor\":\"#E5ECF6\",\"gridcolor\":\"white\",\"gridwidth\":2,\"linecolor\":\"white\",\"showbackground\":true,\"ticks\":\"\",\"zerolinecolor\":\"white\"},\"zaxis\":{\"backgroundcolor\":\"#E5ECF6\",\"gridcolor\":\"white\",\"gridwidth\":2,\"linecolor\":\"white\",\"showbackground\":true,\"ticks\":\"\",\"zerolinecolor\":\"white\"}},\"shapedefaults\":{\"line\":{\"color\":\"#2a3f5f\"}},\"ternary\":{\"aaxis\":{\"gridcolor\":\"white\",\"linecolor\":\"white\",\"ticks\":\"\"},\"baxis\":{\"gridcolor\":\"white\",\"linecolor\":\"white\",\"ticks\":\"\"},\"bgcolor\":\"#E5ECF6\",\"caxis\":{\"gridcolor\":\"white\",\"linecolor\":\"white\",\"ticks\":\"\"}},\"title\":{\"x\":0.05},\"xaxis\":{\"automargin\":true,\"gridcolor\":\"white\",\"linecolor\":\"white\",\"ticks\":\"\",\"title\":{\"standoff\":15},\"zerolinecolor\":\"white\",\"zerolinewidth\":2},\"yaxis\":{\"automargin\":true,\"gridcolor\":\"white\",\"linecolor\":\"white\",\"ticks\":\"\",\"title\":{\"standoff\":15},\"zerolinecolor\":\"white\",\"zerolinewidth\":2}}},\"xaxis\":{\"anchor\":\"y\",\"domain\":[0.0,1.0],\"title\":{\"text\":\"lapSeconds\"}},\"yaxis\":{\"anchor\":\"x\",\"domain\":[0.0,1.0],\"title\":{\"text\":\"count\"}},\"legend\":{\"title\":{\"text\":\"constructorName\"},\"tracegroupgap\":0},\"margin\":{\"t\":60},\"barmode\":\"overlay\",\"title\":{\"text\":\"Lap Time Distribution by Constructor - 2021 Circuit de Monaco\"}},                        {\"responsive\": true}                    ).then(function(){\n",
       "                            \n",
       "var gd = document.getElementById('ce44de0e-a1ae-4a3a-9a67-3da10ee21039');\n",
       "var x = new MutationObserver(function (mutations, observer) {{\n",
       "        var display = window.getComputedStyle(gd).display;\n",
       "        if (!display || display === 'none') {{\n",
       "            console.log([gd, 'removed!']);\n",
       "            Plotly.purge(gd);\n",
       "            observer.disconnect();\n",
       "        }}\n",
       "}});\n",
       "\n",
       "// Listen for the removal of the full notebook cells\n",
       "var notebookContainer = gd.closest('#notebook-container');\n",
       "if (notebookContainer) {{\n",
       "    x.observe(notebookContainer, {childList: true});\n",
       "}}\n",
       "\n",
       "// Listen for the clearing of the current output cell\n",
       "var outputEl = gd.closest('.output');\n",
       "if (outputEl) {{\n",
       "    x.observe(outputEl, {childList: true});\n",
       "}}\n",
       "\n",
       "                        })                };                });            </script>        </div>"
      ]
     },
     "metadata": {},
     "output_type": "display_data"
    }
   ],
   "source": [
    "df = lapTimesAnalysis[(lapTimesAnalysis['raceYear']==year)&(lapTimesAnalysis['circuitName']==circuitName)]\n",
    "\n",
    "# create figure\n",
    "fig = px.histogram(df,\n",
    "                   x='lapSeconds',\n",
    "                  color='constructorName',\n",
    "                  color_discrete_map=constructor_color_map,\n",
    "                  )\n",
    "\n",
    "fig.update_layout(\n",
    "    title_text=f'Lap Time Distribution by Constructor - {year} {circuitName}',\n",
    "    barmode='overlay',\n",
    ")\n",
    "\n",
    "fig.update_traces(opacity=0.65)\n",
    "fig.show()"
   ]
  },
  {
   "cell_type": "markdown",
   "id": "8075cc4b",
   "metadata": {
    "papermill": {
     "duration": 0.023882,
     "end_time": "2022-04-15T21:53:26.555011",
     "exception": false,
     "start_time": "2022-04-15T21:53:26.531129",
     "status": "completed"
    },
    "tags": []
   },
   "source": [
    "## Average Historical Lap Times by Circuit"
   ]
  },
  {
   "cell_type": "code",
   "execution_count": 12,
   "id": "290e407f",
   "metadata": {
    "execution": {
     "iopub.execute_input": "2022-04-15T21:53:26.626909Z",
     "iopub.status.busy": "2022-04-15T21:53:26.609673Z",
     "iopub.status.idle": "2022-04-15T21:53:27.092817Z",
     "shell.execute_reply": "2022-04-15T21:53:27.092341Z",
     "shell.execute_reply.started": "2022-04-15T21:52:45.074222Z"
    },
    "papermill": {
     "duration": 0.513681,
     "end_time": "2022-04-15T21:53:27.092949",
     "exception": false,
     "start_time": "2022-04-15T21:53:26.579268",
     "status": "completed"
    },
    "tags": []
   },
   "outputs": [
    {
     "data": {
      "text/html": [
       "<div>                            <div id=\"f6046a87-38c6-40ae-bd97-d46af69b55b5\" class=\"plotly-graph-div\" style=\"height:525px; width:100%;\"></div>            <script type=\"text/javascript\">                require([\"plotly\"], function(Plotly) {                    window.PLOTLYENV=window.PLOTLYENV || {};                                    if (document.getElementById(\"f6046a87-38c6-40ae-bd97-d46af69b55b5\")) {                    Plotly.newPlot(                        \"f6046a87-38c6-40ae-bd97-d46af69b55b5\",                        [{\"hovertemplate\":\"circuitName=A1-Ring<br>raceYear=%{x}<br>lapSeconds=%{y}<extra></extra>\",\"legendgroup\":\"A1-Ring\",\"line\":{\"color\":\"#636efa\",\"dash\":\"solid\"},\"marker\":{\"symbol\":\"circle\"},\"mode\":\"lines\",\"name\":\"A1-Ring\",\"orientation\":\"v\",\"showlegend\":true,\"x\":[1997,1998,1999,2000,2001,2002,2003],\"xaxis\":\"x\",\"y\":[74.98625333333334,78.52102708124374,76.09861975116641,76.90697966728281,76.86057628765792,80.72366886792453,74.69539869888476],\"yaxis\":\"y\",\"type\":\"scatter\"},{\"hovertemplate\":\"circuitName=Albert Park Grand Prix Circuit<br>raceYear=%{x}<br>lapSeconds=%{y}<extra></extra>\",\"legendgroup\":\"Albert Park Grand Prix Circuit\",\"line\":{\"color\":\"#EF553B\",\"dash\":\"solid\"},\"marker\":{\"symbol\":\"circle\"},\"mode\":\"lines\",\"name\":\"Albert Park Grand Prix Circuit\",\"orientation\":\"v\",\"showlegend\":true,\"x\":[1996,1997,1998,1999,2000,2001,2002,2003,2004,2005,2006,2007,2008,2009,2010,2011,2012,2013,2014,2015,2016,2017,2018,2019,2022],\"xaxis\":\"x\",\"y\":[99.02105049261083,96.32691902313624,97.9030701262272,102.11266081081082,99.75170567786789,104.91422891566266,107.32121708185053,99.99781688466112,90.80845714285714,90.33247253787879,101.65096170678338,90.39786964129483,98.55718230563002,97.42774527363184,101.07680957562569,95.61877377654663,98.46992911877395,94.95943505338079,100.36624498416052,97.06215504978664,115.6142831858407,91.10588853503185,93.2580576307364,90.42098265895953,92.1359404990403],\"yaxis\":\"y\",\"type\":\"scatter\"},{\"hovertemplate\":\"circuitName=Autodromo Enzo e Dino Ferrari<br>raceYear=%{x}<br>lapSeconds=%{y}<extra></extra>\",\"legendgroup\":\"Autodromo Enzo e Dino Ferrari\",\"line\":{\"color\":\"#00cc96\",\"dash\":\"solid\"},\"marker\":{\"symbol\":\"circle\"},\"mode\":\"lines\",\"name\":\"Autodromo Enzo e Dino Ferrari\",\"orientation\":\"v\",\"showlegend\":true,\"x\":[1996,1997,1998,1999,2000,2001,2002,2003,2004,2005,2006,2020,2021],\"xaxis\":\"x\",\"y\":[93.19064750957855,90.28822408026755,93.97956762749446,93.18925802997859,90.91789700374532,90.2230315270936,88.29334060228452,86.95464791288566,85.24271164510166,86.25724568527919,90.41366928446772,84.14757180851063,117.2083362989324],\"yaxis\":\"y\",\"type\":\"scatter\"},{\"hovertemplate\":\"circuitName=Autodromo Internazionale del Mugello<br>raceYear=%{x}<br>lapSeconds=%{y}<extra></extra>\",\"legendgroup\":\"Autodromo Internazionale del Mugello\",\"line\":{\"color\":\"#ab63fa\",\"dash\":\"solid\"},\"marker\":{\"symbol\":\"circle\"},\"mode\":\"lines\",\"name\":\"Autodromo Internazionale del Mugello\",\"orientation\":\"v\",\"showlegend\":true,\"x\":[2020],\"xaxis\":\"x\",\"y\":[141.40524550128535],\"yaxis\":\"y\",\"type\":\"scatter\"},{\"hovertemplate\":\"circuitName=Autodromo Nazionale di Monza<br>raceYear=%{x}<br>lapSeconds=%{y}<extra></extra>\",\"legendgroup\":\"Autodromo Nazionale di Monza\",\"line\":{\"color\":\"#FFA15A\",\"dash\":\"solid\"},\"marker\":{\"symbol\":\"circle\"},\"mode\":\"lines\",\"name\":\"Autodromo Nazionale di Monza\",\"orientation\":\"v\",\"showlegend\":true,\"x\":[1996,1997,1998,1999,2000,2001,2002,2003,2004,2005,2006,2007,2008,2009,2010,2011,2012,2013,2014,2015,2016,2017,2018,2019,2020,2021],\"xaxis\":\"x\",\"y\":[90.25941626794258,88.59276371308017,90.11974200913242,88.68092108508014,103.04218385650225,89.27442396313364,88.32660542540073,86.47421156211563,86.69060398230089,86.13643732057417,86.42836257309942,90.79626836158192,99.65007403751234,88.04908351893096,88.29886968325792,95.30973903262093,91.49933137089992,89.94915528531338,91.25794926199262,90.37770695187166,90.42914215686275,87.4236073926074,88.63380972972973,87.150301010101,121.092,92.95186951631047],\"yaxis\":\"y\",\"type\":\"scatter\"},{\"hovertemplate\":\"circuitName=Autódromo Hermanos Rodríguez<br>raceYear=%{x}<br>lapSeconds=%{y}<extra></extra>\",\"legendgroup\":\"Autódromo Hermanos Rodríguez\",\"line\":{\"color\":\"#19d3f3\",\"dash\":\"solid\"},\"marker\":{\"symbol\":\"circle\"},\"mode\":\"lines\",\"name\":\"Autódromo Hermanos Rodríguez\",\"orientation\":\"v\",\"showlegend\":true,\"x\":[2015,2016,2017,2018,2019,2021],\"xaxis\":\"x\",\"y\":[87.33540919904837,86.32261189993238,83.24202204081632,85.64042431561997,83.37945182481752,85.12855679110406],\"yaxis\":\"y\",\"type\":\"scatter\"},{\"hovertemplate\":\"circuitName=Autódromo Internacional do Algarve<br>raceYear=%{x}<br>lapSeconds=%{y}<extra></extra>\",\"legendgroup\":\"Autódromo Internacional do Algarve\",\"line\":{\"color\":\"#FF6692\",\"dash\":\"solid\"},\"marker\":{\"symbol\":\"circle\"},\"mode\":\"lines\",\"name\":\"Autódromo Internacional do Algarve\",\"orientation\":\"v\",\"showlegend\":true,\"x\":[2020,2021],\"xaxis\":\"x\",\"y\":[83.51684860248447,87.31556591639871],\"yaxis\":\"y\",\"type\":\"scatter\"},{\"hovertemplate\":\"circuitName=Autódromo José Carlos Pace<br>raceYear=%{x}<br>lapSeconds=%{y}<extra></extra>\",\"legendgroup\":\"Autódromo José Carlos Pace\",\"line\":{\"color\":\"#B6E880\",\"dash\":\"solid\"},\"marker\":{\"symbol\":\"circle\"},\"mode\":\"lines\",\"name\":\"Autódromo José Carlos Pace\",\"orientation\":\"v\",\"showlegend\":true,\"x\":[1996,1997,1998,1999,2000,2001,2002,2003,2004,2005,2006,2007,2008,2009,2010,2011,2012,2013,2014,2015,2016,2017,2018,2019,2021],\"xaxis\":\"x\",\"y\":[96.86848638838475,81.5190484937546,82.93306794425087,82.73911575875486,78.84716016427106,85.57118498659517,80.09768421052631,104.83991377091377,76.01163311688312,78.6392065767285,79.27136274509805,76.8326023890785,80.92480726698263,79.10438504672896,80.87446027895693,79.98784020618557,89.86410537634409,79.55176058292852,77.14511210398051,78.78546194423512,153.65555417956656,78.54167694944302,74.91537253414263,78.58284721216509,79.61181911764706],\"yaxis\":\"y\",\"type\":\"scatter\"},{\"hovertemplate\":\"circuitName=Autódromo Juan y Oscar Gálvez<br>raceYear=%{x}<br>lapSeconds=%{y}<extra></extra>\",\"legendgroup\":\"Autódromo Juan y Oscar Gálvez\",\"line\":{\"color\":\"#FF97FF\",\"dash\":\"solid\"},\"marker\":{\"symbol\":\"circle\"},\"mode\":\"lines\",\"name\":\"Autódromo Juan y Oscar Gálvez\",\"orientation\":\"v\",\"showlegend\":true,\"x\":[1996,1997,1998],\"xaxis\":\"x\",\"y\":[98.44664605734766,95.69204253308128,92.76550349107835],\"yaxis\":\"y\",\"type\":\"scatter\"},{\"hovertemplate\":\"circuitName=Autódromo do Estoril<br>raceYear=%{x}<br>lapSeconds=%{y}<extra></extra>\",\"legendgroup\":\"Autódromo do Estoril\",\"line\":{\"color\":\"#FECB52\",\"dash\":\"solid\"},\"marker\":{\"symbol\":\"circle\"},\"mode\":\"lines\",\"name\":\"Autódromo do Estoril\",\"orientation\":\"v\",\"showlegend\":true,\"x\":[1996],\"xaxis\":\"x\",\"y\":[88.53192990654206],\"yaxis\":\"y\",\"type\":\"scatter\"},{\"hovertemplate\":\"circuitName=Bahrain International Circuit<br>raceYear=%{x}<br>lapSeconds=%{y}<extra></extra>\",\"legendgroup\":\"Bahrain International Circuit\",\"line\":{\"color\":\"#636efa\",\"dash\":\"solid\"},\"marker\":{\"symbol\":\"circle\"},\"mode\":\"lines\",\"name\":\"Bahrain International Circuit\",\"orientation\":\"v\",\"showlegend\":true,\"x\":[2004,2005,2006,2007,2008,2009,2010,2012,2013,2014,2015,2016,2017,2018,2019,2020,2021,2022],\"xaxis\":\"x\",\"y\":[95.38792322274882,96.34662232779097,97.18633909090909,100.55041586073501,97.6013998234775,97.83482488888889,123.99488267543859,101.98955391776572,102.52587147595356,105.86346540880503,102.14304612365063,100.44944710578842,100.05630734463276,98.67689769307924,100.35592691951896,89.22200942285042,100.32285282651073,103.13485930543187],\"yaxis\":\"y\",\"type\":\"scatter\"},{\"hovertemplate\":\"circuitName=Baku City Circuit<br>raceYear=%{x}<br>lapSeconds=%{y}<extra></extra>\",\"legendgroup\":\"Baku City Circuit\",\"line\":{\"color\":\"#EF553B\",\"dash\":\"solid\"},\"marker\":{\"symbol\":\"circle\"},\"mode\":\"lines\",\"name\":\"Baku City Circuit\",\"orientation\":\"v\",\"showlegend\":true,\"x\":[2016,2017,2018,2019,2021],\"xaxis\":\"x\",\"y\":[111.34816147859922,149.32475,121.7172401902497,110.31268743400211,151.57206376195538],\"yaxis\":\"y\",\"type\":\"scatter\"},{\"hovertemplate\":\"circuitName=Buddh International Circuit<br>raceYear=%{x}<br>lapSeconds=%{y}<extra></extra>\",\"legendgroup\":\"Buddh International Circuit\",\"line\":{\"color\":\"#00cc96\",\"dash\":\"solid\"},\"marker\":{\"symbol\":\"circle\"},\"mode\":\"lines\",\"name\":\"Buddh International Circuit\",\"orientation\":\"v\",\"showlegend\":true,\"x\":[2011,2012,2013],\"xaxis\":\"x\",\"y\":[93.23147723440135,92.96806944444445,92.78399500416319],\"yaxis\":\"y\",\"type\":\"scatter\"},{\"hovertemplate\":\"circuitName=Circuit Gilles Villeneuve<br>raceYear=%{x}<br>lapSeconds=%{y}<extra></extra>\",\"legendgroup\":\"Circuit Gilles Villeneuve\",\"line\":{\"color\":\"#ab63fa\",\"dash\":\"solid\"},\"marker\":{\"symbol\":\"circle\"},\"mode\":\"lines\",\"name\":\"Circuit Gilles Villeneuve\",\"orientation\":\"v\",\"showlegend\":true,\"x\":[1996,1997,1998,1999,2000,2001,2002,2003,2004,2005,2006,2007,2008,2010,2011,2012,2013,2014,2015,2016,2017,2018,2019],\"xaxis\":\"x\",\"y\":[85.5621097826087,87.19192462311557,91.2429222972973,89.51600835945665,88.22234752321981,84.1265329153605,81.92665278868814,80.02938734419942,77.72834835355286,81.66407834507042,82.9998807495741,89.09385738255034,83.69695350877193,82.74644152249134,220.45071505376345,80.30494339622642,80.96111849315068,86.27266950596253,80.39610743801653,79.7537359591539,81.12652133105802,79.53820558375635,78.02366946564885],\"yaxis\":\"y\",\"type\":\"scatter\"},{\"hovertemplate\":\"circuitName=Circuit Park Zandvoort<br>raceYear=%{x}<br>lapSeconds=%{y}<extra></extra>\",\"legendgroup\":\"Circuit Park Zandvoort\",\"line\":{\"color\":\"#FFA15A\",\"dash\":\"solid\"},\"marker\":{\"symbol\":\"circle\"},\"mode\":\"lines\",\"name\":\"Circuit Park Zandvoort\",\"orientation\":\"v\",\"showlegend\":true,\"x\":[2021],\"xaxis\":\"x\",\"y\":[77.11578912564292],\"yaxis\":\"y\",\"type\":\"scatter\"},{\"hovertemplate\":\"circuitName=Circuit Paul Ricard<br>raceYear=%{x}<br>lapSeconds=%{y}<extra></extra>\",\"legendgroup\":\"Circuit Paul Ricard\",\"line\":{\"color\":\"#19d3f3\",\"dash\":\"solid\"},\"marker\":{\"symbol\":\"circle\"},\"mode\":\"lines\",\"name\":\"Circuit Paul Ricard\",\"orientation\":\"v\",\"showlegend\":true,\"x\":[2018,2019,2021],\"xaxis\":\"x\",\"y\":[103.98457267759564,97.77185907335907,100.61595908658421],\"yaxis\":\"y\",\"type\":\"scatter\"},{\"hovertemplate\":\"circuitName=Circuit de Barcelona-Catalunya<br>raceYear=%{x}<br>lapSeconds=%{y}<extra></extra>\",\"legendgroup\":\"Circuit de Barcelona-Catalunya\",\"line\":{\"color\":\"#FF6692\",\"dash\":\"solid\"},\"marker\":{\"symbol\":\"circle\"},\"mode\":\"lines\",\"name\":\"Circuit de Barcelona-Catalunya\",\"orientation\":\"v\",\"showlegend\":true,\"x\":[1996,1997,1998,1999,2000,2001,2002,2003,2004,2005,2006,2007,2008,2009,2010,2011,2012,2013,2014,2015,2016,2017,2018,2019,2020,2021],\"xaxis\":\"x\",\"y\":[113.18983724832214,86.33124285714285,88.61777480586713,88.87599281867145,88.30734625550662,85.84119655172414,85.20083023001095,89.37564994547438,81.29419349005424,81.75306625891947,80.71033651551312,86.26306896551723,91.0467624750499,89.87892675159235,89.30626666666666,92.74942052313884,91.80358646063281,91.92591761148904,93.87615503306392,94.36614251207729,93.99002998379254,89.56600631768953,89.23264173228347,87.55753924646781,85.3050070643642,86.32577929373997],\"yaxis\":\"y\",\"type\":\"scatter\"},{\"hovertemplate\":\"circuitName=Circuit de Monaco<br>raceYear=%{x}<br>lapSeconds=%{y}<extra></extra>\",\"legendgroup\":\"Circuit de Monaco\",\"line\":{\"color\":\"#B6E880\",\"dash\":\"solid\"},\"marker\":{\"symbol\":\"circle\"},\"mode\":\"lines\",\"name\":\"Circuit de Monaco\",\"orientation\":\"v\",\"showlegend\":true,\"x\":[1996,1997,1998,1999,2000,2001,2002,2003,2004,2005,2006,2007,2008,2009,2010,2011,2012,2013,2014,2015,2016,2017,2018,2019,2021],\"xaxis\":\"x\",\"y\":[99.7960895140665,119.60146692607003,87.4789940526763,86.06088057040999,85.51105443371378,85.2173831858407,83.42929637841833,80.48447304347826,85.5159226519337,82.58650537634409,81.07902310654686,79.11962926509186,96.77289366692729,78.43249882537197,85.80872845763939,99.20354301745637,82.5768284923928,106.2091097804391,86.1130328125,84.53203079076278,95.72884008843036,80.75166831683168,79.8577495042961,80.58734654130288,77.45793159379407],\"yaxis\":\"y\",\"type\":\"scatter\"},{\"hovertemplate\":\"circuitName=Circuit de Nevers Magny-Cours<br>raceYear=%{x}<br>lapSeconds=%{y}<extra></extra>\",\"legendgroup\":\"Circuit de Nevers Magny-Cours\",\"line\":{\"color\":\"#FF97FF\",\"dash\":\"solid\"},\"marker\":{\"symbol\":\"circle\"},\"mode\":\"lines\",\"name\":\"Circuit de Nevers Magny-Cours\",\"orientation\":\"v\",\"showlegend\":true,\"x\":[1996,1997,1998,1999,2000,2001,2002,2003,2004,2005,2006,2007,2008],\"xaxis\":\"x\",\"y\":[82.34786292548297,83.83860741364785,82.26404522246536,98.49607235621522,83.37503777949114,79.6437156862745,78.46307358490567,79.64201757188498,78.91417906976744,80.94598979591836,80.7102971295578,79.23736205533598,79.68393134328358],\"yaxis\":\"y\",\"type\":\"scatter\"},{\"hovertemplate\":\"circuitName=Circuit de Spa-Francorchamps<br>raceYear=%{x}<br>lapSeconds=%{y}<extra></extra>\",\"legendgroup\":\"Circuit de Spa-Francorchamps\",\"line\":{\"color\":\"#FECB52\",\"dash\":\"solid\"},\"marker\":{\"symbol\":\"circle\"},\"mode\":\"lines\",\"name\":\"Circuit de Spa-Francorchamps\",\"orientation\":\"v\",\"showlegend\":true,\"x\":[1996,1997,1998,1999,2000,2001,2002,2004,2005,2007,2008,2009,2010,2011,2012,2013,2014,2015,2016,2017,2018,2019,2020,2021],\"xaxis\":\"x\",\"y\":[122.68993333333334,132.2196422250316,145.07664239828694,119.18042991755006,123.42478502415459,116.57086470588236,112.63164256480219,126.99763295269167,126.14769726027397,112.44835058823529,114.5059312039312,115.55262745098041,122.91642608695652,120.52880518018017,124.00440853658537,116.21028764044944,117.31494172494173,119.29594565217393,144.2890939153439,116.33654358974358,116.91171594202899,116.42512117346939,115.83679112271541,225.82395000000002],\"yaxis\":\"y\",\"type\":\"scatter\"},{\"hovertemplate\":\"circuitName=Circuit of the Americas<br>raceYear=%{x}<br>lapSeconds=%{y}<extra></extra>\",\"legendgroup\":\"Circuit of the Americas\",\"line\":{\"color\":\"#636efa\",\"dash\":\"solid\"},\"marker\":{\"symbol\":\"circle\"},\"mode\":\"lines\",\"name\":\"Circuit of the Americas\",\"orientation\":\"v\",\"showlegend\":true,\"x\":[2012,2013,2014,2015,2016,2017,2018,2019,2021],\"xaxis\":\"x\",\"y\":[104.8418456,107.87642991452991,108.86456807511736,120.26210513739545,107.48171150278293,102.3140332261522,102.93562620837808,102.68034757281553,103.73756417624521],\"yaxis\":\"y\",\"type\":\"scatter\"},{\"hovertemplate\":\"circuitName=Circuito de Jerez<br>raceYear=%{x}<br>lapSeconds=%{y}<extra></extra>\",\"legendgroup\":\"Circuito de Jerez\",\"line\":{\"color\":\"#EF553B\",\"dash\":\"solid\"},\"marker\":{\"symbol\":\"circle\"},\"mode\":\"lines\",\"name\":\"Circuito de Jerez\",\"orientation\":\"v\",\"showlegend\":true,\"x\":[1997],\"xaxis\":\"x\",\"y\":[87.07214646840148],\"yaxis\":\"y\",\"type\":\"scatter\"},{\"hovertemplate\":\"circuitName=Fuji Speedway<br>raceYear=%{x}<br>lapSeconds=%{y}<extra></extra>\",\"legendgroup\":\"Fuji Speedway\",\"line\":{\"color\":\"#00cc96\",\"dash\":\"solid\"},\"marker\":{\"symbol\":\"circle\"},\"mode\":\"lines\",\"name\":\"Fuji Speedway\",\"orientation\":\"v\",\"showlegend\":true,\"x\":[2007,2008],\"xaxis\":\"x\",\"y\":[111.06622188217291,81.80843399810067],\"yaxis\":\"y\",\"type\":\"scatter\"},{\"hovertemplate\":\"circuitName=Hockenheimring<br>raceYear=%{x}<br>lapSeconds=%{y}<extra></extra>\",\"legendgroup\":\"Hockenheimring\",\"line\":{\"color\":\"#ab63fa\",\"dash\":\"solid\"},\"marker\":{\"symbol\":\"circle\"},\"mode\":\"lines\",\"name\":\"Hockenheimring\",\"orientation\":\"v\",\"showlegend\":true,\"x\":[1996,1997,1998,1999,2000,2001,2002,2003,2004,2005,2006,2008,2010,2012,2014,2016,2018,2019],\"xaxis\":\"x\",\"y\":[111.43056268221574,109.98496030534352,109.46043214285714,110.62574027993779,114.23545790816327,106.36978658536586,80.84447774480712,82.7039510807736,77.84347088186355,79.92406901960784,79.95409458218549,82.4396207442597,80.80617366136035,83.03870379746836,85.53587099236641,82.80056073446328,83.21108000000001,98.44984155597723],\"yaxis\":\"y\",\"type\":\"scatter\"},{\"hovertemplate\":\"circuitName=Hungaroring<br>raceYear=%{x}<br>lapSeconds=%{y}<extra></extra>\",\"legendgroup\":\"Hungaroring\",\"line\":{\"color\":\"#FFA15A\",\"dash\":\"solid\"},\"marker\":{\"symbol\":\"circle\"},\"mode\":\"lines\",\"name\":\"Hungaroring\",\"orientation\":\"v\",\"showlegend\":true,\"x\":[1996,1997,1998,1999,2000,2001,2002,2003,2004,2005,2006,2007,2008,2009,2010,2011,2012,2013,2014,2015,2016,2017,2018,2019,2020,2021],\"xaxis\":\"x\",\"y\":[84.92079149797571,83.3735034695451,84.19928270676692,84.41507270233197,84.59269966101695,82.34548468606431,80.7420674074074,86.82913734290844,84.10786751054853,86.57621522309711,99.24184244080146,83.61428884026259,84.88371021021021,85.34585456110155,89.08987599709934,94.75508797850907,89.43571992597163,89.55049067431851,98.85557259380099,93.50993267023719,87.8485612177366,87.07852509960159,85.05430162601625,83.52930854197349,84.21076940467219,109.6084240570846],\"yaxis\":\"y\",\"type\":\"scatter\"},{\"hovertemplate\":\"circuitName=Indianapolis Motor Speedway<br>raceYear=%{x}<br>lapSeconds=%{y}<extra></extra>\",\"legendgroup\":\"Indianapolis Motor Speedway\",\"line\":{\"color\":\"#19d3f3\",\"dash\":\"solid\"},\"marker\":{\"symbol\":\"circle\"},\"mode\":\"lines\",\"name\":\"Indianapolis Motor Speedway\",\"orientation\":\"v\",\"showlegend\":true,\"x\":[2000,2001,2002,2003,2004,2005,2006,2007],\"xaxis\":\"x\",\"y\":[81.01495176848876,77.60637688821751,76.29301977186311,79.48183923705723,86.0337037037037,75.1223587962963,79.69113350125944,76.22001708074534],\"yaxis\":\"y\",\"type\":\"scatter\"},{\"hovertemplate\":\"circuitName=Istanbul Park<br>raceYear=%{x}<br>lapSeconds=%{y}<extra></extra>\",\"legendgroup\":\"Istanbul Park\",\"line\":{\"color\":\"#FF6692\",\"dash\":\"solid\"},\"marker\":{\"symbol\":\"circle\"},\"mode\":\"lines\",\"name\":\"Istanbul Park\",\"orientation\":\"v\",\"showlegend\":true,\"x\":[2005,2006,2007,2008,2009,2010,2011,2020,2021],\"xaxis\":\"x\",\"y\":[91.74470935960592,95.02745337301587,91.44012458745874,91.20118027888446,90.47384587155963,93.88503016241299,95.40036559139784,108.18039219330855,95.8415571054926],\"yaxis\":\"y\",\"type\":\"scatter\"},{\"hovertemplate\":\"circuitName=Jeddah Corniche Circuit<br>raceYear=%{x}<br>lapSeconds=%{y}<extra></extra>\",\"legendgroup\":\"Jeddah Corniche Circuit\",\"line\":{\"color\":\"#B6E880\",\"dash\":\"solid\"},\"marker\":{\"symbol\":\"circle\"},\"mode\":\"lines\",\"name\":\"Jeddah Corniche Circuit\",\"orientation\":\"v\",\"showlegend\":true,\"x\":[2021,2022],\"xaxis\":\"x\",\"y\":[154.924338882283,102.40499632352942],\"yaxis\":\"y\",\"type\":\"scatter\"},{\"hovertemplate\":\"circuitName=Korean International Circuit<br>raceYear=%{x}<br>lapSeconds=%{y}<extra></extra>\",\"legendgroup\":\"Korean International Circuit\",\"line\":{\"color\":\"#FF97FF\",\"dash\":\"solid\"},\"marker\":{\"symbol\":\"circle\"},\"mode\":\"lines\",\"name\":\"Korean International Circuit\",\"orientation\":\"v\",\"showlegend\":true,\"x\":[2010,2011,2012,2013],\"xaxis\":\"x\",\"y\":[198.82632452142207,108.89322904564314,107.17592539964477,113.40279565217391],\"yaxis\":\"y\",\"type\":\"scatter\"},{\"hovertemplate\":\"circuitName=Losail International Circuit<br>raceYear=%{x}<br>lapSeconds=%{y}<extra></extra>\",\"legendgroup\":\"Losail International Circuit\",\"line\":{\"color\":\"#FECB52\",\"dash\":\"solid\"},\"marker\":{\"symbol\":\"circle\"},\"mode\":\"lines\",\"name\":\"Losail International Circuit\",\"orientation\":\"v\",\"showlegend\":true,\"x\":[2021],\"xaxis\":\"x\",\"y\":[90.76527158273382],\"yaxis\":\"y\",\"type\":\"scatter\"},{\"hovertemplate\":\"circuitName=Marina Bay Street Circuit<br>raceYear=%{x}<br>lapSeconds=%{y}<extra></extra>\",\"legendgroup\":\"Marina Bay Street Circuit\",\"line\":{\"color\":\"#636efa\",\"dash\":\"solid\"},\"marker\":{\"symbol\":\"circle\"},\"mode\":\"lines\",\"name\":\"Marina Bay Street Circuit\",\"orientation\":\"v\",\"showlegend\":true,\"x\":[2008,2009,2010,2011,2012,2013,2014,2015,2016,2017,2018,2019],\"xaxis\":\"x\",\"y\":[115.77510131332083,115.52051734104047,118.74638921161826,120.60050561797752,123.57073359374999,118.79922160883281,121.15202892199824,121.01776029962546,116.02570951156812,130.15912071005917,111.64222008733624,116.80992685025818],\"yaxis\":\"y\",\"type\":\"scatter\"},{\"hovertemplate\":\"circuitName=Nürburgring<br>raceYear=%{x}<br>lapSeconds=%{y}<extra></extra>\",\"legendgroup\":\"Nürburgring\",\"line\":{\"color\":\"#EF553B\",\"dash\":\"solid\"},\"marker\":{\"symbol\":\"circle\"},\"mode\":\"lines\",\"name\":\"Nürburgring\",\"orientation\":\"v\",\"showlegend\":true,\"x\":[1996,1997,1998,1999,2000,2001,2002,2003,2004,2005,2006,2007,2009,2011,2013,2020],\"xaxis\":\"x\",\"y\":[85.18672850678733,82.77753448275861,85.12282254196643,94.5776491053678,93.6197531340405,81.97189641434262,97.64816109682947,96.9464405529954,94.67268388429751,95.02527121771217,97.86832942326491,133.6667534562212,97.7466905393457,100.23972191673212,102.19211505922166,96.28174041297935],\"yaxis\":\"y\",\"type\":\"scatter\"},{\"hovertemplate\":\"circuitName=Red Bull Ring<br>raceYear=%{x}<br>lapSeconds=%{y}<extra></extra>\",\"legendgroup\":\"Red Bull Ring\",\"line\":{\"color\":\"#00cc96\",\"dash\":\"solid\"},\"marker\":{\"symbol\":\"circle\"},\"mode\":\"lines\",\"name\":\"Red Bull Ring\",\"orientation\":\"v\",\"showlegend\":true,\"x\":[2014,2015,2016,2017,2018,2019,2020,2021],\"xaxis\":\"x\",\"y\":[75.59987749483827,78.20728342749528,74.94618290960452,70.44501169590643,70.74509523809523,70.58727123483227,73.85570836855452,71.6350075987842],\"yaxis\":\"y\",\"type\":\"scatter\"},{\"hovertemplate\":\"circuitName=Sepang International Circuit<br>raceYear=%{x}<br>lapSeconds=%{y}<extra></extra>\",\"legendgroup\":\"Sepang International Circuit\",\"line\":{\"color\":\"#ab63fa\",\"dash\":\"solid\"},\"marker\":{\"symbol\":\"circle\"},\"mode\":\"lines\",\"name\":\"Sepang International Circuit\",\"orientation\":\"v\",\"showlegend\":true,\"x\":[1999,2000,2001,2002,2003,2004,2005,2006,2007,2008,2009,2010,2011,2012,2013,2014,2015,2016,2017],\"xaxis\":\"x\",\"y\":[105.80688676844784,104.91729508196721,120.45020547945205,104.5122345276873,101.99890070921987,100.01554391217564,100.23981859931114,100.34858403361345,100.57328847926267,99.58600392541709,109.76315703971119,104.0261171950048,106.8446719858156,179.39937637795273,108.08201285583104,110.0750418367347,110.6299161358811,105.91861442307692,98.4763115234375],\"yaxis\":\"y\",\"type\":\"scatter\"},{\"hovertemplate\":\"circuitName=Shanghai International Circuit<br>raceYear=%{x}<br>lapSeconds=%{y}<extra></extra>\",\"legendgroup\":\"Shanghai International Circuit\",\"line\":{\"color\":\"#FFA15A\",\"dash\":\"solid\"},\"marker\":{\"symbol\":\"circle\"},\"mode\":\"lines\",\"name\":\"Shanghai International Circuit\",\"orientation\":\"v\",\"showlegend\":true,\"x\":[2004,2005,2006,2007,2008,2009,2010,2011,2012,2013,2014,2015,2016,2017,2018,2019],\"xaxis\":\"x\",\"y\":[97.47970734126984,108.57236847389558,107.41217422222222,107.36881519699813,99.83140967423493,128.68507917888564,118.1094467005076,105.6592507788162,104.8096096049574,104.69033746425167,105.91076403508771,107.99315316205534,107.72079067865904,107.36767552602436,103.1779802690583,100.89712045889102],\"yaxis\":\"y\",\"type\":\"scatter\"},{\"hovertemplate\":\"circuitName=Silverstone Circuit<br>raceYear=%{x}<br>lapSeconds=%{y}<extra></extra>\",\"legendgroup\":\"Silverstone Circuit\",\"line\":{\"color\":\"#19d3f3\",\"dash\":\"solid\"},\"marker\":{\"symbol\":\"circle\"},\"mode\":\"lines\",\"name\":\"Silverstone Circuit\",\"orientation\":\"v\",\"showlegend\":true,\"x\":[1996,1997,1998,1999,2000,2001,2002,2003,2004,2005,2006,2007,2008,2009,2010,2011,2012,2013,2014,2015,2016,2017,2018,2019,2020,2021],\"xaxis\":\"x\",\"y\":[93.65872517321017,91.1786669921875,108.2350385818561,94.03067260787992,90.44892557741659,88.0001361788618,94.55716052060738,90.05514385964912,85.76557287822878,86.65992850838481,87.87731441860466,85.53603333333334,100.90551908396947,84.31745811518324,99.3513521624007,104.95672372093024,99.80807019143117,107.80583588818756,180.68168260869564,108.00161165048543,113.4897731958763,97.78081439820022,101.2081258351893,95.10102738225629,97.61396614583333,138.94717750258],\"yaxis\":\"y\",\"type\":\"scatter\"},{\"hovertemplate\":\"circuitName=Sochi Autodrom<br>raceYear=%{x}<br>lapSeconds=%{y}<extra></extra>\",\"legendgroup\":\"Sochi Autodrom\",\"line\":{\"color\":\"#FF6692\",\"dash\":\"solid\"},\"marker\":{\"symbol\":\"circle\"},\"mode\":\"lines\",\"name\":\"Sochi Autodrom\",\"orientation\":\"v\",\"showlegend\":true,\"x\":[2014,2015,2016,2017,2018,2019,2020,2021],\"xaxis\":\"x\",\"y\":[105.79680097087379,111.65881014150943,107.19569886947585,103.80556400966184,101.25453375527425,107.04369111111112,108.12807505285413,104.6734780487805],\"yaxis\":\"y\",\"type\":\"scatter\"},{\"hovertemplate\":\"circuitName=Suzuka Circuit<br>raceYear=%{x}<br>lapSeconds=%{y}<extra></extra>\",\"legendgroup\":\"Suzuka Circuit\",\"line\":{\"color\":\"#B6E880\",\"dash\":\"solid\"},\"marker\":{\"symbol\":\"circle\"},\"mode\":\"lines\",\"name\":\"Suzuka Circuit\",\"orientation\":\"v\",\"showlegend\":true,\"x\":[1996,1997,1998,1999,2000,2001,2002,2003,2004,2005,2006,2009,2010,2011,2012,2013,2014,2015,2016,2017,2018,2019],\"xaxis\":\"x\",\"y\":[108.71301593137254,103.35360220994474,105.13819801980199,106.19198056155508,104.52016302186878,101.90090119760478,100.95398646820027,98.20653031973539,97.77303798767967,103.22744554455446,97.06221722846442,100.34766911764706,104.80870215053763,104.48939803439802,102.52497334558824,100.0045805168986,155.86839273927393,101.99142802303263,99.93042943722944,100.7071278280543,100.93849487704918,96.64184888438133],\"yaxis\":\"y\",\"type\":\"scatter\"},{\"hovertemplate\":\"circuitName=Valencia Street Circuit<br>raceYear=%{x}<br>lapSeconds=%{y}<extra></extra>\",\"legendgroup\":\"Valencia Street Circuit\",\"line\":{\"color\":\"#FF97FF\",\"dash\":\"solid\"},\"marker\":{\"symbol\":\"circle\"},\"mode\":\"lines\",\"name\":\"Valencia Street Circuit\",\"orientation\":\"v\",\"showlegend\":true,\"x\":[2008,2009,2010,2011,2012],\"xaxis\":\"x\",\"y\":[102.13072640610105,102.15167741935484,107.43316067146283,107.5043454951601,110.76168181818183],\"yaxis\":\"y\",\"type\":\"scatter\"},{\"hovertemplate\":\"circuitName=Yas Marina Circuit<br>raceYear=%{x}<br>lapSeconds=%{y}<extra></extra>\",\"legendgroup\":\"Yas Marina Circuit\",\"line\":{\"color\":\"#FECB52\",\"dash\":\"solid\"},\"marker\":{\"symbol\":\"circle\"},\"mode\":\"lines\",\"name\":\"Yas Marina Circuit\",\"orientation\":\"v\",\"showlegend\":true,\"x\":[2009,2010,2011,2012,2013,2014,2015,2016,2017,2018,2019,2020,2021],\"xaxis\":\"x\",\"y\":[103.6230887804878,110.50640690817187,108.61513651877134,116.40374515235456,108.93790917030567,109.71498616600792,109.68411519845112,108.47996230158729,104.87302521823473,111.00637206823028,105.01002697674419,107.03939693192713,93.91929258517034],\"yaxis\":\"y\",\"type\":\"scatter\"}],                        {\"template\":{\"data\":{\"bar\":[{\"error_x\":{\"color\":\"#2a3f5f\"},\"error_y\":{\"color\":\"#2a3f5f\"},\"marker\":{\"line\":{\"color\":\"#E5ECF6\",\"width\":0.5},\"pattern\":{\"fillmode\":\"overlay\",\"size\":10,\"solidity\":0.2}},\"type\":\"bar\"}],\"barpolar\":[{\"marker\":{\"line\":{\"color\":\"#E5ECF6\",\"width\":0.5},\"pattern\":{\"fillmode\":\"overlay\",\"size\":10,\"solidity\":0.2}},\"type\":\"barpolar\"}],\"carpet\":[{\"aaxis\":{\"endlinecolor\":\"#2a3f5f\",\"gridcolor\":\"white\",\"linecolor\":\"white\",\"minorgridcolor\":\"white\",\"startlinecolor\":\"#2a3f5f\"},\"baxis\":{\"endlinecolor\":\"#2a3f5f\",\"gridcolor\":\"white\",\"linecolor\":\"white\",\"minorgridcolor\":\"white\",\"startlinecolor\":\"#2a3f5f\"},\"type\":\"carpet\"}],\"choropleth\":[{\"colorbar\":{\"outlinewidth\":0,\"ticks\":\"\"},\"type\":\"choropleth\"}],\"contour\":[{\"colorbar\":{\"outlinewidth\":0,\"ticks\":\"\"},\"colorscale\":[[0.0,\"#0d0887\"],[0.1111111111111111,\"#46039f\"],[0.2222222222222222,\"#7201a8\"],[0.3333333333333333,\"#9c179e\"],[0.4444444444444444,\"#bd3786\"],[0.5555555555555556,\"#d8576b\"],[0.6666666666666666,\"#ed7953\"],[0.7777777777777778,\"#fb9f3a\"],[0.8888888888888888,\"#fdca26\"],[1.0,\"#f0f921\"]],\"type\":\"contour\"}],\"contourcarpet\":[{\"colorbar\":{\"outlinewidth\":0,\"ticks\":\"\"},\"type\":\"contourcarpet\"}],\"heatmap\":[{\"colorbar\":{\"outlinewidth\":0,\"ticks\":\"\"},\"colorscale\":[[0.0,\"#0d0887\"],[0.1111111111111111,\"#46039f\"],[0.2222222222222222,\"#7201a8\"],[0.3333333333333333,\"#9c179e\"],[0.4444444444444444,\"#bd3786\"],[0.5555555555555556,\"#d8576b\"],[0.6666666666666666,\"#ed7953\"],[0.7777777777777778,\"#fb9f3a\"],[0.8888888888888888,\"#fdca26\"],[1.0,\"#f0f921\"]],\"type\":\"heatmap\"}],\"heatmapgl\":[{\"colorbar\":{\"outlinewidth\":0,\"ticks\":\"\"},\"colorscale\":[[0.0,\"#0d0887\"],[0.1111111111111111,\"#46039f\"],[0.2222222222222222,\"#7201a8\"],[0.3333333333333333,\"#9c179e\"],[0.4444444444444444,\"#bd3786\"],[0.5555555555555556,\"#d8576b\"],[0.6666666666666666,\"#ed7953\"],[0.7777777777777778,\"#fb9f3a\"],[0.8888888888888888,\"#fdca26\"],[1.0,\"#f0f921\"]],\"type\":\"heatmapgl\"}],\"histogram\":[{\"marker\":{\"pattern\":{\"fillmode\":\"overlay\",\"size\":10,\"solidity\":0.2}},\"type\":\"histogram\"}],\"histogram2d\":[{\"colorbar\":{\"outlinewidth\":0,\"ticks\":\"\"},\"colorscale\":[[0.0,\"#0d0887\"],[0.1111111111111111,\"#46039f\"],[0.2222222222222222,\"#7201a8\"],[0.3333333333333333,\"#9c179e\"],[0.4444444444444444,\"#bd3786\"],[0.5555555555555556,\"#d8576b\"],[0.6666666666666666,\"#ed7953\"],[0.7777777777777778,\"#fb9f3a\"],[0.8888888888888888,\"#fdca26\"],[1.0,\"#f0f921\"]],\"type\":\"histogram2d\"}],\"histogram2dcontour\":[{\"colorbar\":{\"outlinewidth\":0,\"ticks\":\"\"},\"colorscale\":[[0.0,\"#0d0887\"],[0.1111111111111111,\"#46039f\"],[0.2222222222222222,\"#7201a8\"],[0.3333333333333333,\"#9c179e\"],[0.4444444444444444,\"#bd3786\"],[0.5555555555555556,\"#d8576b\"],[0.6666666666666666,\"#ed7953\"],[0.7777777777777778,\"#fb9f3a\"],[0.8888888888888888,\"#fdca26\"],[1.0,\"#f0f921\"]],\"type\":\"histogram2dcontour\"}],\"mesh3d\":[{\"colorbar\":{\"outlinewidth\":0,\"ticks\":\"\"},\"type\":\"mesh3d\"}],\"parcoords\":[{\"line\":{\"colorbar\":{\"outlinewidth\":0,\"ticks\":\"\"}},\"type\":\"parcoords\"}],\"pie\":[{\"automargin\":true,\"type\":\"pie\"}],\"scatter\":[{\"marker\":{\"colorbar\":{\"outlinewidth\":0,\"ticks\":\"\"}},\"type\":\"scatter\"}],\"scatter3d\":[{\"line\":{\"colorbar\":{\"outlinewidth\":0,\"ticks\":\"\"}},\"marker\":{\"colorbar\":{\"outlinewidth\":0,\"ticks\":\"\"}},\"type\":\"scatter3d\"}],\"scattercarpet\":[{\"marker\":{\"colorbar\":{\"outlinewidth\":0,\"ticks\":\"\"}},\"type\":\"scattercarpet\"}],\"scattergeo\":[{\"marker\":{\"colorbar\":{\"outlinewidth\":0,\"ticks\":\"\"}},\"type\":\"scattergeo\"}],\"scattergl\":[{\"marker\":{\"colorbar\":{\"outlinewidth\":0,\"ticks\":\"\"}},\"type\":\"scattergl\"}],\"scattermapbox\":[{\"marker\":{\"colorbar\":{\"outlinewidth\":0,\"ticks\":\"\"}},\"type\":\"scattermapbox\"}],\"scatterpolar\":[{\"marker\":{\"colorbar\":{\"outlinewidth\":0,\"ticks\":\"\"}},\"type\":\"scatterpolar\"}],\"scatterpolargl\":[{\"marker\":{\"colorbar\":{\"outlinewidth\":0,\"ticks\":\"\"}},\"type\":\"scatterpolargl\"}],\"scatterternary\":[{\"marker\":{\"colorbar\":{\"outlinewidth\":0,\"ticks\":\"\"}},\"type\":\"scatterternary\"}],\"surface\":[{\"colorbar\":{\"outlinewidth\":0,\"ticks\":\"\"},\"colorscale\":[[0.0,\"#0d0887\"],[0.1111111111111111,\"#46039f\"],[0.2222222222222222,\"#7201a8\"],[0.3333333333333333,\"#9c179e\"],[0.4444444444444444,\"#bd3786\"],[0.5555555555555556,\"#d8576b\"],[0.6666666666666666,\"#ed7953\"],[0.7777777777777778,\"#fb9f3a\"],[0.8888888888888888,\"#fdca26\"],[1.0,\"#f0f921\"]],\"type\":\"surface\"}],\"table\":[{\"cells\":{\"fill\":{\"color\":\"#EBF0F8\"},\"line\":{\"color\":\"white\"}},\"header\":{\"fill\":{\"color\":\"#C8D4E3\"},\"line\":{\"color\":\"white\"}},\"type\":\"table\"}]},\"layout\":{\"annotationdefaults\":{\"arrowcolor\":\"#2a3f5f\",\"arrowhead\":0,\"arrowwidth\":1},\"autotypenumbers\":\"strict\",\"coloraxis\":{\"colorbar\":{\"outlinewidth\":0,\"ticks\":\"\"}},\"colorscale\":{\"diverging\":[[0,\"#8e0152\"],[0.1,\"#c51b7d\"],[0.2,\"#de77ae\"],[0.3,\"#f1b6da\"],[0.4,\"#fde0ef\"],[0.5,\"#f7f7f7\"],[0.6,\"#e6f5d0\"],[0.7,\"#b8e186\"],[0.8,\"#7fbc41\"],[0.9,\"#4d9221\"],[1,\"#276419\"]],\"sequential\":[[0.0,\"#0d0887\"],[0.1111111111111111,\"#46039f\"],[0.2222222222222222,\"#7201a8\"],[0.3333333333333333,\"#9c179e\"],[0.4444444444444444,\"#bd3786\"],[0.5555555555555556,\"#d8576b\"],[0.6666666666666666,\"#ed7953\"],[0.7777777777777778,\"#fb9f3a\"],[0.8888888888888888,\"#fdca26\"],[1.0,\"#f0f921\"]],\"sequentialminus\":[[0.0,\"#0d0887\"],[0.1111111111111111,\"#46039f\"],[0.2222222222222222,\"#7201a8\"],[0.3333333333333333,\"#9c179e\"],[0.4444444444444444,\"#bd3786\"],[0.5555555555555556,\"#d8576b\"],[0.6666666666666666,\"#ed7953\"],[0.7777777777777778,\"#fb9f3a\"],[0.8888888888888888,\"#fdca26\"],[1.0,\"#f0f921\"]]},\"colorway\":[\"#636efa\",\"#EF553B\",\"#00cc96\",\"#ab63fa\",\"#FFA15A\",\"#19d3f3\",\"#FF6692\",\"#B6E880\",\"#FF97FF\",\"#FECB52\"],\"font\":{\"color\":\"#2a3f5f\"},\"geo\":{\"bgcolor\":\"white\",\"lakecolor\":\"white\",\"landcolor\":\"#E5ECF6\",\"showlakes\":true,\"showland\":true,\"subunitcolor\":\"white\"},\"hoverlabel\":{\"align\":\"left\"},\"hovermode\":\"closest\",\"mapbox\":{\"style\":\"light\"},\"paper_bgcolor\":\"white\",\"plot_bgcolor\":\"#E5ECF6\",\"polar\":{\"angularaxis\":{\"gridcolor\":\"white\",\"linecolor\":\"white\",\"ticks\":\"\"},\"bgcolor\":\"#E5ECF6\",\"radialaxis\":{\"gridcolor\":\"white\",\"linecolor\":\"white\",\"ticks\":\"\"}},\"scene\":{\"xaxis\":{\"backgroundcolor\":\"#E5ECF6\",\"gridcolor\":\"white\",\"gridwidth\":2,\"linecolor\":\"white\",\"showbackground\":true,\"ticks\":\"\",\"zerolinecolor\":\"white\"},\"yaxis\":{\"backgroundcolor\":\"#E5ECF6\",\"gridcolor\":\"white\",\"gridwidth\":2,\"linecolor\":\"white\",\"showbackground\":true,\"ticks\":\"\",\"zerolinecolor\":\"white\"},\"zaxis\":{\"backgroundcolor\":\"#E5ECF6\",\"gridcolor\":\"white\",\"gridwidth\":2,\"linecolor\":\"white\",\"showbackground\":true,\"ticks\":\"\",\"zerolinecolor\":\"white\"}},\"shapedefaults\":{\"line\":{\"color\":\"#2a3f5f\"}},\"ternary\":{\"aaxis\":{\"gridcolor\":\"white\",\"linecolor\":\"white\",\"ticks\":\"\"},\"baxis\":{\"gridcolor\":\"white\",\"linecolor\":\"white\",\"ticks\":\"\"},\"bgcolor\":\"#E5ECF6\",\"caxis\":{\"gridcolor\":\"white\",\"linecolor\":\"white\",\"ticks\":\"\"}},\"title\":{\"x\":0.05},\"xaxis\":{\"automargin\":true,\"gridcolor\":\"white\",\"linecolor\":\"white\",\"ticks\":\"\",\"title\":{\"standoff\":15},\"zerolinecolor\":\"white\",\"zerolinewidth\":2},\"yaxis\":{\"automargin\":true,\"gridcolor\":\"white\",\"linecolor\":\"white\",\"ticks\":\"\",\"title\":{\"standoff\":15},\"zerolinecolor\":\"white\",\"zerolinewidth\":2}}},\"xaxis\":{\"anchor\":\"y\",\"domain\":[0.0,1.0],\"title\":{\"text\":\"raceYear\"}},\"yaxis\":{\"anchor\":\"x\",\"domain\":[0.0,1.0],\"title\":{\"text\":\"lapSeconds\"}},\"legend\":{\"title\":{\"text\":\"circuitName\"},\"tracegroupgap\":0},\"margin\":{\"t\":60},\"title\":{\"text\":\"Average Lap Times Over Time by Circuit\"}},                        {\"responsive\": true}                    ).then(function(){\n",
       "                            \n",
       "var gd = document.getElementById('f6046a87-38c6-40ae-bd97-d46af69b55b5');\n",
       "var x = new MutationObserver(function (mutations, observer) {{\n",
       "        var display = window.getComputedStyle(gd).display;\n",
       "        if (!display || display === 'none') {{\n",
       "            console.log([gd, 'removed!']);\n",
       "            Plotly.purge(gd);\n",
       "            observer.disconnect();\n",
       "        }}\n",
       "}});\n",
       "\n",
       "// Listen for the removal of the full notebook cells\n",
       "var notebookContainer = gd.closest('#notebook-container');\n",
       "if (notebookContainer) {{\n",
       "    x.observe(notebookContainer, {childList: true});\n",
       "}}\n",
       "\n",
       "// Listen for the clearing of the current output cell\n",
       "var outputEl = gd.closest('.output');\n",
       "if (outputEl) {{\n",
       "    x.observe(outputEl, {childList: true});\n",
       "}}\n",
       "\n",
       "                        })                };                });            </script>        </div>"
      ]
     },
     "metadata": {},
     "output_type": "display_data"
    }
   ],
   "source": [
    "fig = px.line(lapTimesAnalysis.groupby(by=['circuitName','raceYear',]).mean().reset_index(),\n",
    "                 x='raceYear',\n",
    "                 y='lapSeconds',\n",
    "                 color='circuitName',\n",
    "                )\n",
    "fig.update_layout(\n",
    "    title_text='Average Lap Times Over Time by Circuit',\n",
    ")\n",
    "fig.show()"
   ]
  },
  {
   "cell_type": "markdown",
   "id": "f35670ad",
   "metadata": {
    "papermill": {
     "duration": 0.025166,
     "end_time": "2022-04-15T21:53:27.143929",
     "exception": false,
     "start_time": "2022-04-15T21:53:27.118763",
     "status": "completed"
    },
    "tags": []
   },
   "source": [
    "## Where in the race can we expect to see the fastest lap in a race?"
   ]
  },
  {
   "cell_type": "code",
   "execution_count": 13,
   "id": "e77f8aa0",
   "metadata": {
    "execution": {
     "iopub.execute_input": "2022-04-15T21:53:27.336888Z",
     "iopub.status.busy": "2022-04-15T21:53:27.281870Z",
     "iopub.status.idle": "2022-04-15T21:53:28.947562Z",
     "shell.execute_reply": "2022-04-15T21:53:28.948103Z",
     "shell.execute_reply.started": "2022-04-15T21:52:45.620829Z"
    },
    "papermill": {
     "duration": 1.778922,
     "end_time": "2022-04-15T21:53:28.948336",
     "exception": false,
     "start_time": "2022-04-15T21:53:27.169414",
     "status": "completed"
    },
    "tags": []
   },
   "outputs": [
    {
     "name": "stdout",
     "output_type": "stream",
     "text": [
      "74.29524933530688\n"
     ]
    },
    {
     "name": "stderr",
     "output_type": "stream",
     "text": [
      "/opt/conda/lib/python3.7/site-packages/ipykernel_launcher.py:1: FutureWarning:\n",
      "\n",
      "Dropping invalid columns in DataFrameGroupBy.max is deprecated. In a future version, a TypeError will be raised. Before calling .max, select only columns which should be valid for the function.\n",
      "\n"
     ]
    },
    {
     "data": {
      "text/html": [
       "<div>\n",
       "<style scoped>\n",
       "    .dataframe tbody tr th:only-of-type {\n",
       "        vertical-align: middle;\n",
       "    }\n",
       "\n",
       "    .dataframe tbody tr th {\n",
       "        vertical-align: top;\n",
       "    }\n",
       "\n",
       "    .dataframe thead th {\n",
       "        text-align: right;\n",
       "    }\n",
       "</style>\n",
       "<table border=\"1\" class=\"dataframe\">\n",
       "  <thead>\n",
       "    <tr style=\"text-align: right;\">\n",
       "      <th></th>\n",
       "      <th>fastestLap</th>\n",
       "      <th>laps</th>\n",
       "      <th>fastestLapRacePct</th>\n",
       "    </tr>\n",
       "    <tr>\n",
       "      <th>circuitName</th>\n",
       "      <th></th>\n",
       "      <th></th>\n",
       "      <th></th>\n",
       "    </tr>\n",
       "  </thead>\n",
       "  <tbody>\n",
       "    <tr>\n",
       "      <th>Circuit de Spa-Francorchamps</th>\n",
       "      <td>31.909388</td>\n",
       "      <td>44</td>\n",
       "      <td>72.521336</td>\n",
       "    </tr>\n",
       "    <tr>\n",
       "      <th>Suzuka Circuit</th>\n",
       "      <td>37.570010</td>\n",
       "      <td>53</td>\n",
       "      <td>70.886811</td>\n",
       "    </tr>\n",
       "    <tr>\n",
       "      <th>Circuit de Nevers Magny-Cours</th>\n",
       "      <td>37.938336</td>\n",
       "      <td>72</td>\n",
       "      <td>52.692133</td>\n",
       "    </tr>\n",
       "    <tr>\n",
       "      <th>Silverstone Circuit</th>\n",
       "      <td>38.947070</td>\n",
       "      <td>61</td>\n",
       "      <td>63.847656</td>\n",
       "    </tr>\n",
       "    <tr>\n",
       "      <th>Sepang International Circuit</th>\n",
       "      <td>39.212734</td>\n",
       "      <td>56</td>\n",
       "      <td>70.022739</td>\n",
       "    </tr>\n",
       "    <tr>\n",
       "      <th>Bahrain International Circuit</th>\n",
       "      <td>40.050483</td>\n",
       "      <td>87</td>\n",
       "      <td>46.035038</td>\n",
       "    </tr>\n",
       "    <tr>\n",
       "      <th>Shanghai International Circuit</th>\n",
       "      <td>40.734429</td>\n",
       "      <td>56</td>\n",
       "      <td>72.740052</td>\n",
       "    </tr>\n",
       "    <tr>\n",
       "      <th>Nürburgring</th>\n",
       "      <td>41.402996</td>\n",
       "      <td>67</td>\n",
       "      <td>61.795516</td>\n",
       "    </tr>\n",
       "    <tr>\n",
       "      <th>Fuji Speedway</th>\n",
       "      <td>41.530085</td>\n",
       "      <td>67</td>\n",
       "      <td>61.985201</td>\n",
       "    </tr>\n",
       "    <tr>\n",
       "      <th>Autodromo Nazionale di Monza</th>\n",
       "      <td>41.867641</td>\n",
       "      <td>53</td>\n",
       "      <td>78.995550</td>\n",
       "    </tr>\n",
       "    <tr>\n",
       "      <th>Indianapolis Motor Speedway</th>\n",
       "      <td>41.980166</td>\n",
       "      <td>73</td>\n",
       "      <td>57.507076</td>\n",
       "    </tr>\n",
       "    <tr>\n",
       "      <th>Albert Park Grand Prix Circuit</th>\n",
       "      <td>42.096978</td>\n",
       "      <td>58</td>\n",
       "      <td>72.580997</td>\n",
       "    </tr>\n",
       "    <tr>\n",
       "      <th>Baku City Circuit</th>\n",
       "      <td>42.287710</td>\n",
       "      <td>51</td>\n",
       "      <td>82.917079</td>\n",
       "    </tr>\n",
       "    <tr>\n",
       "      <th>Jeddah Corniche Circuit</th>\n",
       "      <td>42.853349</td>\n",
       "      <td>50</td>\n",
       "      <td>85.706699</td>\n",
       "    </tr>\n",
       "    <tr>\n",
       "      <th>Autodromo Enzo e Dino Ferrari</th>\n",
       "      <td>43.039158</td>\n",
       "      <td>63</td>\n",
       "      <td>68.316124</td>\n",
       "    </tr>\n",
       "    <tr>\n",
       "      <th>Marina Bay Street Circuit</th>\n",
       "      <td>43.385013</td>\n",
       "      <td>61</td>\n",
       "      <td>71.122973</td>\n",
       "    </tr>\n",
       "    <tr>\n",
       "      <th>Circuit Paul Ricard</th>\n",
       "      <td>43.421386</td>\n",
       "      <td>53</td>\n",
       "      <td>81.927143</td>\n",
       "    </tr>\n",
       "    <tr>\n",
       "      <th>Circuit of the Americas</th>\n",
       "      <td>43.594118</td>\n",
       "      <td>56</td>\n",
       "      <td>77.846639</td>\n",
       "    </tr>\n",
       "    <tr>\n",
       "      <th>Valencia Street Circuit</th>\n",
       "      <td>45.005052</td>\n",
       "      <td>57</td>\n",
       "      <td>78.956232</td>\n",
       "    </tr>\n",
       "    <tr>\n",
       "      <th>Yas Marina Circuit</th>\n",
       "      <td>45.362499</td>\n",
       "      <td>58</td>\n",
       "      <td>78.211205</td>\n",
       "    </tr>\n",
       "    <tr>\n",
       "      <th>Sochi Autodrom</th>\n",
       "      <td>45.375285</td>\n",
       "      <td>53</td>\n",
       "      <td>85.613746</td>\n",
       "    </tr>\n",
       "    <tr>\n",
       "      <th>Istanbul Park</th>\n",
       "      <td>45.413307</td>\n",
       "      <td>58</td>\n",
       "      <td>78.298805</td>\n",
       "    </tr>\n",
       "    <tr>\n",
       "      <th>Korean International Circuit</th>\n",
       "      <td>46.030806</td>\n",
       "      <td>55</td>\n",
       "      <td>83.692375</td>\n",
       "    </tr>\n",
       "    <tr>\n",
       "      <th>Circuit de Barcelona-Catalunya</th>\n",
       "      <td>46.488136</td>\n",
       "      <td>66</td>\n",
       "      <td>70.436570</td>\n",
       "    </tr>\n",
       "    <tr>\n",
       "      <th>Hockenheimring</th>\n",
       "      <td>47.523015</td>\n",
       "      <td>67</td>\n",
       "      <td>70.929872</td>\n",
       "    </tr>\n",
       "    <tr>\n",
       "      <th>Losail International Circuit</th>\n",
       "      <td>48.478417</td>\n",
       "      <td>57</td>\n",
       "      <td>85.049855</td>\n",
       "    </tr>\n",
       "    <tr>\n",
       "      <th>Circuit Gilles Villeneuve</th>\n",
       "      <td>51.642546</td>\n",
       "      <td>70</td>\n",
       "      <td>73.775065</td>\n",
       "    </tr>\n",
       "    <tr>\n",
       "      <th>Autódromo José Carlos Pace</th>\n",
       "      <td>52.787072</td>\n",
       "      <td>72</td>\n",
       "      <td>73.315377</td>\n",
       "    </tr>\n",
       "    <tr>\n",
       "      <th>Circuit de Monaco</th>\n",
       "      <td>53.055713</td>\n",
       "      <td>78</td>\n",
       "      <td>68.020145</td>\n",
       "    </tr>\n",
       "    <tr>\n",
       "      <th>Autodromo Internazionale del Mugello</th>\n",
       "      <td>53.488432</td>\n",
       "      <td>59</td>\n",
       "      <td>90.658359</td>\n",
       "    </tr>\n",
       "    <tr>\n",
       "      <th>Circuit Park Zandvoort</th>\n",
       "      <td>54.023512</td>\n",
       "      <td>72</td>\n",
       "      <td>75.032656</td>\n",
       "    </tr>\n",
       "    <tr>\n",
       "      <th>Hungaroring</th>\n",
       "      <td>54.126236</td>\n",
       "      <td>77</td>\n",
       "      <td>70.293813</td>\n",
       "    </tr>\n",
       "    <tr>\n",
       "      <th>Buddh International Circuit</th>\n",
       "      <td>54.544219</td>\n",
       "      <td>60</td>\n",
       "      <td>90.907032</td>\n",
       "    </tr>\n",
       "    <tr>\n",
       "      <th>Autódromo Hermanos Rodríguez</th>\n",
       "      <td>57.355584</td>\n",
       "      <td>71</td>\n",
       "      <td>80.782513</td>\n",
       "    </tr>\n",
       "    <tr>\n",
       "      <th>Red Bull Ring</th>\n",
       "      <td>57.643394</td>\n",
       "      <td>71</td>\n",
       "      <td>81.187880</td>\n",
       "    </tr>\n",
       "    <tr>\n",
       "      <th>Autódromo Internacional do Algarve</th>\n",
       "      <td>59.413670</td>\n",
       "      <td>66</td>\n",
       "      <td>90.020713</td>\n",
       "    </tr>\n",
       "    <tr>\n",
       "      <th>A1-Ring</th>\n",
       "      <td>NaN</td>\n",
       "      <td>71</td>\n",
       "      <td>NaN</td>\n",
       "    </tr>\n",
       "    <tr>\n",
       "      <th>Autódromo Juan y Oscar Gálvez</th>\n",
       "      <td>NaN</td>\n",
       "      <td>72</td>\n",
       "      <td>NaN</td>\n",
       "    </tr>\n",
       "    <tr>\n",
       "      <th>Autódromo do Estoril</th>\n",
       "      <td>NaN</td>\n",
       "      <td>70</td>\n",
       "      <td>NaN</td>\n",
       "    </tr>\n",
       "    <tr>\n",
       "      <th>Circuito de Jerez</th>\n",
       "      <td>NaN</td>\n",
       "      <td>69</td>\n",
       "      <td>NaN</td>\n",
       "    </tr>\n",
       "  </tbody>\n",
       "</table>\n",
       "</div>"
      ],
      "text/plain": [
       "                                      fastestLap  laps  fastestLapRacePct\n",
       "circuitName                                                              \n",
       "Circuit de Spa-Francorchamps           31.909388    44          72.521336\n",
       "Suzuka Circuit                         37.570010    53          70.886811\n",
       "Circuit de Nevers Magny-Cours          37.938336    72          52.692133\n",
       "Silverstone Circuit                    38.947070    61          63.847656\n",
       "Sepang International Circuit           39.212734    56          70.022739\n",
       "Bahrain International Circuit          40.050483    87          46.035038\n",
       "Shanghai International Circuit         40.734429    56          72.740052\n",
       "Nürburgring                            41.402996    67          61.795516\n",
       "Fuji Speedway                          41.530085    67          61.985201\n",
       "Autodromo Nazionale di Monza           41.867641    53          78.995550\n",
       "Indianapolis Motor Speedway            41.980166    73          57.507076\n",
       "Albert Park Grand Prix Circuit         42.096978    58          72.580997\n",
       "Baku City Circuit                      42.287710    51          82.917079\n",
       "Jeddah Corniche Circuit                42.853349    50          85.706699\n",
       "Autodromo Enzo e Dino Ferrari          43.039158    63          68.316124\n",
       "Marina Bay Street Circuit              43.385013    61          71.122973\n",
       "Circuit Paul Ricard                    43.421386    53          81.927143\n",
       "Circuit of the Americas                43.594118    56          77.846639\n",
       "Valencia Street Circuit                45.005052    57          78.956232\n",
       "Yas Marina Circuit                     45.362499    58          78.211205\n",
       "Sochi Autodrom                         45.375285    53          85.613746\n",
       "Istanbul Park                          45.413307    58          78.298805\n",
       "Korean International Circuit           46.030806    55          83.692375\n",
       "Circuit de Barcelona-Catalunya         46.488136    66          70.436570\n",
       "Hockenheimring                         47.523015    67          70.929872\n",
       "Losail International Circuit           48.478417    57          85.049855\n",
       "Circuit Gilles Villeneuve              51.642546    70          73.775065\n",
       "Autódromo José Carlos Pace             52.787072    72          73.315377\n",
       "Circuit de Monaco                      53.055713    78          68.020145\n",
       "Autodromo Internazionale del Mugello   53.488432    59          90.658359\n",
       "Circuit Park Zandvoort                 54.023512    72          75.032656\n",
       "Hungaroring                            54.126236    77          70.293813\n",
       "Buddh International Circuit            54.544219    60          90.907032\n",
       "Autódromo Hermanos Rodríguez           57.355584    71          80.782513\n",
       "Red Bull Ring                          57.643394    71          81.187880\n",
       "Autódromo Internacional do Algarve     59.413670    66          90.020713\n",
       "A1-Ring                                      NaN    71                NaN\n",
       "Autódromo Juan y Oscar Gálvez                NaN    72                NaN\n",
       "Autódromo do Estoril                         NaN    70                NaN\n",
       "Circuito de Jerez                            NaN    69                NaN"
      ]
     },
     "execution_count": 13,
     "metadata": {},
     "output_type": "execute_result"
    }
   ],
   "source": [
    "df_temp = pd.merge(lapTimesAnalysis.groupby(by=['circuitName']).mean().sort_values(by='fastestLap',ascending=True)['fastestLap'],lapTimesAnalysis.groupby(by=['circuitName']).max().sort_values(by='fastestLap',ascending=True)['laps'],left_index=True,right_index=True, how='inner')\n",
    "df_temp['fastestLapRacePct'] = df_temp['fastestLap']/df_temp['laps']*100\n",
    "print(df_temp['fastestLapRacePct'].mean())\n",
    "df_temp"
   ]
  },
  {
   "cell_type": "code",
   "execution_count": 14,
   "id": "448ecc13",
   "metadata": {
    "execution": {
     "iopub.execute_input": "2022-04-15T21:53:29.010443Z",
     "iopub.status.busy": "2022-04-15T21:53:29.009500Z",
     "iopub.status.idle": "2022-04-15T21:53:29.057282Z",
     "shell.execute_reply": "2022-04-15T21:53:29.057732Z",
     "shell.execute_reply.started": "2022-04-15T21:52:48.254509Z"
    },
    "papermill": {
     "duration": 0.082172,
     "end_time": "2022-04-15T21:53:29.057895",
     "exception": false,
     "start_time": "2022-04-15T21:53:28.975723",
     "status": "completed"
    },
    "tags": []
   },
   "outputs": [
    {
     "data": {
      "text/html": [
       "<div>                            <div id=\"857453c7-1df0-4d08-963b-77b27d02064e\" class=\"plotly-graph-div\" style=\"height:525px; width:100%;\"></div>            <script type=\"text/javascript\">                require([\"plotly\"], function(Plotly) {                    window.PLOTLYENV=window.PLOTLYENV || {};                                    if (document.getElementById(\"857453c7-1df0-4d08-963b-77b27d02064e\")) {                    Plotly.newPlot(                        \"857453c7-1df0-4d08-963b-77b27d02064e\",                        [{\"alignmentgroup\":\"True\",\"bingroup\":\"x\",\"hovertemplate\":\"fastestLapRacePct=%{x}<br>count=%{y}<extra></extra>\",\"legendgroup\":\"\",\"marker\":{\"color\":\"#636efa\",\"pattern\":{\"shape\":\"\"}},\"name\":\"\",\"offsetgroup\":\"\",\"orientation\":\"v\",\"showlegend\":false,\"x\":[72.52133625061582,70.88681118959734,52.69213290685683,63.847655644736435,70.02273933726698,46.03503833475314,72.74005226077466,61.79551575145569,61.98520111307868,78.99554960901872,57.50707640899616,72.58099736091788,82.917078641105,85.70669885334942,68.31612425391016,71.12297292614407,81.9271429110153,77.84663865546219,78.95623194057897,78.21120532903961,85.61374608766172,78.29880525483932,83.6923749180686,70.43656979471234,70.92987240424496,85.04985485295974,73.77506525866161,73.31537716684386,68.020145355316,90.65835911289268,75.03265572699812,70.29381303170953,90.90703249866809,80.78251256100741,81.18787951025381,90.02071285753624,null,null,null,null],\"xaxis\":\"x\",\"yaxis\":\"y\",\"type\":\"histogram\",\"opacity\":0.65}],                        {\"template\":{\"data\":{\"bar\":[{\"error_x\":{\"color\":\"#2a3f5f\"},\"error_y\":{\"color\":\"#2a3f5f\"},\"marker\":{\"line\":{\"color\":\"#E5ECF6\",\"width\":0.5},\"pattern\":{\"fillmode\":\"overlay\",\"size\":10,\"solidity\":0.2}},\"type\":\"bar\"}],\"barpolar\":[{\"marker\":{\"line\":{\"color\":\"#E5ECF6\",\"width\":0.5},\"pattern\":{\"fillmode\":\"overlay\",\"size\":10,\"solidity\":0.2}},\"type\":\"barpolar\"}],\"carpet\":[{\"aaxis\":{\"endlinecolor\":\"#2a3f5f\",\"gridcolor\":\"white\",\"linecolor\":\"white\",\"minorgridcolor\":\"white\",\"startlinecolor\":\"#2a3f5f\"},\"baxis\":{\"endlinecolor\":\"#2a3f5f\",\"gridcolor\":\"white\",\"linecolor\":\"white\",\"minorgridcolor\":\"white\",\"startlinecolor\":\"#2a3f5f\"},\"type\":\"carpet\"}],\"choropleth\":[{\"colorbar\":{\"outlinewidth\":0,\"ticks\":\"\"},\"type\":\"choropleth\"}],\"contour\":[{\"colorbar\":{\"outlinewidth\":0,\"ticks\":\"\"},\"colorscale\":[[0.0,\"#0d0887\"],[0.1111111111111111,\"#46039f\"],[0.2222222222222222,\"#7201a8\"],[0.3333333333333333,\"#9c179e\"],[0.4444444444444444,\"#bd3786\"],[0.5555555555555556,\"#d8576b\"],[0.6666666666666666,\"#ed7953\"],[0.7777777777777778,\"#fb9f3a\"],[0.8888888888888888,\"#fdca26\"],[1.0,\"#f0f921\"]],\"type\":\"contour\"}],\"contourcarpet\":[{\"colorbar\":{\"outlinewidth\":0,\"ticks\":\"\"},\"type\":\"contourcarpet\"}],\"heatmap\":[{\"colorbar\":{\"outlinewidth\":0,\"ticks\":\"\"},\"colorscale\":[[0.0,\"#0d0887\"],[0.1111111111111111,\"#46039f\"],[0.2222222222222222,\"#7201a8\"],[0.3333333333333333,\"#9c179e\"],[0.4444444444444444,\"#bd3786\"],[0.5555555555555556,\"#d8576b\"],[0.6666666666666666,\"#ed7953\"],[0.7777777777777778,\"#fb9f3a\"],[0.8888888888888888,\"#fdca26\"],[1.0,\"#f0f921\"]],\"type\":\"heatmap\"}],\"heatmapgl\":[{\"colorbar\":{\"outlinewidth\":0,\"ticks\":\"\"},\"colorscale\":[[0.0,\"#0d0887\"],[0.1111111111111111,\"#46039f\"],[0.2222222222222222,\"#7201a8\"],[0.3333333333333333,\"#9c179e\"],[0.4444444444444444,\"#bd3786\"],[0.5555555555555556,\"#d8576b\"],[0.6666666666666666,\"#ed7953\"],[0.7777777777777778,\"#fb9f3a\"],[0.8888888888888888,\"#fdca26\"],[1.0,\"#f0f921\"]],\"type\":\"heatmapgl\"}],\"histogram\":[{\"marker\":{\"pattern\":{\"fillmode\":\"overlay\",\"size\":10,\"solidity\":0.2}},\"type\":\"histogram\"}],\"histogram2d\":[{\"colorbar\":{\"outlinewidth\":0,\"ticks\":\"\"},\"colorscale\":[[0.0,\"#0d0887\"],[0.1111111111111111,\"#46039f\"],[0.2222222222222222,\"#7201a8\"],[0.3333333333333333,\"#9c179e\"],[0.4444444444444444,\"#bd3786\"],[0.5555555555555556,\"#d8576b\"],[0.6666666666666666,\"#ed7953\"],[0.7777777777777778,\"#fb9f3a\"],[0.8888888888888888,\"#fdca26\"],[1.0,\"#f0f921\"]],\"type\":\"histogram2d\"}],\"histogram2dcontour\":[{\"colorbar\":{\"outlinewidth\":0,\"ticks\":\"\"},\"colorscale\":[[0.0,\"#0d0887\"],[0.1111111111111111,\"#46039f\"],[0.2222222222222222,\"#7201a8\"],[0.3333333333333333,\"#9c179e\"],[0.4444444444444444,\"#bd3786\"],[0.5555555555555556,\"#d8576b\"],[0.6666666666666666,\"#ed7953\"],[0.7777777777777778,\"#fb9f3a\"],[0.8888888888888888,\"#fdca26\"],[1.0,\"#f0f921\"]],\"type\":\"histogram2dcontour\"}],\"mesh3d\":[{\"colorbar\":{\"outlinewidth\":0,\"ticks\":\"\"},\"type\":\"mesh3d\"}],\"parcoords\":[{\"line\":{\"colorbar\":{\"outlinewidth\":0,\"ticks\":\"\"}},\"type\":\"parcoords\"}],\"pie\":[{\"automargin\":true,\"type\":\"pie\"}],\"scatter\":[{\"marker\":{\"colorbar\":{\"outlinewidth\":0,\"ticks\":\"\"}},\"type\":\"scatter\"}],\"scatter3d\":[{\"line\":{\"colorbar\":{\"outlinewidth\":0,\"ticks\":\"\"}},\"marker\":{\"colorbar\":{\"outlinewidth\":0,\"ticks\":\"\"}},\"type\":\"scatter3d\"}],\"scattercarpet\":[{\"marker\":{\"colorbar\":{\"outlinewidth\":0,\"ticks\":\"\"}},\"type\":\"scattercarpet\"}],\"scattergeo\":[{\"marker\":{\"colorbar\":{\"outlinewidth\":0,\"ticks\":\"\"}},\"type\":\"scattergeo\"}],\"scattergl\":[{\"marker\":{\"colorbar\":{\"outlinewidth\":0,\"ticks\":\"\"}},\"type\":\"scattergl\"}],\"scattermapbox\":[{\"marker\":{\"colorbar\":{\"outlinewidth\":0,\"ticks\":\"\"}},\"type\":\"scattermapbox\"}],\"scatterpolar\":[{\"marker\":{\"colorbar\":{\"outlinewidth\":0,\"ticks\":\"\"}},\"type\":\"scatterpolar\"}],\"scatterpolargl\":[{\"marker\":{\"colorbar\":{\"outlinewidth\":0,\"ticks\":\"\"}},\"type\":\"scatterpolargl\"}],\"scatterternary\":[{\"marker\":{\"colorbar\":{\"outlinewidth\":0,\"ticks\":\"\"}},\"type\":\"scatterternary\"}],\"surface\":[{\"colorbar\":{\"outlinewidth\":0,\"ticks\":\"\"},\"colorscale\":[[0.0,\"#0d0887\"],[0.1111111111111111,\"#46039f\"],[0.2222222222222222,\"#7201a8\"],[0.3333333333333333,\"#9c179e\"],[0.4444444444444444,\"#bd3786\"],[0.5555555555555556,\"#d8576b\"],[0.6666666666666666,\"#ed7953\"],[0.7777777777777778,\"#fb9f3a\"],[0.8888888888888888,\"#fdca26\"],[1.0,\"#f0f921\"]],\"type\":\"surface\"}],\"table\":[{\"cells\":{\"fill\":{\"color\":\"#EBF0F8\"},\"line\":{\"color\":\"white\"}},\"header\":{\"fill\":{\"color\":\"#C8D4E3\"},\"line\":{\"color\":\"white\"}},\"type\":\"table\"}]},\"layout\":{\"annotationdefaults\":{\"arrowcolor\":\"#2a3f5f\",\"arrowhead\":0,\"arrowwidth\":1},\"autotypenumbers\":\"strict\",\"coloraxis\":{\"colorbar\":{\"outlinewidth\":0,\"ticks\":\"\"}},\"colorscale\":{\"diverging\":[[0,\"#8e0152\"],[0.1,\"#c51b7d\"],[0.2,\"#de77ae\"],[0.3,\"#f1b6da\"],[0.4,\"#fde0ef\"],[0.5,\"#f7f7f7\"],[0.6,\"#e6f5d0\"],[0.7,\"#b8e186\"],[0.8,\"#7fbc41\"],[0.9,\"#4d9221\"],[1,\"#276419\"]],\"sequential\":[[0.0,\"#0d0887\"],[0.1111111111111111,\"#46039f\"],[0.2222222222222222,\"#7201a8\"],[0.3333333333333333,\"#9c179e\"],[0.4444444444444444,\"#bd3786\"],[0.5555555555555556,\"#d8576b\"],[0.6666666666666666,\"#ed7953\"],[0.7777777777777778,\"#fb9f3a\"],[0.8888888888888888,\"#fdca26\"],[1.0,\"#f0f921\"]],\"sequentialminus\":[[0.0,\"#0d0887\"],[0.1111111111111111,\"#46039f\"],[0.2222222222222222,\"#7201a8\"],[0.3333333333333333,\"#9c179e\"],[0.4444444444444444,\"#bd3786\"],[0.5555555555555556,\"#d8576b\"],[0.6666666666666666,\"#ed7953\"],[0.7777777777777778,\"#fb9f3a\"],[0.8888888888888888,\"#fdca26\"],[1.0,\"#f0f921\"]]},\"colorway\":[\"#636efa\",\"#EF553B\",\"#00cc96\",\"#ab63fa\",\"#FFA15A\",\"#19d3f3\",\"#FF6692\",\"#B6E880\",\"#FF97FF\",\"#FECB52\"],\"font\":{\"color\":\"#2a3f5f\"},\"geo\":{\"bgcolor\":\"white\",\"lakecolor\":\"white\",\"landcolor\":\"#E5ECF6\",\"showlakes\":true,\"showland\":true,\"subunitcolor\":\"white\"},\"hoverlabel\":{\"align\":\"left\"},\"hovermode\":\"closest\",\"mapbox\":{\"style\":\"light\"},\"paper_bgcolor\":\"white\",\"plot_bgcolor\":\"#E5ECF6\",\"polar\":{\"angularaxis\":{\"gridcolor\":\"white\",\"linecolor\":\"white\",\"ticks\":\"\"},\"bgcolor\":\"#E5ECF6\",\"radialaxis\":{\"gridcolor\":\"white\",\"linecolor\":\"white\",\"ticks\":\"\"}},\"scene\":{\"xaxis\":{\"backgroundcolor\":\"#E5ECF6\",\"gridcolor\":\"white\",\"gridwidth\":2,\"linecolor\":\"white\",\"showbackground\":true,\"ticks\":\"\",\"zerolinecolor\":\"white\"},\"yaxis\":{\"backgroundcolor\":\"#E5ECF6\",\"gridcolor\":\"white\",\"gridwidth\":2,\"linecolor\":\"white\",\"showbackground\":true,\"ticks\":\"\",\"zerolinecolor\":\"white\"},\"zaxis\":{\"backgroundcolor\":\"#E5ECF6\",\"gridcolor\":\"white\",\"gridwidth\":2,\"linecolor\":\"white\",\"showbackground\":true,\"ticks\":\"\",\"zerolinecolor\":\"white\"}},\"shapedefaults\":{\"line\":{\"color\":\"#2a3f5f\"}},\"ternary\":{\"aaxis\":{\"gridcolor\":\"white\",\"linecolor\":\"white\",\"ticks\":\"\"},\"baxis\":{\"gridcolor\":\"white\",\"linecolor\":\"white\",\"ticks\":\"\"},\"bgcolor\":\"#E5ECF6\",\"caxis\":{\"gridcolor\":\"white\",\"linecolor\":\"white\",\"ticks\":\"\"}},\"title\":{\"x\":0.05},\"xaxis\":{\"automargin\":true,\"gridcolor\":\"white\",\"linecolor\":\"white\",\"ticks\":\"\",\"title\":{\"standoff\":15},\"zerolinecolor\":\"white\",\"zerolinewidth\":2},\"yaxis\":{\"automargin\":true,\"gridcolor\":\"white\",\"linecolor\":\"white\",\"ticks\":\"\",\"title\":{\"standoff\":15},\"zerolinecolor\":\"white\",\"zerolinewidth\":2}}},\"xaxis\":{\"anchor\":\"y\",\"domain\":[0.0,1.0],\"title\":{\"text\":\"fastestLapRacePct\"}},\"yaxis\":{\"anchor\":\"x\",\"domain\":[0.0,1.0],\"title\":{\"text\":\"count\"}},\"legend\":{\"tracegroupgap\":0},\"margin\":{\"t\":60},\"barmode\":\"overlay\",\"title\":{\"text\":\"Fastest Lap Time Lap Distribution\"}},                        {\"responsive\": true}                    ).then(function(){\n",
       "                            \n",
       "var gd = document.getElementById('857453c7-1df0-4d08-963b-77b27d02064e');\n",
       "var x = new MutationObserver(function (mutations, observer) {{\n",
       "        var display = window.getComputedStyle(gd).display;\n",
       "        if (!display || display === 'none') {{\n",
       "            console.log([gd, 'removed!']);\n",
       "            Plotly.purge(gd);\n",
       "            observer.disconnect();\n",
       "        }}\n",
       "}});\n",
       "\n",
       "// Listen for the removal of the full notebook cells\n",
       "var notebookContainer = gd.closest('#notebook-container');\n",
       "if (notebookContainer) {{\n",
       "    x.observe(notebookContainer, {childList: true});\n",
       "}}\n",
       "\n",
       "// Listen for the clearing of the current output cell\n",
       "var outputEl = gd.closest('.output');\n",
       "if (outputEl) {{\n",
       "    x.observe(outputEl, {childList: true});\n",
       "}}\n",
       "\n",
       "                        })                };                });            </script>        </div>"
      ]
     },
     "metadata": {},
     "output_type": "display_data"
    }
   ],
   "source": [
    "# create figure\n",
    "fig = px.histogram(df_temp,\n",
    "                   x='fastestLapRacePct',\n",
    "                  )\n",
    "\n",
    "fig.update_layout(\n",
    "    title_text=f'Fastest Lap Time Lap Distribution',\n",
    "    barmode='overlay',\n",
    ")\n",
    "\n",
    "fig.update_traces(opacity=0.65)\n",
    "fig.show()"
   ]
  },
  {
   "cell_type": "markdown",
   "id": "5ba98ba2",
   "metadata": {
    "papermill": {
     "duration": 0.027404,
     "end_time": "2022-04-15T21:53:29.112625",
     "exception": false,
     "start_time": "2022-04-15T21:53:29.085221",
     "status": "completed"
    },
    "tags": []
   },
   "source": [
    "# Conclusions\n",
    "\n",
    "We set out initially to explore the lap time data of the F1 races available in the dataset. Going temporally through the year does not glean much information since lap time data is highly dependent on the circuit being raced on. Fixing the track, one can see slightly more meaningful result when comparing them year to year. \n",
    "\n",
    "## How have lap times changed over the years?\n",
    "Generally speaking the lap times decrease over time, but have behaviours where lap times jump up. Looking at the behaviour, it leads me to believe they are step changes related to rule changes in F1. In particular, you can see a meaningful increase in the lap times especially going from 2021 to 2022 in large part to the major design changes implemented.\n",
    "\n",
    "## How do lap times change over the course of a season?\n",
    "Yes. The changes however are largely due the track and not much can really be said about this particular question.\n",
    "\n",
    "## How do lap times change through an entire race?\n",
    "As expected, lap times decrease as we progress through the race as fuel weight goes down.\n",
    "\n",
    "## When can we expect to see the fastest lap in a race?\n",
    "The fastest lap typically occurs about 74% into a race. For good reason, the cars are running on lower fuel and depending on the current standings teams opt different strategies to gain the extra point from having the fastest lap in the race."
   ]
  }
 ],
 "metadata": {
  "kernelspec": {
   "display_name": "base",
   "language": "python",
   "name": "python3"
  },
  "language_info": {
   "codemirror_mode": {
    "name": "ipython",
    "version": 3
   },
   "file_extension": ".py",
   "mimetype": "text/x-python",
   "name": "python",
   "nbconvert_exporter": "python",
   "pygments_lexer": "ipython3",
   "version": "3.9.13"
  },
  "papermill": {
   "default_parameters": {},
   "duration": 20.475666,
   "end_time": "2022-04-15T21:53:29.949508",
   "environment_variables": {},
   "exception": null,
   "input_path": "__notebook__.ipynb",
   "output_path": "__notebook__.ipynb",
   "parameters": {},
   "start_time": "2022-04-15T21:53:09.473842",
   "version": "2.3.3"
  },
  "vscode": {
   "interpreter": {
    "hash": "98443410f2ec62678dab1da8a5af18dbd896104aaf66cdbd9552a59d8c7ad938"
   }
  }
 },
 "nbformat": 4,
 "nbformat_minor": 5
}
